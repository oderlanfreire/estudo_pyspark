{
 "cells": [
  {
   "cell_type": "markdown",
   "metadata": {},
   "source": [
    "## Window Function"
   ]
  },
  {
   "cell_type": "code",
   "execution_count": 1,
   "metadata": {},
   "outputs": [],
   "source": [
    "from pyspark.sql import SparkSession\n",
    "from pyspark.sql.functions import *\n",
    "from pyspark.sql.types import *\n",
    "from pyspark.sql.window import Window\n"
   ]
  },
  {
   "cell_type": "markdown",
   "metadata": {},
   "source": [
    "### Criar/Iniciar sessão do pyspark"
   ]
  },
  {
   "cell_type": "code",
   "execution_count": 2,
   "metadata": {},
   "outputs": [],
   "source": [
    "spark = (\n",
    "    SparkSession.builder\n",
    "    .master('local')\n",
    "    .appName('aula02')\n",
    "    .getOrCreate()\n",
    ")"
   ]
  },
  {
   "cell_type": "code",
   "execution_count": 3,
   "metadata": {},
   "outputs": [],
   "source": [
    "df = spark.read.csv('../datasets/equipamentos.csv', header=True, inferSchema=True, sep=',')"
   ]
  },
  {
   "cell_type": "code",
   "execution_count": 4,
   "metadata": {},
   "outputs": [
    {
     "name": "stdout",
     "output_type": "stream",
     "text": [
      "+--------------+------+---+-------+--------------------+-----------+--------+--------------------+------+---------------+--------------------+-------------+--------+--------------------+--------------------+\n",
      "|id_equipamento|  ibge| uf| cidade|                nome|responsavel|telefone|            endereco|numero|    complemento|          referencia|       bairro|     cep|     georef_location|    data_atualizacao|\n",
      "+--------------+------+---+-------+--------------------+-----------+--------+--------------------+------+---------------+--------------------+-------------+--------+--------------------+--------------------+\n",
      "|   23001006462|230010| CE|Abaiara|       CRAS I - SEDE|       NULL|    NULL|JOAQUIM LEITE DA ...|   268|           NULL|PRÓXIMO A SECRETA...|       CENTRO|63240000|-7.36175927968484...|2024-05-09 01:00:...|\n",
      "|   23001020547|230010| CE|Abaiara|             CRAS II|       NULL|    NULL|CE 393, SITIO BRE...|     0|           NULL|PRÓXIMO A CAPELA ...|Vila São José|63240000|-7.34850646703843...|2024-05-09 01:00:...|\n",
      "|   23001502777|230015| CE|Acarapé|           CRAS sede|       NULL|    NULL|    CHICO VIEIRA - 0|     0|sem complemento|       PROX DO FORUM|       Centro|62785000|-4.22419842902805...|2024-05-09 00:59:...|\n",
      "|   23002002823|230020| CE| Acaraú|             CRAS II|       NULL|    NULL|Avenida Padre Ant...|  2540|           NULL|ANTIGO PÓLO DE CO...|  MORADA NOVA|62580000|-2.89813550003027...|2024-05-09 01:00:...|\n",
      "|   23002002825|230020| CE| Acaraú|CRAS SAMUEL ANDER...|       NULL|    NULL|SANTO ANTONIO - 1178|  1178|           NULL|     vizinho ao INSS|       CENTRO|62580000|-2.88282811958340...|2024-05-09 01:00:...|\n",
      "+--------------+------+---+-------+--------------------+-----------+--------+--------------------+------+---------------+--------------------+-------------+--------+--------------------+--------------------+\n",
      "only showing top 5 rows\n",
      "\n"
     ]
    }
   ],
   "source": [
    "df.show(5)"
   ]
  },
  {
   "cell_type": "code",
   "execution_count": 5,
   "metadata": {},
   "outputs": [
    {
     "name": "stdout",
     "output_type": "stream",
     "text": [
      "root\n",
      " |-- id_equipamento: long (nullable = true)\n",
      " |-- ibge: integer (nullable = true)\n",
      " |-- uf: string (nullable = true)\n",
      " |-- cidade: string (nullable = true)\n",
      " |-- nome: string (nullable = true)\n",
      " |-- responsavel: string (nullable = true)\n",
      " |-- telefone: string (nullable = true)\n",
      " |-- endereco: string (nullable = true)\n",
      " |-- numero: integer (nullable = true)\n",
      " |-- complemento: string (nullable = true)\n",
      " |-- referencia: string (nullable = true)\n",
      " |-- bairro: string (nullable = true)\n",
      " |-- cep: integer (nullable = true)\n",
      " |-- georef_location: string (nullable = true)\n",
      " |-- data_atualizacao: timestamp (nullable = true)\n",
      "\n"
     ]
    }
   ],
   "source": [
    "df.printSchema()"
   ]
  },
  {
   "cell_type": "code",
   "execution_count": 6,
   "metadata": {},
   "outputs": [
    {
     "name": "stdout",
     "output_type": "stream",
     "text": [
      "id_equipamento 0\n",
      "ibge 0\n",
      "uf 0\n",
      "cidade 0\n",
      "nome 0\n",
      "responsavel 406\n",
      "telefone 406\n",
      "endereco 0\n",
      "numero 0\n",
      "complemento 315\n",
      "referencia 135\n",
      "bairro 0\n",
      "cep 0\n",
      "georef_location 13\n",
      "data_atualizacao 0\n"
     ]
    }
   ],
   "source": [
    "for column in df.columns:\n",
    "    print(column, df.filter(df[column].isNull()).count())"
   ]
  },
  {
   "cell_type": "code",
   "execution_count": 7,
   "metadata": {},
   "outputs": [
    {
     "name": "stdout",
     "output_type": "stream",
     "text": [
      "+--------------+------+---+---------------+--------------------+-----------+--------+--------------------+------+-----------+--------------------+--------------------+--------+---------------+--------------------+\n",
      "|id_equipamento|  ibge| uf|         cidade|                nome|responsavel|telefone|            endereco|numero|complemento|          referencia|              bairro|     cep|georef_location|    data_atualizacao|\n",
      "+--------------+------+---+---------------+--------------------+-----------+--------+--------------------+------+-----------+--------------------+--------------------+--------+---------------+--------------------+\n",
      "|   23021039721|230210| CE|       Baturité|CRAS - CONSELHEIR...|       NULL|    NULL|FRANCISCO BRAGA F...|     0|       NULL|VIZINHO A SECRETA...|CONSELHEIRO ESTELITA|62760000|           NULL|2024-05-09 01:00:...|\n",
      "|   23027039321|230270| CE|   Campos Sales|CRAS - Miguel Cortez|       NULL|    NULL|Conjunto Lindalva...|     0|       NULL|                NULL|                Poço|63150000|           NULL|2024-05-09 01:00:...|\n",
      "|   23053040027|230530| CE|       Ibiapina|     CRAS ALTO LINDO|       NULL|    NULL|Rua Boa Esperança...|     0|       NULL|                NULL|          Alto Lindo|62360000|           NULL|2024-05-09 01:00:...|\n",
      "|   23056039933|230560| CE|  Independência|CRAS CARLOTA LUCI...|       NULL|    NULL|TOLENTINO ALVES V...|     0|       NULL|                NULL|               PLACA|63640000|           NULL|2024-05-09 01:00:...|\n",
      "|   23062540045|230625| CE|      Itaitinga|         CRAS JABUTI|       NULL|    NULL|RUA FRANCISCA FER...|   259|       NULL|PRÓXIMO A CRECHE ...|              JABUTI|61880000|           NULL|2024-05-09 01:00:...|\n",
      "|   23077039645|230770| CE|     Maranguape|         CRAS PROURB|       NULL|    NULL|  SOL NASCENTE  - 00|     0|       NULL|                NULL|     NOVO MARANGUAPE|61940000|           NULL|2024-05-09 01:00:...|\n",
      "|   23118039099|231180| CE|         Russas|   CRAS RURAL FLORES|       NULL|    NULL|RAIMUNDO ALVES MA...|  1730|       NULL|próximo a praça e...|              FLORES|62908500|           NULL|2024-05-09 01:00:...|\n",
      "|   23133039583|231330| CE|           Tauá|   CRAS Santa Tereza|       NULL|    NULL|JOSÉ GOMES DA SIL...|   285|       NULL|PRÓXIMO A IGREJA ...|        SANTA TEREZA|63660000|           NULL|2024-05-09 01:00:...|\n",
      "|   23133039811|231330| CE|           Tauá|     CRAS Barra Nova|       NULL|    NULL|      Bom Jesus - 00|     0|       NULL|próximo a churras...|          Barra Nova|63660000|           NULL|2024-05-09 01:00:...|\n",
      "|   23133039813|231330| CE|           Tauá|       CRAS Inhamuns|       NULL|    NULL|Maria Gorete Cava...|     0|       NULL|próximo a farmáci...|           Vera Cruz|63660000|           NULL|2024-05-09 01:00:...|\n",
      "|   23133039815|231330| CE|           Tauá|        CRAS Marrúas|       NULL|    NULL|Misael cavalcante...|     0|       NULL|    de frente a prça|             marrúas|63660000|           NULL|2024-05-09 01:00:...|\n",
      "|   23133039817|231330| CE|           Tauá|       CRAS Marrecas|       NULL|    NULL|joaquim moreira  ...|     0|       NULL|      de frenta a Br|            marrecas|63660000|           NULL|2024-05-09 01:00:...|\n",
      "|   23141039941|231410| CE|Viçosa do Ceará|        CRAS SEDE II|       NULL|    NULL|JOAO BENICIO FONT...|     0|       NULL|                NULL|       ESCOLA NORMAL|62300000|           NULL|2024-05-09 01:00:...|\n",
      "+--------------+------+---+---------------+--------------------+-----------+--------+--------------------+------+-----------+--------------------+--------------------+--------+---------------+--------------------+\n",
      "\n"
     ]
    }
   ],
   "source": [
    "df.filter(col('georef_location').isNull()).show()"
   ]
  },
  {
   "cell_type": "code",
   "execution_count": 8,
   "metadata": {},
   "outputs": [
    {
     "name": "stdout",
     "output_type": "stream",
     "text": [
      "+--------------+------+---+-----------------+--------------------+-----------+--------+--------------------+------+---------------+--------------------+--------------------+--------+--------------------+--------------------+\n",
      "|id_equipamento|  ibge| uf|           cidade|                nome|responsavel|telefone|            endereco|numero|    complemento|          referencia|              bairro|     cep|     georef_location|    data_atualizacao|\n",
      "+--------------+------+---+-----------------+--------------------+-----------+--------+--------------------+------+---------------+--------------------+--------------------+--------+--------------------+--------------------+\n",
      "|   23001006462|230010| CE|          Abaiara|       CRAS I - SEDE|       NULL|    NULL|JOAQUIM LEITE DA ...|   268|           NULL|PRÓXIMO A SECRETA...|              CENTRO|63240000|-7.36175927968484...|2024-05-09 01:00:...|\n",
      "|   23001020547|230010| CE|          Abaiara|             CRAS II|       NULL|    NULL|CE 393, SITIO BRE...|     0|           NULL|PRÓXIMO A CAPELA ...|       Vila São José|63240000|-7.34850646703843...|2024-05-09 01:00:...|\n",
      "|   23001502777|230015| CE|          Acarapé|           CRAS sede|       NULL|    NULL|    CHICO VIEIRA - 0|     0|sem complemento|       PROX DO FORUM|              Centro|62785000|-4.22419842902805...|2024-05-09 00:59:...|\n",
      "|   23002002823|230020| CE|           Acaraú|             CRAS II|       NULL|    NULL|Avenida Padre Ant...|  2540|           NULL|ANTIGO PÓLO DE CO...|         MORADA NOVA|62580000|-2.89813550003027...|2024-05-09 01:00:...|\n",
      "|   23002002825|230020| CE|           Acaraú|CRAS SAMUEL ANDER...|       NULL|    NULL|SANTO ANTONIO - 1178|  1178|           NULL|     vizinho ao INSS|              CENTRO|62580000|-2.88282811958340...|2024-05-09 01:00:...|\n",
      "|   23003002787|230030| CE|         Acopiara|CRAS I - Raimunda...|       NULL|    NULL|Francisco Pereira...|    45|           NULL|      Antiga Facomel|      Vila Esperança|63560000|-6.10027208289446...|2024-05-09 01:00:...|\n",
      "|   23003020283|230030| CE|         Acopiara|CRAS II -Antônio ...|       NULL|    NULL|  Cicero Mandu - 170|   170|           NULL|Vizinho ao Fórum ...|           Vila Nova|63560000|-6.0895114\\,-39.4...|2024-05-09 01:00:...|\n",
      "|   23003020335|230030| CE|         Acopiara|CRAS III- Maria R...|       NULL|    NULL|Manoel Ferreira d...|   815|           NULL|Próximo a padaria...|        Vila Moreira|63560000|-6.10684511547574...|2024-05-09 01:00:...|\n",
      "|   23004001073|230040| CE|           Aiuaba|CRAS ARMANDO ARRA...|       NULL|    NULL|Francisco Lourenç...|     0|           NULL|                NULL|             Caiçara|63575000|-6.56803037920169...|2024-05-09 00:59:...|\n",
      "|   23005001425|230050| CE|       Alcântaras|CENTRO DE REFERÊN...|       NULL|    NULL|Praça Gregório Cu...|   146|           NULL|Praça Gregório Cunha|          Bela Vista|62120000|-3.59474982965293...|2024-05-09 01:00:...|\n",
      "|   23006004153|230060| CE|        Altaneira|CRAS SUSTENTABILI...|       NULL|    NULL|JOÃO GONÇALVES - 614|   614|           NULL|Ao lado do ginási...|        SANTA TEREZA|63195000|-6.99798500767486...|2024-05-09 01:00:...|\n",
      "|   23006020225|230060| CE|        Altaneira|      CRAS SÃO ROMÃO|       NULL|    NULL|       SÃO ROMÃO - 0|     0|           NULL|    Perto da capela.|          ZONA RURAL|63195000|-6.97580013736995...|2024-05-09 01:00:...|\n",
      "|   23007004095|230070| CE|       Alto Santo|CRAS Casa do Cidadão|       NULL|    NULL|  Aderson Bessa - 00|     0|           NULL|Por trás Escola E...|          Dom Pompeu|62970000|-5.51473454632890...|2024-05-09 00:59:...|\n",
      "|   23007502442|230075| CE|         Amontada|CRAS - Centro de ...|       NULL|    NULL|   Antonio Tomé - 00|     0|    Zona Urbana|Próximo Comercial...|              Flores|62540000|-3.36660448896861...|2024-05-09 01:00:...|\n",
      "|   23007520531|230075| CE|         Amontada|CRAS - CENTRO DE ...|       NULL|    NULL|      Principal - 00|     0|   Zona Praiana|    padaria do Lopim|Distrito de Sabia...|62540000|-3.09046506779301...|2024-05-09 01:00:...|\n",
      "|   23008002349|230080| CE|Antonina do Norte|CRAS - Centro de ...|       NULL|    NULL|ANANIAS DE MATOS ...|   250|           Casa|Na saída para Assaré|          Serraria I|63570000|-6.77395859720326...|2024-05-09 00:59:...|\n",
      "|   23009002056|230090| CE|         Apuiarés|Centro de Referên...|       NULL|    NULL|José Lopes Filho ...|   369|         Centro|Prox a pousada Pr...|              Centro|62630000|-3.94759529476854...|2024-05-09 00:59:...|\n",
      "|   23009020254|230090| CE|         Apuiarés|CRAS Centro de Re...|       NULL|    NULL|Localidade de Sal...|     2| na Rua Central|Comunidade de Sal...|             Salgado|62630000|-3.93742702042258...|2024-05-09 00:59:...|\n",
      "|   23010001541|230100| CE|          Aquiraz|CRAS CENTRO DE RE...|       NULL|    NULL|Damião Tavares de...|     6|           NULL|Prox. ao Hotel La...|             PRAINHA|61700000|-3.90365675669298...|2024-05-09 00:59:...|\n",
      "|   23010001547|230100| CE|          Aquiraz|CRAS CENTRO DE RE...|       NULL|    NULL|       JOÃO LIMA - 0|     0|           NULL|CRECHE CRIANÇA FELIZ|               GRUTA|61700000|-3.90617217987531...|2024-05-09 00:59:...|\n",
      "+--------------+------+---+-----------------+--------------------+-----------+--------+--------------------+------+---------------+--------------------+--------------------+--------+--------------------+--------------------+\n",
      "only showing top 20 rows\n",
      "\n"
     ]
    }
   ],
   "source": [
    "df.show()"
   ]
  },
  {
   "cell_type": "code",
   "execution_count": 9,
   "metadata": {},
   "outputs": [],
   "source": [
    "df = df.fillna({'complemento':'sem complemento',\n",
    "           'referencia':'sem referencia',\n",
    "           'georef_location':'indisponivel'})"
   ]
  },
  {
   "cell_type": "code",
   "execution_count": 10,
   "metadata": {},
   "outputs": [
    {
     "name": "stdout",
     "output_type": "stream",
     "text": [
      "+--------------+------+---+-----------------+--------------------+-----------+--------+--------------------+------+---------------+--------------------+--------------------+--------+--------------------+--------------------+\n",
      "|id_equipamento|  ibge| uf|           cidade|                nome|responsavel|telefone|            endereco|numero|    complemento|          referencia|              bairro|     cep|     georef_location|    data_atualizacao|\n",
      "+--------------+------+---+-----------------+--------------------+-----------+--------+--------------------+------+---------------+--------------------+--------------------+--------+--------------------+--------------------+\n",
      "|   23001006462|230010| CE|          Abaiara|       CRAS I - SEDE|       NULL|    NULL|JOAQUIM LEITE DA ...|   268|sem complemento|PRÓXIMO A SECRETA...|              CENTRO|63240000|-7.36175927968484...|2024-05-09 01:00:...|\n",
      "|   23001020547|230010| CE|          Abaiara|             CRAS II|       NULL|    NULL|CE 393, SITIO BRE...|     0|sem complemento|PRÓXIMO A CAPELA ...|       Vila São José|63240000|-7.34850646703843...|2024-05-09 01:00:...|\n",
      "|   23001502777|230015| CE|          Acarapé|           CRAS sede|       NULL|    NULL|    CHICO VIEIRA - 0|     0|sem complemento|       PROX DO FORUM|              Centro|62785000|-4.22419842902805...|2024-05-09 00:59:...|\n",
      "|   23002002823|230020| CE|           Acaraú|             CRAS II|       NULL|    NULL|Avenida Padre Ant...|  2540|sem complemento|ANTIGO PÓLO DE CO...|         MORADA NOVA|62580000|-2.89813550003027...|2024-05-09 01:00:...|\n",
      "|   23002002825|230020| CE|           Acaraú|CRAS SAMUEL ANDER...|       NULL|    NULL|SANTO ANTONIO - 1178|  1178|sem complemento|     vizinho ao INSS|              CENTRO|62580000|-2.88282811958340...|2024-05-09 01:00:...|\n",
      "|   23003002787|230030| CE|         Acopiara|CRAS I - Raimunda...|       NULL|    NULL|Francisco Pereira...|    45|sem complemento|      Antiga Facomel|      Vila Esperança|63560000|-6.10027208289446...|2024-05-09 01:00:...|\n",
      "|   23003020283|230030| CE|         Acopiara|CRAS II -Antônio ...|       NULL|    NULL|  Cicero Mandu - 170|   170|sem complemento|Vizinho ao Fórum ...|           Vila Nova|63560000|-6.0895114\\,-39.4...|2024-05-09 01:00:...|\n",
      "|   23003020335|230030| CE|         Acopiara|CRAS III- Maria R...|       NULL|    NULL|Manoel Ferreira d...|   815|sem complemento|Próximo a padaria...|        Vila Moreira|63560000|-6.10684511547574...|2024-05-09 01:00:...|\n",
      "|   23004001073|230040| CE|           Aiuaba|CRAS ARMANDO ARRA...|       NULL|    NULL|Francisco Lourenç...|     0|sem complemento|      sem referencia|             Caiçara|63575000|-6.56803037920169...|2024-05-09 00:59:...|\n",
      "|   23005001425|230050| CE|       Alcântaras|CENTRO DE REFERÊN...|       NULL|    NULL|Praça Gregório Cu...|   146|sem complemento|Praça Gregório Cunha|          Bela Vista|62120000|-3.59474982965293...|2024-05-09 01:00:...|\n",
      "|   23006004153|230060| CE|        Altaneira|CRAS SUSTENTABILI...|       NULL|    NULL|JOÃO GONÇALVES - 614|   614|sem complemento|Ao lado do ginási...|        SANTA TEREZA|63195000|-6.99798500767486...|2024-05-09 01:00:...|\n",
      "|   23006020225|230060| CE|        Altaneira|      CRAS SÃO ROMÃO|       NULL|    NULL|       SÃO ROMÃO - 0|     0|sem complemento|    Perto da capela.|          ZONA RURAL|63195000|-6.97580013736995...|2024-05-09 01:00:...|\n",
      "|   23007004095|230070| CE|       Alto Santo|CRAS Casa do Cidadão|       NULL|    NULL|  Aderson Bessa - 00|     0|sem complemento|Por trás Escola E...|          Dom Pompeu|62970000|-5.51473454632890...|2024-05-09 00:59:...|\n",
      "|   23007502442|230075| CE|         Amontada|CRAS - Centro de ...|       NULL|    NULL|   Antonio Tomé - 00|     0|    Zona Urbana|Próximo Comercial...|              Flores|62540000|-3.36660448896861...|2024-05-09 01:00:...|\n",
      "|   23007520531|230075| CE|         Amontada|CRAS - CENTRO DE ...|       NULL|    NULL|      Principal - 00|     0|   Zona Praiana|    padaria do Lopim|Distrito de Sabia...|62540000|-3.09046506779301...|2024-05-09 01:00:...|\n",
      "|   23008002349|230080| CE|Antonina do Norte|CRAS - Centro de ...|       NULL|    NULL|ANANIAS DE MATOS ...|   250|           Casa|Na saída para Assaré|          Serraria I|63570000|-6.77395859720326...|2024-05-09 00:59:...|\n",
      "|   23009002056|230090| CE|         Apuiarés|Centro de Referên...|       NULL|    NULL|José Lopes Filho ...|   369|         Centro|Prox a pousada Pr...|              Centro|62630000|-3.94759529476854...|2024-05-09 00:59:...|\n",
      "|   23009020254|230090| CE|         Apuiarés|CRAS Centro de Re...|       NULL|    NULL|Localidade de Sal...|     2| na Rua Central|Comunidade de Sal...|             Salgado|62630000|-3.93742702042258...|2024-05-09 00:59:...|\n",
      "|   23010001541|230100| CE|          Aquiraz|CRAS CENTRO DE RE...|       NULL|    NULL|Damião Tavares de...|     6|sem complemento|Prox. ao Hotel La...|             PRAINHA|61700000|-3.90365675669298...|2024-05-09 00:59:...|\n",
      "|   23010001547|230100| CE|          Aquiraz|CRAS CENTRO DE RE...|       NULL|    NULL|       JOÃO LIMA - 0|     0|sem complemento|CRECHE CRIANÇA FELIZ|               GRUTA|61700000|-3.90617217987531...|2024-05-09 00:59:...|\n",
      "+--------------+------+---+-----------------+--------------------+-----------+--------+--------------------+------+---------------+--------------------+--------------------+--------+--------------------+--------------------+\n",
      "only showing top 20 rows\n",
      "\n"
     ]
    }
   ],
   "source": [
    "df.show()"
   ]
  },
  {
   "cell_type": "code",
   "execution_count": 11,
   "metadata": {},
   "outputs": [
    {
     "name": "stdout",
     "output_type": "stream",
     "text": [
      "id_equipamento 0\n",
      "ibge 0\n",
      "uf 0\n",
      "cidade 0\n",
      "nome 0\n",
      "responsavel 406\n",
      "telefone 406\n",
      "endereco 0\n",
      "numero 0\n",
      "complemento 0\n",
      "referencia 0\n",
      "bairro 0\n",
      "cep 0\n",
      "georef_location 0\n",
      "data_atualizacao 0\n"
     ]
    }
   ],
   "source": [
    "for column in df.columns:\n",
    "    print(column, df.filter(df[column].isNull()).count())"
   ]
  },
  {
   "cell_type": "code",
   "execution_count": 12,
   "metadata": {},
   "outputs": [],
   "source": [
    "df = df.drop('responsavel', 'telefone')"
   ]
  },
  {
   "cell_type": "code",
   "execution_count": 13,
   "metadata": {},
   "outputs": [
    {
     "name": "stdout",
     "output_type": "stream",
     "text": [
      "+--------------+------+---+-----------------+--------------------+--------------------+------+---------------+--------------------+--------------------+--------+--------------------+--------------------+\n",
      "|id_equipamento|  ibge| uf|           cidade|                nome|            endereco|numero|    complemento|          referencia|              bairro|     cep|     georef_location|    data_atualizacao|\n",
      "+--------------+------+---+-----------------+--------------------+--------------------+------+---------------+--------------------+--------------------+--------+--------------------+--------------------+\n",
      "|   23001006462|230010| CE|          Abaiara|       CRAS I - SEDE|JOAQUIM LEITE DA ...|   268|sem complemento|PRÓXIMO A SECRETA...|              CENTRO|63240000|-7.36175927968484...|2024-05-09 01:00:...|\n",
      "|   23001020547|230010| CE|          Abaiara|             CRAS II|CE 393, SITIO BRE...|     0|sem complemento|PRÓXIMO A CAPELA ...|       Vila São José|63240000|-7.34850646703843...|2024-05-09 01:00:...|\n",
      "|   23001502777|230015| CE|          Acarapé|           CRAS sede|    CHICO VIEIRA - 0|     0|sem complemento|       PROX DO FORUM|              Centro|62785000|-4.22419842902805...|2024-05-09 00:59:...|\n",
      "|   23002002823|230020| CE|           Acaraú|             CRAS II|Avenida Padre Ant...|  2540|sem complemento|ANTIGO PÓLO DE CO...|         MORADA NOVA|62580000|-2.89813550003027...|2024-05-09 01:00:...|\n",
      "|   23002002825|230020| CE|           Acaraú|CRAS SAMUEL ANDER...|SANTO ANTONIO - 1178|  1178|sem complemento|     vizinho ao INSS|              CENTRO|62580000|-2.88282811958340...|2024-05-09 01:00:...|\n",
      "|   23003002787|230030| CE|         Acopiara|CRAS I - Raimunda...|Francisco Pereira...|    45|sem complemento|      Antiga Facomel|      Vila Esperança|63560000|-6.10027208289446...|2024-05-09 01:00:...|\n",
      "|   23003020283|230030| CE|         Acopiara|CRAS II -Antônio ...|  Cicero Mandu - 170|   170|sem complemento|Vizinho ao Fórum ...|           Vila Nova|63560000|-6.0895114\\,-39.4...|2024-05-09 01:00:...|\n",
      "|   23003020335|230030| CE|         Acopiara|CRAS III- Maria R...|Manoel Ferreira d...|   815|sem complemento|Próximo a padaria...|        Vila Moreira|63560000|-6.10684511547574...|2024-05-09 01:00:...|\n",
      "|   23004001073|230040| CE|           Aiuaba|CRAS ARMANDO ARRA...|Francisco Lourenç...|     0|sem complemento|      sem referencia|             Caiçara|63575000|-6.56803037920169...|2024-05-09 00:59:...|\n",
      "|   23005001425|230050| CE|       Alcântaras|CENTRO DE REFERÊN...|Praça Gregório Cu...|   146|sem complemento|Praça Gregório Cunha|          Bela Vista|62120000|-3.59474982965293...|2024-05-09 01:00:...|\n",
      "|   23006004153|230060| CE|        Altaneira|CRAS SUSTENTABILI...|JOÃO GONÇALVES - 614|   614|sem complemento|Ao lado do ginási...|        SANTA TEREZA|63195000|-6.99798500767486...|2024-05-09 01:00:...|\n",
      "|   23006020225|230060| CE|        Altaneira|      CRAS SÃO ROMÃO|       SÃO ROMÃO - 0|     0|sem complemento|    Perto da capela.|          ZONA RURAL|63195000|-6.97580013736995...|2024-05-09 01:00:...|\n",
      "|   23007004095|230070| CE|       Alto Santo|CRAS Casa do Cidadão|  Aderson Bessa - 00|     0|sem complemento|Por trás Escola E...|          Dom Pompeu|62970000|-5.51473454632890...|2024-05-09 00:59:...|\n",
      "|   23007502442|230075| CE|         Amontada|CRAS - Centro de ...|   Antonio Tomé - 00|     0|    Zona Urbana|Próximo Comercial...|              Flores|62540000|-3.36660448896861...|2024-05-09 01:00:...|\n",
      "|   23007520531|230075| CE|         Amontada|CRAS - CENTRO DE ...|      Principal - 00|     0|   Zona Praiana|    padaria do Lopim|Distrito de Sabia...|62540000|-3.09046506779301...|2024-05-09 01:00:...|\n",
      "|   23008002349|230080| CE|Antonina do Norte|CRAS - Centro de ...|ANANIAS DE MATOS ...|   250|           Casa|Na saída para Assaré|          Serraria I|63570000|-6.77395859720326...|2024-05-09 00:59:...|\n",
      "|   23009002056|230090| CE|         Apuiarés|Centro de Referên...|José Lopes Filho ...|   369|         Centro|Prox a pousada Pr...|              Centro|62630000|-3.94759529476854...|2024-05-09 00:59:...|\n",
      "|   23009020254|230090| CE|         Apuiarés|CRAS Centro de Re...|Localidade de Sal...|     2| na Rua Central|Comunidade de Sal...|             Salgado|62630000|-3.93742702042258...|2024-05-09 00:59:...|\n",
      "|   23010001541|230100| CE|          Aquiraz|CRAS CENTRO DE RE...|Damião Tavares de...|     6|sem complemento|Prox. ao Hotel La...|             PRAINHA|61700000|-3.90365675669298...|2024-05-09 00:59:...|\n",
      "|   23010001547|230100| CE|          Aquiraz|CRAS CENTRO DE RE...|       JOÃO LIMA - 0|     0|sem complemento|CRECHE CRIANÇA FELIZ|               GRUTA|61700000|-3.90617217987531...|2024-05-09 00:59:...|\n",
      "+--------------+------+---+-----------------+--------------------+--------------------+------+---------------+--------------------+--------------------+--------+--------------------+--------------------+\n",
      "only showing top 20 rows\n",
      "\n"
     ]
    }
   ],
   "source": [
    "df.show()"
   ]
  },
  {
   "cell_type": "code",
   "execution_count": 14,
   "metadata": {},
   "outputs": [],
   "source": [
    "# copia de segurança\n",
    "df2 = df"
   ]
  },
  {
   "cell_type": "markdown",
   "metadata": {},
   "source": [
    "### window Ranking Function\n",
    "- Window Function 1 > Número de linhas - row_number()\n",
    "- Window Function 2 > Ranking 1 - rank()\n",
    "- Window Function 3 > Ranking 2 - dense_rank()\n",
    "- Window Function 4 > Porcentagem Ranking - percent_rank()\n",
    "- Window Function 5 > Divisão em N partes - ntile()"
   ]
  },
  {
   "cell_type": "markdown",
   "metadata": {},
   "source": [
    "#### Window Function 1 > Número de linhas - row_number()\n"
   ]
  },
  {
   "cell_type": "code",
   "execution_count": 15,
   "metadata": {},
   "outputs": [
    {
     "name": "stdout",
     "output_type": "stream",
     "text": [
      "+--------------+------+---+--------------------+--------------------+--------------------+------+--------------------+--------------------+--------------------+--------+--------------------+--------------------+------------+\n",
      "|id_equipamento|  ibge| uf|              cidade|                nome|            endereco|numero|         complemento|          referencia|              bairro|     cep|     georef_location|    data_atualizacao|numero_linha|\n",
      "+--------------+------+---+--------------------+--------------------+--------------------+------+--------------------+--------------------+--------------------+--------+--------------------+--------------------+------------+\n",
      "|   23054003286|230540| CE|                 Icó|CRAS II - IRINEID...|  PADRE VIEIRA  - 61|    61|                   *|Em frente ao merc...|                 BNH|63430000|-6.39797846461917...|2024-05-09 01:00:...|           1|\n",
      "|   23035015152|230350| CE|            Cascavel|CRAS Sede II - Pl...|Nossa Senhora do ...|   508|                   -|      sem referencia|            Planalto|62850000|-4.12546614910031...|2024-05-09 00:59:...|           1|\n",
      "|   23035020423|230350| CE|            Cascavel|       CRAS Guanacés| IZAAC BENICIO - 970|   970|                   -|PROXIMO A PRAÇA D...|            GUANACES|62850000|-4.14299425345310...|2024-05-09 00:59:...|           2|\n",
      "|   23033002821|230330| CE|              Cariús|CRAS Centro de Re...|RAUL NOGUEIRA II ...|     0|                   -|Prédio do Antigo ...|              Centro|63530000|-6.5358953\\,-39.4...|2024-05-09 01:00:...|           3|\n",
      "|   23028001832|230280| CE|             Canindé|CRAS Centro de Re...|Antonio Monteiro ...|     1|                   -|                CAIC|           Palestina|62700000|-4.36751809527273...|2024-05-09 00:59:...|           4|\n",
      "|   23028001835|230280| CE|             Canindé|CRAS Centro de Re...|Antonio Santiago ...|  1792|                   -|POR TRÁS DA SECRE...|         SANTA LUZIA|62700000|-4.35404959482741...|2024-05-09 00:59:...|           5|\n",
      "|   23028020368|230280| CE|             Canindé|CRAS Centro de Re...|Joaquim Teodoro d...|    42|                   -|Próximo à Igreja ...|               Monte|62700000|-4.36093093184286...|2024-05-09 00:59:...|           6|\n",
      "|   23023003345|230230| CE|           Bela Cruz|CRAS (CENTRO DE R...|   Coronel Duca - 00|     0|                   -|Próximo a Escola ...|          Chapadinha|62570000|-3.05755350858837...|2024-05-09 01:00:...|           7|\n",
      "|   23094002376|230940| CE|        Novo Oriente|CRAS - CENTRO DE ...|FRANCISCO RUFINO ...|     1|                   0|      sem referencia|              CENTRO|63740000|-5.53407722731326...|2024-05-09 01:00:...|           1|\n",
      "|   23078003343|230780| CE|               Marco|CENTRO DE REFERÊN...|RUA ENESTO GEISEL...|   620|                   0|PRÓXIMO A ESCOLA ...|              CENTRO|62560000|-3.12077236873834...|2024-05-09 01:00:...|           2|\n",
      "|   23135035397|231350| CE|              Trairi|CRAS Padre Rodolf...|Teodorico Ferreir...|    63|                  00|  posto dos correios|              Canaan|62690000|-3.21826613106496...|2024-05-09 01:00:...|           1|\n",
      "|   23059020019|230590| CE|            Ipueiras|CRAS II Matriz de...|Padre Francisco T...|     0|                 000|próximo ao posto ...|Matriz de São Gon...|62230000|-4.57632868417438...|2024-05-09 00:59:...|           1|\n",
      "|   23044003015|230440| CE|           Fortaleza|        CRAS GENIBAÚ|             I - 340|   340|            3ª ETAPA|Posto de Saúde Ro...|      CONJUNTO CEARÁ|60533670|-3.76660310213661...|2024-05-09 00:59:...|           1|\n",
      "|   23044002959|230440| CE|           Fortaleza|     CRAS BELA VISTA|MÁRIO DE ANDRADE ...|   496|                   A|próximo ao Mercad...|          BELA VISTA|60442132|-3.75189835428465...|2024-05-09 00:59:...|           1|\n",
      "|   23117020504|231170| CE|           Reriutaba|CRAS - DONA MIMOS...|      DA ESTAÇÃO - 0|     0|           AMANAIARA|      sem referencia|              CENTRO|62260000|-4.06479966727693...|2024-05-09 01:00:...|           1|\n",
      "|   23127002865|231270| CE|      Senador Pompeu|CRAS DO ALTO DO C...|PADRE JOACI CAVAL...|   421|          ANTIGA UBS|      sem referencia|   ALTO DA ESPERANÇA|63600000|-5.58597104729271...|2024-05-09 01:00:...|           1|\n",
      "|   23076501566|230765| CE|           Maracanaú|       CRAS INDIGENA|Professor José He...|  8876|    Aldeia Pitaguary|      sem referencia|Santo Antonio do ...|61901580|-3.93420258115655...|2024-05-09 00:59:...|           1|\n",
      "|   23094502313|230945| CE|               Ocara|CRAS Antônio Eliz...|      DO ALGODÃO - 0|     0|     BAIXA DO MIGUEL|      sem referencia|            SERRAGEM|62755000|-4.44123216895322...|2024-05-09 00:59:...|           1|\n",
      "|   23030020491|230300| CE|            Caridade|  CRAS PADRE KILIANO|Monsenhor Dantas - 0|     0|        CAMPOS BELOS|    PROXIMO A IGREJA|              CENTRO|62734000|-4.232\\,-39.19299...|2024-05-09 01:00:...|           1|\n",
      "|   23137003271|231370| CE|               Umari|CRAS IZA GRANGEIR...| Joaquim Daniel - 25|    25|                CASA|      sem referencia|              CENTRO|63310000|-6.64318785896141...|2024-05-09 01:00:...|           1|\n",
      "|   23112002330|231120| CE|             Potengi|CRAS - Centro de ...|Manoel Monteiro -...|   132|                CASA|  próximo a lotérica|              CENTRO|63160000|-7.09448340327899...|2024-05-09 01:00:...|           2|\n",
      "|   23083002747|230830| CE|            Milagres|CRAS FRANCISCA DO...|RUA NOSSA SENHORA...|  1041|                CASA|      sem referencia|FRANCISCA DO SOCORRO|63250000|-7.30947461326819...|2024-05-09 01:00:...|           3|\n",
      "|   23060004083|230600| CE|             Iracema|CRAS - CENTRO DE ...|FRANCISCO ROQUE D...|    99|                CASA|    VIZINHO AO INSS.|           BEIRA RIO|62980000|-5.80814853771215...|2024-05-09 00:59:...|           4|\n",
      "|   23042003921|230420| CE|               Crato|CRAS RAIMUNDO COE...|DUQUE DE CAXIAS -...|   343|                CASA|     Agência do INSS|       ALTO DA PENHA|63100000|-7.2360298\\,-39.4...|2024-05-09 00:59:...|           5|\n",
      "|   23095015211|230950| CE|                Orós|     CRAS João Lopes|Multirão Bom Jesu...|     0|              CENTRO|      sem referencia|           Bom Jesus|63520000|-6.25483167294702...|2024-05-09 01:00:...|           1|\n",
      "|   23052602862|230526| CE|           Ibaretama|      CRAS IBARETAMA|avenida joao rica...|     6|              CENTRO|      sem referencia|              CENTRO|63970000|-4.7002665\\,-38.6...|2024-05-09 00:59:...|           2|\n",
      "|   23022006358|230220| CE|            Beberibe|CRAS SERTÃO - SAB...|Travessa com Aven...|     0|              CENTRO|Ao lado do Polo d...|      SERRA DO FÉLIX|62846000|-4.50626474037623...|2024-05-09 00:59:...|           3|\n",
      "|   23010015293|230100| CE|             Aquiraz|       CRAS INDÍGENA| LAGOA ENCANTADA - 0|     0|COMUNIDADE JENIPA...|VIZINHO AO PSF IN...|              IGUAPE|61700000|-3.96818566858188...|2024-05-09 00:59:...|           1|\n",
      "|   23044002610|230440| CE|           Fortaleza|  CRAS JOÃO PAULO II|             10 - 75|    75|  CONJ JOAO PAULO II|Ao lado da Escola...|          JANGURUSSU|60863630|-3.82561069470719...|2024-05-09 00:59:...|           1|\n",
      "|   23062004081|230620| CE|            Itaiçaba|CRAS - Centro de ...| AV. 31 DE MARÇO - 0|     0|CONJUNTO PE ABILI...|PRÓXIMO AO CENTRO...|       SAO FRANCISCO|62820000|-4.68250774632961...|2024-05-09 00:59:...|           1|\n",
      "|   23072004042|230720| CE|                Jati|CRAS Maria Neves ...|     Manoel Luis - 1|     1|                Casa|Proximo a Praça W...|              Centro|63275000|-7.68742822827968...|2024-05-09 01:00:...|           1|\n",
      "|   23008002349|230080| CE|   Antonina do Norte|CRAS - Centro de ...|ANANIAS DE MATOS ...|   250|                Casa|Na saída para Assaré|          Serraria I|63570000|-6.77395859720326...|2024-05-09 00:59:...|           2|\n",
      "|   23040020183|230400| CE|              Coreaú|   CRAS RURAL UBAÚNA|Marrocos Mistilde...|     0|              Centro|      sem referencia|              UBAÚNA|62160000|-3.7404193\\,-40.6...|2024-05-09 01:00:...|           1|\n",
      "|   23009002056|230090| CE|            Apuiarés|Centro de Referên...|José Lopes Filho ...|   369|              Centro|Prox a pousada Pr...|              Centro|62630000|-3.94759529476854...|2024-05-09 00:59:...|           2|\n",
      "|   23103003534|231030| CE|             Parambu|CRAS Ramón Enriqu...|Francisco Evangel...|     0|Conjunto Manoel G...|      sem referencia|              Beleza|63680000|-6.22191854449841...|2024-05-09 00:59:...|           1|\n",
      "|   23044002961|230440| CE|           Fortaleza| CRAS QUINTINO CUNHA|  ILHA DO BOTE - 334|   334|Conjunto São Fran...|      sem referencia|      QUINTINO CUNHA|60352620|-3.73739798619096...|2024-05-09 00:59:...|           1|\n",
      "|   23041020327|230410| CE|             Crateús|CRAS - Centro de ...|Gentil Cardoso - 165|   165|   Conjunto São José|Próximo à Escola ...|         Campo Velho|63700000|-5.19318327786451...|2024-05-09 01:00:...|           1|\n",
      "|   23087020475|230870| CE|         Morada Nova|CRAS FAMILIA FELI...|PROFESSORA AURÉLI...|   100|            DISTRITO|ao lado da CEI Ma...|     DISTRITO ARUARU|62951000|-4.58279890712527...|2024-05-09 01:00:...|           1|\n",
      "|   23075033961|230750| CE|Lavras da Mangabeira|CRAS MARIA CLEIDE...|PEDRO MANGUEIRA -...|   191|            DISTRITO|PRÓXIMO A PRAÇA D...|          MANGABEIRA|63307000|-6.75914142090255...|2024-05-09 01:00:...|           2|\n",
      "|   23065531657|230655| CE|             Itarema|CRAS - Centro de ...|RUA SEVERIANO COR...|     0|            DISTRITO|        UBS ALMOFALA|          ZONA RURAL|62590000|-2.93802642597919...|2024-05-09 01:00:...|           3|\n",
      "|   23034010255|230340| CE|           Carnaubal|     CRAS II FAVEIRA|Rua José Francisc...|     0|            DISTRITO|Antiga escola Jos...|             FAVEIRA|62375000|-4.05828578284301...|2024-05-09 01:00:...|           4|\n",
      "|   23139020608|231390| CE|              Uruoca|CRAS EGUIMAR CONRADO|JOAO BATISTA DE V...|     0| DISTRITO CAMPANARIO|      sem referencia|              CENTRO|62460000|-3.36807535\\,-40....|2024-05-09 01:00:...|           1|\n",
      "|   23012020119|230120| CE|           Aracoiaba|CRAS CENTRO DE RE...|JAIME DE SOUSA NO...|     0|   DISTRITO DE IDEAL|ANTIGO PRÉDIO DOS...|              CENTRO|62754000|-4.43267482302044...|2024-05-09 01:00:...|           1|\n",
      "|   23105020487|231050| CE|        Pedra Branca|CRAS II - CENTRO ...|GERALDA BEZERRA - 14|    14|DISTRITO DE SANTA...| PRÓXIMO AO CRUZEIRO|    SEDE DO DISTRITO|63631000|-5.43969124549769...|2024-05-09 00:59:...|           1|\n",
      "|   23084037979|230840| CE|        Missão Velha|CRAS III - CRAS J...| FÉLIX ITALIANO - 00|     0|   DISTRITO JAMACARU|      sem referencia|          ZONA RURAL|63210000|-7.25498606422098...|2024-05-09 01:00:...|           1|\n",
      "|   23066002134|230660| CE|             Itatira|  CRAS LAGOA DO MATO|CONJUNTO LUCIA DE...|   143|DISTRITO LAGOA DO...|      sem referencia|       CONJUNTO NOVO|62725000|-4.63746727117280...|2024-05-09 00:59:...|           1|\n",
      "|   23122020546|231220| CE|      Santa Quitéria|        CRAS LISIEUX|FRANCISCO MILTON ...|     0|    DISTRITO LISIEUX|Próximo à Unidade...|              CENTRO|62293000|-4.00211116883608...|2024-05-09 01:00:...|           1|\n",
      "|   23129035497|231290| CE|              Sobral|       CRAS JAIBARAS|Rua Deputado ElÍs...|   183|   Distrito Jaibaras|Em frente aos Cor...|              Centro|62107000|-3.77620460298426...|2024-05-09 01:00:...|           1|\n",
      "|   23122020545|231220| CE|      Santa Quitéria|        CRAS MACARAÚ| FRANCISCO ARI MA...|     0|    Distrito Macaraú|Próximo a quadra ...|              Centro|62280000|-4.10036112125246...|2024-05-09 01:00:...|           1|\n",
      "|   23089020526|230890| CE|           Morrinhos|CRAS SANDRA MARIA...|Av. São Francisco...|   135|Distrito Sítio Al...|      sem referencia|              Centro|62550000|-3.31887813700945...|2024-05-09 01:00:...|           1|\n",
      "+--------------+------+---+--------------------+--------------------+--------------------+------+--------------------+--------------------+--------------------+--------+--------------------+--------------------+------------+\n",
      "only showing top 50 rows\n",
      "\n"
     ]
    }
   ],
   "source": [
    "numero_de_linhas = Window.partitionBy('complemento').orderBy(desc('cidade'))\n",
    "\n",
    "df.withColumn('numero_linha', row_number().over(numero_de_linhas)).show(50)"
   ]
  },
  {
   "cell_type": "markdown",
   "metadata": {},
   "source": [
    "#### Window Function 2 > Ranking 1 - rank()"
   ]
  },
  {
   "cell_type": "code",
   "execution_count": 16,
   "metadata": {},
   "outputs": [
    {
     "name": "stdout",
     "output_type": "stream",
     "text": [
      "+--------------+------+---+--------------------+--------------------+--------------------+------+--------------------+--------------------+--------------------+--------+--------------------+--------------------+----+\n",
      "|id_equipamento|  ibge| uf|              cidade|                nome|            endereco|numero|         complemento|          referencia|              bairro|     cep|     georef_location|    data_atualizacao|rank|\n",
      "+--------------+------+---+--------------------+--------------------+--------------------+------+--------------------+--------------------+--------------------+--------+--------------------+--------------------+----+\n",
      "|   23054003286|230540| CE|                 Icó|CRAS II - IRINEID...|  PADRE VIEIRA  - 61|    61|                   *|Em frente ao merc...|                 BNH|63430000|-6.39797846461917...|2024-05-09 01:00:...|   1|\n",
      "|   23035015152|230350| CE|            Cascavel|CRAS Sede II - Pl...|Nossa Senhora do ...|   508|                   -|      sem referencia|            Planalto|62850000|-4.12546614910031...|2024-05-09 00:59:...|   1|\n",
      "|   23035020423|230350| CE|            Cascavel|       CRAS Guanacés| IZAAC BENICIO - 970|   970|                   -|PROXIMO A PRAÇA D...|            GUANACES|62850000|-4.14299425345310...|2024-05-09 00:59:...|   1|\n",
      "|   23033002821|230330| CE|              Cariús|CRAS Centro de Re...|RAUL NOGUEIRA II ...|     0|                   -|Prédio do Antigo ...|              Centro|63530000|-6.5358953\\,-39.4...|2024-05-09 01:00:...|   3|\n",
      "|   23028001832|230280| CE|             Canindé|CRAS Centro de Re...|Antonio Monteiro ...|     1|                   -|                CAIC|           Palestina|62700000|-4.36751809527273...|2024-05-09 00:59:...|   4|\n",
      "|   23028001835|230280| CE|             Canindé|CRAS Centro de Re...|Antonio Santiago ...|  1792|                   -|POR TRÁS DA SECRE...|         SANTA LUZIA|62700000|-4.35404959482741...|2024-05-09 00:59:...|   4|\n",
      "|   23028020368|230280| CE|             Canindé|CRAS Centro de Re...|Joaquim Teodoro d...|    42|                   -|Próximo à Igreja ...|               Monte|62700000|-4.36093093184286...|2024-05-09 00:59:...|   4|\n",
      "|   23023003345|230230| CE|           Bela Cruz|CRAS (CENTRO DE R...|   Coronel Duca - 00|     0|                   -|Próximo a Escola ...|          Chapadinha|62570000|-3.05755350858837...|2024-05-09 01:00:...|   7|\n",
      "|   23094002376|230940| CE|        Novo Oriente|CRAS - CENTRO DE ...|FRANCISCO RUFINO ...|     1|                   0|      sem referencia|              CENTRO|63740000|-5.53407722731326...|2024-05-09 01:00:...|   1|\n",
      "|   23078003343|230780| CE|               Marco|CENTRO DE REFERÊN...|RUA ENESTO GEISEL...|   620|                   0|PRÓXIMO A ESCOLA ...|              CENTRO|62560000|-3.12077236873834...|2024-05-09 01:00:...|   2|\n",
      "|   23135035397|231350| CE|              Trairi|CRAS Padre Rodolf...|Teodorico Ferreir...|    63|                  00|  posto dos correios|              Canaan|62690000|-3.21826613106496...|2024-05-09 01:00:...|   1|\n",
      "|   23059020019|230590| CE|            Ipueiras|CRAS II Matriz de...|Padre Francisco T...|     0|                 000|próximo ao posto ...|Matriz de São Gon...|62230000|-4.57632868417438...|2024-05-09 00:59:...|   1|\n",
      "|   23044003015|230440| CE|           Fortaleza|        CRAS GENIBAÚ|             I - 340|   340|            3ª ETAPA|Posto de Saúde Ro...|      CONJUNTO CEARÁ|60533670|-3.76660310213661...|2024-05-09 00:59:...|   1|\n",
      "|   23044002959|230440| CE|           Fortaleza|     CRAS BELA VISTA|MÁRIO DE ANDRADE ...|   496|                   A|próximo ao Mercad...|          BELA VISTA|60442132|-3.75189835428465...|2024-05-09 00:59:...|   1|\n",
      "|   23117020504|231170| CE|           Reriutaba|CRAS - DONA MIMOS...|      DA ESTAÇÃO - 0|     0|           AMANAIARA|      sem referencia|              CENTRO|62260000|-4.06479966727693...|2024-05-09 01:00:...|   1|\n",
      "|   23127002865|231270| CE|      Senador Pompeu|CRAS DO ALTO DO C...|PADRE JOACI CAVAL...|   421|          ANTIGA UBS|      sem referencia|   ALTO DA ESPERANÇA|63600000|-5.58597104729271...|2024-05-09 01:00:...|   1|\n",
      "|   23076501566|230765| CE|           Maracanaú|       CRAS INDIGENA|Professor José He...|  8876|    Aldeia Pitaguary|      sem referencia|Santo Antonio do ...|61901580|-3.93420258115655...|2024-05-09 00:59:...|   1|\n",
      "|   23094502313|230945| CE|               Ocara|CRAS Antônio Eliz...|      DO ALGODÃO - 0|     0|     BAIXA DO MIGUEL|      sem referencia|            SERRAGEM|62755000|-4.44123216895322...|2024-05-09 00:59:...|   1|\n",
      "|   23030020491|230300| CE|            Caridade|  CRAS PADRE KILIANO|Monsenhor Dantas - 0|     0|        CAMPOS BELOS|    PROXIMO A IGREJA|              CENTRO|62734000|-4.232\\,-39.19299...|2024-05-09 01:00:...|   1|\n",
      "|   23137003271|231370| CE|               Umari|CRAS IZA GRANGEIR...| Joaquim Daniel - 25|    25|                CASA|      sem referencia|              CENTRO|63310000|-6.64318785896141...|2024-05-09 01:00:...|   1|\n",
      "|   23112002330|231120| CE|             Potengi|CRAS - Centro de ...|Manoel Monteiro -...|   132|                CASA|  próximo a lotérica|              CENTRO|63160000|-7.09448340327899...|2024-05-09 01:00:...|   2|\n",
      "|   23083002747|230830| CE|            Milagres|CRAS FRANCISCA DO...|RUA NOSSA SENHORA...|  1041|                CASA|      sem referencia|FRANCISCA DO SOCORRO|63250000|-7.30947461326819...|2024-05-09 01:00:...|   3|\n",
      "|   23060004083|230600| CE|             Iracema|CRAS - CENTRO DE ...|FRANCISCO ROQUE D...|    99|                CASA|    VIZINHO AO INSS.|           BEIRA RIO|62980000|-5.80814853771215...|2024-05-09 00:59:...|   4|\n",
      "|   23042003921|230420| CE|               Crato|CRAS RAIMUNDO COE...|DUQUE DE CAXIAS -...|   343|                CASA|     Agência do INSS|       ALTO DA PENHA|63100000|-7.2360298\\,-39.4...|2024-05-09 00:59:...|   5|\n",
      "|   23095015211|230950| CE|                Orós|     CRAS João Lopes|Multirão Bom Jesu...|     0|              CENTRO|      sem referencia|           Bom Jesus|63520000|-6.25483167294702...|2024-05-09 01:00:...|   1|\n",
      "|   23052602862|230526| CE|           Ibaretama|      CRAS IBARETAMA|avenida joao rica...|     6|              CENTRO|      sem referencia|              CENTRO|63970000|-4.7002665\\,-38.6...|2024-05-09 00:59:...|   2|\n",
      "|   23022006358|230220| CE|            Beberibe|CRAS SERTÃO - SAB...|Travessa com Aven...|     0|              CENTRO|Ao lado do Polo d...|      SERRA DO FÉLIX|62846000|-4.50626474037623...|2024-05-09 00:59:...|   3|\n",
      "|   23010015293|230100| CE|             Aquiraz|       CRAS INDÍGENA| LAGOA ENCANTADA - 0|     0|COMUNIDADE JENIPA...|VIZINHO AO PSF IN...|              IGUAPE|61700000|-3.96818566858188...|2024-05-09 00:59:...|   1|\n",
      "|   23044002610|230440| CE|           Fortaleza|  CRAS JOÃO PAULO II|             10 - 75|    75|  CONJ JOAO PAULO II|Ao lado da Escola...|          JANGURUSSU|60863630|-3.82561069470719...|2024-05-09 00:59:...|   1|\n",
      "|   23062004081|230620| CE|            Itaiçaba|CRAS - Centro de ...| AV. 31 DE MARÇO - 0|     0|CONJUNTO PE ABILI...|PRÓXIMO AO CENTRO...|       SAO FRANCISCO|62820000|-4.68250774632961...|2024-05-09 00:59:...|   1|\n",
      "|   23072004042|230720| CE|                Jati|CRAS Maria Neves ...|     Manoel Luis - 1|     1|                Casa|Proximo a Praça W...|              Centro|63275000|-7.68742822827968...|2024-05-09 01:00:...|   1|\n",
      "|   23008002349|230080| CE|   Antonina do Norte|CRAS - Centro de ...|ANANIAS DE MATOS ...|   250|                Casa|Na saída para Assaré|          Serraria I|63570000|-6.77395859720326...|2024-05-09 00:59:...|   2|\n",
      "|   23040020183|230400| CE|              Coreaú|   CRAS RURAL UBAÚNA|Marrocos Mistilde...|     0|              Centro|      sem referencia|              UBAÚNA|62160000|-3.7404193\\,-40.6...|2024-05-09 01:00:...|   1|\n",
      "|   23009002056|230090| CE|            Apuiarés|Centro de Referên...|José Lopes Filho ...|   369|              Centro|Prox a pousada Pr...|              Centro|62630000|-3.94759529476854...|2024-05-09 00:59:...|   2|\n",
      "|   23103003534|231030| CE|             Parambu|CRAS Ramón Enriqu...|Francisco Evangel...|     0|Conjunto Manoel G...|      sem referencia|              Beleza|63680000|-6.22191854449841...|2024-05-09 00:59:...|   1|\n",
      "|   23044002961|230440| CE|           Fortaleza| CRAS QUINTINO CUNHA|  ILHA DO BOTE - 334|   334|Conjunto São Fran...|      sem referencia|      QUINTINO CUNHA|60352620|-3.73739798619096...|2024-05-09 00:59:...|   1|\n",
      "|   23041020327|230410| CE|             Crateús|CRAS - Centro de ...|Gentil Cardoso - 165|   165|   Conjunto São José|Próximo à Escola ...|         Campo Velho|63700000|-5.19318327786451...|2024-05-09 01:00:...|   1|\n",
      "|   23087020475|230870| CE|         Morada Nova|CRAS FAMILIA FELI...|PROFESSORA AURÉLI...|   100|            DISTRITO|ao lado da CEI Ma...|     DISTRITO ARUARU|62951000|-4.58279890712527...|2024-05-09 01:00:...|   1|\n",
      "|   23075033961|230750| CE|Lavras da Mangabeira|CRAS MARIA CLEIDE...|PEDRO MANGUEIRA -...|   191|            DISTRITO|PRÓXIMO A PRAÇA D...|          MANGABEIRA|63307000|-6.75914142090255...|2024-05-09 01:00:...|   2|\n",
      "|   23065531657|230655| CE|             Itarema|CRAS - Centro de ...|RUA SEVERIANO COR...|     0|            DISTRITO|        UBS ALMOFALA|          ZONA RURAL|62590000|-2.93802642597919...|2024-05-09 01:00:...|   3|\n",
      "|   23034010255|230340| CE|           Carnaubal|     CRAS II FAVEIRA|Rua José Francisc...|     0|            DISTRITO|Antiga escola Jos...|             FAVEIRA|62375000|-4.05828578284301...|2024-05-09 01:00:...|   4|\n",
      "|   23139020608|231390| CE|              Uruoca|CRAS EGUIMAR CONRADO|JOAO BATISTA DE V...|     0| DISTRITO CAMPANARIO|      sem referencia|              CENTRO|62460000|-3.36807535\\,-40....|2024-05-09 01:00:...|   1|\n",
      "|   23012020119|230120| CE|           Aracoiaba|CRAS CENTRO DE RE...|JAIME DE SOUSA NO...|     0|   DISTRITO DE IDEAL|ANTIGO PRÉDIO DOS...|              CENTRO|62754000|-4.43267482302044...|2024-05-09 01:00:...|   1|\n",
      "|   23105020487|231050| CE|        Pedra Branca|CRAS II - CENTRO ...|GERALDA BEZERRA - 14|    14|DISTRITO DE SANTA...| PRÓXIMO AO CRUZEIRO|    SEDE DO DISTRITO|63631000|-5.43969124549769...|2024-05-09 00:59:...|   1|\n",
      "|   23084037979|230840| CE|        Missão Velha|CRAS III - CRAS J...| FÉLIX ITALIANO - 00|     0|   DISTRITO JAMACARU|      sem referencia|          ZONA RURAL|63210000|-7.25498606422098...|2024-05-09 01:00:...|   1|\n",
      "|   23066002134|230660| CE|             Itatira|  CRAS LAGOA DO MATO|CONJUNTO LUCIA DE...|   143|DISTRITO LAGOA DO...|      sem referencia|       CONJUNTO NOVO|62725000|-4.63746727117280...|2024-05-09 00:59:...|   1|\n",
      "|   23122020546|231220| CE|      Santa Quitéria|        CRAS LISIEUX|FRANCISCO MILTON ...|     0|    DISTRITO LISIEUX|Próximo à Unidade...|              CENTRO|62293000|-4.00211116883608...|2024-05-09 01:00:...|   1|\n",
      "|   23129035497|231290| CE|              Sobral|       CRAS JAIBARAS|Rua Deputado ElÍs...|   183|   Distrito Jaibaras|Em frente aos Cor...|              Centro|62107000|-3.77620460298426...|2024-05-09 01:00:...|   1|\n",
      "|   23122020545|231220| CE|      Santa Quitéria|        CRAS MACARAÚ| FRANCISCO ARI MA...|     0|    Distrito Macaraú|Próximo a quadra ...|              Centro|62280000|-4.10036112125246...|2024-05-09 01:00:...|   1|\n",
      "|   23089020526|230890| CE|           Morrinhos|CRAS SANDRA MARIA...|Av. São Francisco...|   135|Distrito Sítio Al...|      sem referencia|              Centro|62550000|-3.31887813700945...|2024-05-09 01:00:...|   1|\n",
      "+--------------+------+---+--------------------+--------------------+--------------------+------+--------------------+--------------------+--------------------+--------+--------------------+--------------------+----+\n",
      "only showing top 50 rows\n",
      "\n"
     ]
    }
   ],
   "source": [
    "rank1 = Window.partitionBy('complemento').orderBy(desc('cidade'))\n",
    "df.withColumn('rank', rank().over(rank1)).show(50)"
   ]
  },
  {
   "cell_type": "markdown",
   "metadata": {},
   "source": [
    "#### Window Function 3 > Ranking 2 - dense_rank()"
   ]
  },
  {
   "cell_type": "code",
   "execution_count": 17,
   "metadata": {},
   "outputs": [
    {
     "name": "stdout",
     "output_type": "stream",
     "text": [
      "+--------------+------+---+--------------------+--------------------+--------------------+------+--------------------+--------------------+--------------------+--------+--------------------+--------------------+-----+\n",
      "|id_equipamento|  ibge| uf|              cidade|                nome|            endereco|numero|         complemento|          referencia|              bairro|     cep|     georef_location|    data_atualizacao|rank2|\n",
      "+--------------+------+---+--------------------+--------------------+--------------------+------+--------------------+--------------------+--------------------+--------+--------------------+--------------------+-----+\n",
      "|   23054003286|230540| CE|                 Icó|CRAS II - IRINEID...|  PADRE VIEIRA  - 61|    61|                   *|Em frente ao merc...|                 BNH|63430000|-6.39797846461917...|2024-05-09 01:00:...|    1|\n",
      "|   23035015152|230350| CE|            Cascavel|CRAS Sede II - Pl...|Nossa Senhora do ...|   508|                   -|      sem referencia|            Planalto|62850000|-4.12546614910031...|2024-05-09 00:59:...|    1|\n",
      "|   23035020423|230350| CE|            Cascavel|       CRAS Guanacés| IZAAC BENICIO - 970|   970|                   -|PROXIMO A PRAÇA D...|            GUANACES|62850000|-4.14299425345310...|2024-05-09 00:59:...|    1|\n",
      "|   23033002821|230330| CE|              Cariús|CRAS Centro de Re...|RAUL NOGUEIRA II ...|     0|                   -|Prédio do Antigo ...|              Centro|63530000|-6.5358953\\,-39.4...|2024-05-09 01:00:...|    2|\n",
      "|   23028001832|230280| CE|             Canindé|CRAS Centro de Re...|Antonio Monteiro ...|     1|                   -|                CAIC|           Palestina|62700000|-4.36751809527273...|2024-05-09 00:59:...|    3|\n",
      "|   23028001835|230280| CE|             Canindé|CRAS Centro de Re...|Antonio Santiago ...|  1792|                   -|POR TRÁS DA SECRE...|         SANTA LUZIA|62700000|-4.35404959482741...|2024-05-09 00:59:...|    3|\n",
      "|   23028020368|230280| CE|             Canindé|CRAS Centro de Re...|Joaquim Teodoro d...|    42|                   -|Próximo à Igreja ...|               Monte|62700000|-4.36093093184286...|2024-05-09 00:59:...|    3|\n",
      "|   23023003345|230230| CE|           Bela Cruz|CRAS (CENTRO DE R...|   Coronel Duca - 00|     0|                   -|Próximo a Escola ...|          Chapadinha|62570000|-3.05755350858837...|2024-05-09 01:00:...|    4|\n",
      "|   23094002376|230940| CE|        Novo Oriente|CRAS - CENTRO DE ...|FRANCISCO RUFINO ...|     1|                   0|      sem referencia|              CENTRO|63740000|-5.53407722731326...|2024-05-09 01:00:...|    1|\n",
      "|   23078003343|230780| CE|               Marco|CENTRO DE REFERÊN...|RUA ENESTO GEISEL...|   620|                   0|PRÓXIMO A ESCOLA ...|              CENTRO|62560000|-3.12077236873834...|2024-05-09 01:00:...|    2|\n",
      "|   23135035397|231350| CE|              Trairi|CRAS Padre Rodolf...|Teodorico Ferreir...|    63|                  00|  posto dos correios|              Canaan|62690000|-3.21826613106496...|2024-05-09 01:00:...|    1|\n",
      "|   23059020019|230590| CE|            Ipueiras|CRAS II Matriz de...|Padre Francisco T...|     0|                 000|próximo ao posto ...|Matriz de São Gon...|62230000|-4.57632868417438...|2024-05-09 00:59:...|    1|\n",
      "|   23044003015|230440| CE|           Fortaleza|        CRAS GENIBAÚ|             I - 340|   340|            3ª ETAPA|Posto de Saúde Ro...|      CONJUNTO CEARÁ|60533670|-3.76660310213661...|2024-05-09 00:59:...|    1|\n",
      "|   23044002959|230440| CE|           Fortaleza|     CRAS BELA VISTA|MÁRIO DE ANDRADE ...|   496|                   A|próximo ao Mercad...|          BELA VISTA|60442132|-3.75189835428465...|2024-05-09 00:59:...|    1|\n",
      "|   23117020504|231170| CE|           Reriutaba|CRAS - DONA MIMOS...|      DA ESTAÇÃO - 0|     0|           AMANAIARA|      sem referencia|              CENTRO|62260000|-4.06479966727693...|2024-05-09 01:00:...|    1|\n",
      "|   23127002865|231270| CE|      Senador Pompeu|CRAS DO ALTO DO C...|PADRE JOACI CAVAL...|   421|          ANTIGA UBS|      sem referencia|   ALTO DA ESPERANÇA|63600000|-5.58597104729271...|2024-05-09 01:00:...|    1|\n",
      "|   23076501566|230765| CE|           Maracanaú|       CRAS INDIGENA|Professor José He...|  8876|    Aldeia Pitaguary|      sem referencia|Santo Antonio do ...|61901580|-3.93420258115655...|2024-05-09 00:59:...|    1|\n",
      "|   23094502313|230945| CE|               Ocara|CRAS Antônio Eliz...|      DO ALGODÃO - 0|     0|     BAIXA DO MIGUEL|      sem referencia|            SERRAGEM|62755000|-4.44123216895322...|2024-05-09 00:59:...|    1|\n",
      "|   23030020491|230300| CE|            Caridade|  CRAS PADRE KILIANO|Monsenhor Dantas - 0|     0|        CAMPOS BELOS|    PROXIMO A IGREJA|              CENTRO|62734000|-4.232\\,-39.19299...|2024-05-09 01:00:...|    1|\n",
      "|   23137003271|231370| CE|               Umari|CRAS IZA GRANGEIR...| Joaquim Daniel - 25|    25|                CASA|      sem referencia|              CENTRO|63310000|-6.64318785896141...|2024-05-09 01:00:...|    1|\n",
      "|   23112002330|231120| CE|             Potengi|CRAS - Centro de ...|Manoel Monteiro -...|   132|                CASA|  próximo a lotérica|              CENTRO|63160000|-7.09448340327899...|2024-05-09 01:00:...|    2|\n",
      "|   23083002747|230830| CE|            Milagres|CRAS FRANCISCA DO...|RUA NOSSA SENHORA...|  1041|                CASA|      sem referencia|FRANCISCA DO SOCORRO|63250000|-7.30947461326819...|2024-05-09 01:00:...|    3|\n",
      "|   23060004083|230600| CE|             Iracema|CRAS - CENTRO DE ...|FRANCISCO ROQUE D...|    99|                CASA|    VIZINHO AO INSS.|           BEIRA RIO|62980000|-5.80814853771215...|2024-05-09 00:59:...|    4|\n",
      "|   23042003921|230420| CE|               Crato|CRAS RAIMUNDO COE...|DUQUE DE CAXIAS -...|   343|                CASA|     Agência do INSS|       ALTO DA PENHA|63100000|-7.2360298\\,-39.4...|2024-05-09 00:59:...|    5|\n",
      "|   23095015211|230950| CE|                Orós|     CRAS João Lopes|Multirão Bom Jesu...|     0|              CENTRO|      sem referencia|           Bom Jesus|63520000|-6.25483167294702...|2024-05-09 01:00:...|    1|\n",
      "|   23052602862|230526| CE|           Ibaretama|      CRAS IBARETAMA|avenida joao rica...|     6|              CENTRO|      sem referencia|              CENTRO|63970000|-4.7002665\\,-38.6...|2024-05-09 00:59:...|    2|\n",
      "|   23022006358|230220| CE|            Beberibe|CRAS SERTÃO - SAB...|Travessa com Aven...|     0|              CENTRO|Ao lado do Polo d...|      SERRA DO FÉLIX|62846000|-4.50626474037623...|2024-05-09 00:59:...|    3|\n",
      "|   23010015293|230100| CE|             Aquiraz|       CRAS INDÍGENA| LAGOA ENCANTADA - 0|     0|COMUNIDADE JENIPA...|VIZINHO AO PSF IN...|              IGUAPE|61700000|-3.96818566858188...|2024-05-09 00:59:...|    1|\n",
      "|   23044002610|230440| CE|           Fortaleza|  CRAS JOÃO PAULO II|             10 - 75|    75|  CONJ JOAO PAULO II|Ao lado da Escola...|          JANGURUSSU|60863630|-3.82561069470719...|2024-05-09 00:59:...|    1|\n",
      "|   23062004081|230620| CE|            Itaiçaba|CRAS - Centro de ...| AV. 31 DE MARÇO - 0|     0|CONJUNTO PE ABILI...|PRÓXIMO AO CENTRO...|       SAO FRANCISCO|62820000|-4.68250774632961...|2024-05-09 00:59:...|    1|\n",
      "|   23072004042|230720| CE|                Jati|CRAS Maria Neves ...|     Manoel Luis - 1|     1|                Casa|Proximo a Praça W...|              Centro|63275000|-7.68742822827968...|2024-05-09 01:00:...|    1|\n",
      "|   23008002349|230080| CE|   Antonina do Norte|CRAS - Centro de ...|ANANIAS DE MATOS ...|   250|                Casa|Na saída para Assaré|          Serraria I|63570000|-6.77395859720326...|2024-05-09 00:59:...|    2|\n",
      "|   23040020183|230400| CE|              Coreaú|   CRAS RURAL UBAÚNA|Marrocos Mistilde...|     0|              Centro|      sem referencia|              UBAÚNA|62160000|-3.7404193\\,-40.6...|2024-05-09 01:00:...|    1|\n",
      "|   23009002056|230090| CE|            Apuiarés|Centro de Referên...|José Lopes Filho ...|   369|              Centro|Prox a pousada Pr...|              Centro|62630000|-3.94759529476854...|2024-05-09 00:59:...|    2|\n",
      "|   23103003534|231030| CE|             Parambu|CRAS Ramón Enriqu...|Francisco Evangel...|     0|Conjunto Manoel G...|      sem referencia|              Beleza|63680000|-6.22191854449841...|2024-05-09 00:59:...|    1|\n",
      "|   23044002961|230440| CE|           Fortaleza| CRAS QUINTINO CUNHA|  ILHA DO BOTE - 334|   334|Conjunto São Fran...|      sem referencia|      QUINTINO CUNHA|60352620|-3.73739798619096...|2024-05-09 00:59:...|    1|\n",
      "|   23041020327|230410| CE|             Crateús|CRAS - Centro de ...|Gentil Cardoso - 165|   165|   Conjunto São José|Próximo à Escola ...|         Campo Velho|63700000|-5.19318327786451...|2024-05-09 01:00:...|    1|\n",
      "|   23087020475|230870| CE|         Morada Nova|CRAS FAMILIA FELI...|PROFESSORA AURÉLI...|   100|            DISTRITO|ao lado da CEI Ma...|     DISTRITO ARUARU|62951000|-4.58279890712527...|2024-05-09 01:00:...|    1|\n",
      "|   23075033961|230750| CE|Lavras da Mangabeira|CRAS MARIA CLEIDE...|PEDRO MANGUEIRA -...|   191|            DISTRITO|PRÓXIMO A PRAÇA D...|          MANGABEIRA|63307000|-6.75914142090255...|2024-05-09 01:00:...|    2|\n",
      "|   23065531657|230655| CE|             Itarema|CRAS - Centro de ...|RUA SEVERIANO COR...|     0|            DISTRITO|        UBS ALMOFALA|          ZONA RURAL|62590000|-2.93802642597919...|2024-05-09 01:00:...|    3|\n",
      "|   23034010255|230340| CE|           Carnaubal|     CRAS II FAVEIRA|Rua José Francisc...|     0|            DISTRITO|Antiga escola Jos...|             FAVEIRA|62375000|-4.05828578284301...|2024-05-09 01:00:...|    4|\n",
      "|   23139020608|231390| CE|              Uruoca|CRAS EGUIMAR CONRADO|JOAO BATISTA DE V...|     0| DISTRITO CAMPANARIO|      sem referencia|              CENTRO|62460000|-3.36807535\\,-40....|2024-05-09 01:00:...|    1|\n",
      "|   23012020119|230120| CE|           Aracoiaba|CRAS CENTRO DE RE...|JAIME DE SOUSA NO...|     0|   DISTRITO DE IDEAL|ANTIGO PRÉDIO DOS...|              CENTRO|62754000|-4.43267482302044...|2024-05-09 01:00:...|    1|\n",
      "|   23105020487|231050| CE|        Pedra Branca|CRAS II - CENTRO ...|GERALDA BEZERRA - 14|    14|DISTRITO DE SANTA...| PRÓXIMO AO CRUZEIRO|    SEDE DO DISTRITO|63631000|-5.43969124549769...|2024-05-09 00:59:...|    1|\n",
      "|   23084037979|230840| CE|        Missão Velha|CRAS III - CRAS J...| FÉLIX ITALIANO - 00|     0|   DISTRITO JAMACARU|      sem referencia|          ZONA RURAL|63210000|-7.25498606422098...|2024-05-09 01:00:...|    1|\n",
      "|   23066002134|230660| CE|             Itatira|  CRAS LAGOA DO MATO|CONJUNTO LUCIA DE...|   143|DISTRITO LAGOA DO...|      sem referencia|       CONJUNTO NOVO|62725000|-4.63746727117280...|2024-05-09 00:59:...|    1|\n",
      "|   23122020546|231220| CE|      Santa Quitéria|        CRAS LISIEUX|FRANCISCO MILTON ...|     0|    DISTRITO LISIEUX|Próximo à Unidade...|              CENTRO|62293000|-4.00211116883608...|2024-05-09 01:00:...|    1|\n",
      "|   23129035497|231290| CE|              Sobral|       CRAS JAIBARAS|Rua Deputado ElÍs...|   183|   Distrito Jaibaras|Em frente aos Cor...|              Centro|62107000|-3.77620460298426...|2024-05-09 01:00:...|    1|\n",
      "|   23122020545|231220| CE|      Santa Quitéria|        CRAS MACARAÚ| FRANCISCO ARI MA...|     0|    Distrito Macaraú|Próximo a quadra ...|              Centro|62280000|-4.10036112125246...|2024-05-09 01:00:...|    1|\n",
      "|   23089020526|230890| CE|           Morrinhos|CRAS SANDRA MARIA...|Av. São Francisco...|   135|Distrito Sítio Al...|      sem referencia|              Centro|62550000|-3.31887813700945...|2024-05-09 01:00:...|    1|\n",
      "+--------------+------+---+--------------------+--------------------+--------------------+------+--------------------+--------------------+--------------------+--------+--------------------+--------------------+-----+\n",
      "only showing top 50 rows\n",
      "\n"
     ]
    }
   ],
   "source": [
    "rank2 = Window.partitionBy('complemento').orderBy(desc('cidade'))\n",
    "\n",
    "df.withColumn('rank2', dense_rank().over(rank2)).show(50)"
   ]
  },
  {
   "cell_type": "markdown",
   "metadata": {},
   "source": [
    "#### Window Function 2 > Porcentagem Ranking  - percent_rank()"
   ]
  },
  {
   "cell_type": "code",
   "execution_count": 18,
   "metadata": {},
   "outputs": [
    {
     "name": "stdout",
     "output_type": "stream",
     "text": [
      "+--------------+------+---+--------------+--------------------+--------------------+------+----------------+--------------------+--------------------+--------+--------------------+--------------------+------------------+\n",
      "|id_equipamento|  ibge| uf|        cidade|                nome|            endereco|numero|     complemento|          referencia|              bairro|     cep|     georef_location|    data_atualizacao|       porcentagem|\n",
      "+--------------+------+---+--------------+--------------------+--------------------+------+----------------+--------------------+--------------------+--------+--------------------+--------------------+------------------+\n",
      "|   23054003286|230540| CE|           Icó|CRAS II - IRINEID...|  PADRE VIEIRA  - 61|    61|               *|Em frente ao merc...|                 BNH|63430000|-6.39797846461917...|2024-05-09 01:00:...|               0.0|\n",
      "|   23035015152|230350| CE|      Cascavel|CRAS Sede II - Pl...|Nossa Senhora do ...|   508|               -|      sem referencia|            Planalto|62850000|-4.12546614910031...|2024-05-09 00:59:...|               0.0|\n",
      "|   23035020423|230350| CE|      Cascavel|       CRAS Guanacés| IZAAC BENICIO - 970|   970|               -|PROXIMO A PRAÇA D...|            GUANACES|62850000|-4.14299425345310...|2024-05-09 00:59:...|               0.0|\n",
      "|   23033002821|230330| CE|        Cariús|CRAS Centro de Re...|RAUL NOGUEIRA II ...|     0|               -|Prédio do Antigo ...|              Centro|63530000|-6.5358953\\,-39.4...|2024-05-09 01:00:...|0.3333333333333333|\n",
      "|   23028001832|230280| CE|       Canindé|CRAS Centro de Re...|Antonio Monteiro ...|     1|               -|                CAIC|           Palestina|62700000|-4.36751809527273...|2024-05-09 00:59:...|               0.5|\n",
      "|   23028001835|230280| CE|       Canindé|CRAS Centro de Re...|Antonio Santiago ...|  1792|               -|POR TRÁS DA SECRE...|         SANTA LUZIA|62700000|-4.35404959482741...|2024-05-09 00:59:...|               0.5|\n",
      "|   23028020368|230280| CE|       Canindé|CRAS Centro de Re...|Joaquim Teodoro d...|    42|               -|Próximo à Igreja ...|               Monte|62700000|-4.36093093184286...|2024-05-09 00:59:...|               0.5|\n",
      "|   23023003345|230230| CE|     Bela Cruz|CRAS (CENTRO DE R...|   Coronel Duca - 00|     0|               -|Próximo a Escola ...|          Chapadinha|62570000|-3.05755350858837...|2024-05-09 01:00:...|               1.0|\n",
      "|   23094002376|230940| CE|  Novo Oriente|CRAS - CENTRO DE ...|FRANCISCO RUFINO ...|     1|               0|      sem referencia|              CENTRO|63740000|-5.53407722731326...|2024-05-09 01:00:...|               0.0|\n",
      "|   23078003343|230780| CE|         Marco|CENTRO DE REFERÊN...|RUA ENESTO GEISEL...|   620|               0|PRÓXIMO A ESCOLA ...|              CENTRO|62560000|-3.12077236873834...|2024-05-09 01:00:...|               1.0|\n",
      "|   23135035397|231350| CE|        Trairi|CRAS Padre Rodolf...|Teodorico Ferreir...|    63|              00|  posto dos correios|              Canaan|62690000|-3.21826613106496...|2024-05-09 01:00:...|               0.0|\n",
      "|   23059020019|230590| CE|      Ipueiras|CRAS II Matriz de...|Padre Francisco T...|     0|             000|próximo ao posto ...|Matriz de São Gon...|62230000|-4.57632868417438...|2024-05-09 00:59:...|               0.0|\n",
      "|   23044003015|230440| CE|     Fortaleza|        CRAS GENIBAÚ|             I - 340|   340|        3ª ETAPA|Posto de Saúde Ro...|      CONJUNTO CEARÁ|60533670|-3.76660310213661...|2024-05-09 00:59:...|               0.0|\n",
      "|   23044002959|230440| CE|     Fortaleza|     CRAS BELA VISTA|MÁRIO DE ANDRADE ...|   496|               A|próximo ao Mercad...|          BELA VISTA|60442132|-3.75189835428465...|2024-05-09 00:59:...|               0.0|\n",
      "|   23117020504|231170| CE|     Reriutaba|CRAS - DONA MIMOS...|      DA ESTAÇÃO - 0|     0|       AMANAIARA|      sem referencia|              CENTRO|62260000|-4.06479966727693...|2024-05-09 01:00:...|               0.0|\n",
      "|   23127002865|231270| CE|Senador Pompeu|CRAS DO ALTO DO C...|PADRE JOACI CAVAL...|   421|      ANTIGA UBS|      sem referencia|   ALTO DA ESPERANÇA|63600000|-5.58597104729271...|2024-05-09 01:00:...|               0.0|\n",
      "|   23076501566|230765| CE|     Maracanaú|       CRAS INDIGENA|Professor José He...|  8876|Aldeia Pitaguary|      sem referencia|Santo Antonio do ...|61901580|-3.93420258115655...|2024-05-09 00:59:...|               0.0|\n",
      "|   23094502313|230945| CE|         Ocara|CRAS Antônio Eliz...|      DO ALGODÃO - 0|     0| BAIXA DO MIGUEL|      sem referencia|            SERRAGEM|62755000|-4.44123216895322...|2024-05-09 00:59:...|               0.0|\n",
      "|   23030020491|230300| CE|      Caridade|  CRAS PADRE KILIANO|Monsenhor Dantas - 0|     0|    CAMPOS BELOS|    PROXIMO A IGREJA|              CENTRO|62734000|-4.232\\,-39.19299...|2024-05-09 01:00:...|               0.0|\n",
      "|   23137003271|231370| CE|         Umari|CRAS IZA GRANGEIR...| Joaquim Daniel - 25|    25|            CASA|      sem referencia|              CENTRO|63310000|-6.64318785896141...|2024-05-09 01:00:...|               0.0|\n",
      "+--------------+------+---+--------------+--------------------+--------------------+------+----------------+--------------------+--------------------+--------+--------------------+--------------------+------------------+\n",
      "only showing top 20 rows\n",
      "\n"
     ]
    }
   ],
   "source": [
    "porcentagem = Window.partitionBy('complemento').orderBy(desc('cidade'))\n",
    "\n",
    "df.withColumn('porcentagem', percent_rank().over(porcentagem)).show()"
   ]
  },
  {
   "cell_type": "markdown",
   "metadata": {},
   "source": [
    "#### Window Function 5 > Divisão em N partes - ntile()"
   ]
  },
  {
   "cell_type": "code",
   "execution_count": 19,
   "metadata": {},
   "outputs": [
    {
     "name": "stdout",
     "output_type": "stream",
     "text": [
      "+--------------+------+---+--------------+--------------------+--------------------+------+----------------+--------------------+--------------------+--------+--------------------+--------------------+------+\n",
      "|id_equipamento|  ibge| uf|        cidade|                nome|            endereco|numero|     complemento|          referencia|              bairro|     cep|     georef_location|    data_atualizacao|partes|\n",
      "+--------------+------+---+--------------+--------------------+--------------------+------+----------------+--------------------+--------------------+--------+--------------------+--------------------+------+\n",
      "|   23054003286|230540| CE|           Icó|CRAS II - IRINEID...|  PADRE VIEIRA  - 61|    61|               *|Em frente ao merc...|                 BNH|63430000|-6.39797846461917...|2024-05-09 01:00:...|     1|\n",
      "|   23035015152|230350| CE|      Cascavel|CRAS Sede II - Pl...|Nossa Senhora do ...|   508|               -|      sem referencia|            Planalto|62850000|-4.12546614910031...|2024-05-09 00:59:...|     1|\n",
      "|   23035020423|230350| CE|      Cascavel|       CRAS Guanacés| IZAAC BENICIO - 970|   970|               -|PROXIMO A PRAÇA D...|            GUANACES|62850000|-4.14299425345310...|2024-05-09 00:59:...|     2|\n",
      "|   23033002821|230330| CE|        Cariús|CRAS Centro de Re...|RAUL NOGUEIRA II ...|     0|               -|Prédio do Antigo ...|              Centro|63530000|-6.5358953\\,-39.4...|2024-05-09 01:00:...|     3|\n",
      "|   23028001832|230280| CE|       Canindé|CRAS Centro de Re...|Antonio Monteiro ...|     1|               -|                CAIC|           Palestina|62700000|-4.36751809527273...|2024-05-09 00:59:...|     4|\n",
      "|   23028001835|230280| CE|       Canindé|CRAS Centro de Re...|Antonio Santiago ...|  1792|               -|POR TRÁS DA SECRE...|         SANTA LUZIA|62700000|-4.35404959482741...|2024-05-09 00:59:...|     5|\n",
      "|   23028020368|230280| CE|       Canindé|CRAS Centro de Re...|Joaquim Teodoro d...|    42|               -|Próximo à Igreja ...|               Monte|62700000|-4.36093093184286...|2024-05-09 00:59:...|     6|\n",
      "|   23023003345|230230| CE|     Bela Cruz|CRAS (CENTRO DE R...|   Coronel Duca - 00|     0|               -|Próximo a Escola ...|          Chapadinha|62570000|-3.05755350858837...|2024-05-09 01:00:...|     7|\n",
      "|   23094002376|230940| CE|  Novo Oriente|CRAS - CENTRO DE ...|FRANCISCO RUFINO ...|     1|               0|      sem referencia|              CENTRO|63740000|-5.53407722731326...|2024-05-09 01:00:...|     1|\n",
      "|   23078003343|230780| CE|         Marco|CENTRO DE REFERÊN...|RUA ENESTO GEISEL...|   620|               0|PRÓXIMO A ESCOLA ...|              CENTRO|62560000|-3.12077236873834...|2024-05-09 01:00:...|     2|\n",
      "|   23135035397|231350| CE|        Trairi|CRAS Padre Rodolf...|Teodorico Ferreir...|    63|              00|  posto dos correios|              Canaan|62690000|-3.21826613106496...|2024-05-09 01:00:...|     1|\n",
      "|   23059020019|230590| CE|      Ipueiras|CRAS II Matriz de...|Padre Francisco T...|     0|             000|próximo ao posto ...|Matriz de São Gon...|62230000|-4.57632868417438...|2024-05-09 00:59:...|     1|\n",
      "|   23044003015|230440| CE|     Fortaleza|        CRAS GENIBAÚ|             I - 340|   340|        3ª ETAPA|Posto de Saúde Ro...|      CONJUNTO CEARÁ|60533670|-3.76660310213661...|2024-05-09 00:59:...|     1|\n",
      "|   23044002959|230440| CE|     Fortaleza|     CRAS BELA VISTA|MÁRIO DE ANDRADE ...|   496|               A|próximo ao Mercad...|          BELA VISTA|60442132|-3.75189835428465...|2024-05-09 00:59:...|     1|\n",
      "|   23117020504|231170| CE|     Reriutaba|CRAS - DONA MIMOS...|      DA ESTAÇÃO - 0|     0|       AMANAIARA|      sem referencia|              CENTRO|62260000|-4.06479966727693...|2024-05-09 01:00:...|     1|\n",
      "|   23127002865|231270| CE|Senador Pompeu|CRAS DO ALTO DO C...|PADRE JOACI CAVAL...|   421|      ANTIGA UBS|      sem referencia|   ALTO DA ESPERANÇA|63600000|-5.58597104729271...|2024-05-09 01:00:...|     1|\n",
      "|   23076501566|230765| CE|     Maracanaú|       CRAS INDIGENA|Professor José He...|  8876|Aldeia Pitaguary|      sem referencia|Santo Antonio do ...|61901580|-3.93420258115655...|2024-05-09 00:59:...|     1|\n",
      "|   23094502313|230945| CE|         Ocara|CRAS Antônio Eliz...|      DO ALGODÃO - 0|     0| BAIXA DO MIGUEL|      sem referencia|            SERRAGEM|62755000|-4.44123216895322...|2024-05-09 00:59:...|     1|\n",
      "|   23030020491|230300| CE|      Caridade|  CRAS PADRE KILIANO|Monsenhor Dantas - 0|     0|    CAMPOS BELOS|    PROXIMO A IGREJA|              CENTRO|62734000|-4.232\\,-39.19299...|2024-05-09 01:00:...|     1|\n",
      "|   23137003271|231370| CE|         Umari|CRAS IZA GRANGEIR...| Joaquim Daniel - 25|    25|            CASA|      sem referencia|              CENTRO|63310000|-6.64318785896141...|2024-05-09 01:00:...|     1|\n",
      "+--------------+------+---+--------------+--------------------+--------------------+------+----------------+--------------------+--------------------+--------+--------------------+--------------------+------+\n",
      "only showing top 20 rows\n",
      "\n"
     ]
    }
   ],
   "source": [
    "parte = Window.partitionBy('complemento').orderBy(desc('cidade'))\n",
    "\n",
    "df.withColumn('partes', ntile(10).over(parte)).show()"
   ]
  },
  {
   "cell_type": "markdown",
   "metadata": {},
   "source": [
    "### Window Analytic Functions"
   ]
  },
  {
   "cell_type": "markdown",
   "metadata": {},
   "source": [
    "#### Window Function - LAG / DEGRAU lag()"
   ]
  },
  {
   "cell_type": "code",
   "execution_count": 22,
   "metadata": {},
   "outputs": [
    {
     "name": "stdout",
     "output_type": "stream",
     "text": [
      "+--------------+------+---+--------------------+--------------------+--------------------+------+--------------------+--------------------+--------------------+--------+--------------------+--------------------+--------+\n",
      "|id_equipamento|  ibge| uf|              cidade|                nome|            endereco|numero|         complemento|          referencia|              bairro|     cep|     georef_location|    data_atualizacao|  degrau|\n",
      "+--------------+------+---+--------------------+--------------------+--------------------+------+--------------------+--------------------+--------------------+--------+--------------------+--------------------+--------+\n",
      "|   23054003286|230540| CE|                 Icó|CRAS II - IRINEID...|  PADRE VIEIRA  - 61|    61|                   *|Em frente ao merc...|                 BNH|63430000|-6.39797846461917...|2024-05-09 01:00:...|    NULL|\n",
      "|   23035015152|230350| CE|            Cascavel|CRAS Sede II - Pl...|Nossa Senhora do ...|   508|                   -|      sem referencia|            Planalto|62850000|-4.12546614910031...|2024-05-09 00:59:...|    NULL|\n",
      "|   23035020423|230350| CE|            Cascavel|       CRAS Guanacés| IZAAC BENICIO - 970|   970|                   -|PROXIMO A PRAÇA D...|            GUANACES|62850000|-4.14299425345310...|2024-05-09 00:59:...|62850000|\n",
      "|   23033002821|230330| CE|              Cariús|CRAS Centro de Re...|RAUL NOGUEIRA II ...|     0|                   -|Prédio do Antigo ...|              Centro|63530000|-6.5358953\\,-39.4...|2024-05-09 01:00:...|62850000|\n",
      "|   23028001832|230280| CE|             Canindé|CRAS Centro de Re...|Antonio Monteiro ...|     1|                   -|                CAIC|           Palestina|62700000|-4.36751809527273...|2024-05-09 00:59:...|63530000|\n",
      "|   23028001835|230280| CE|             Canindé|CRAS Centro de Re...|Antonio Santiago ...|  1792|                   -|POR TRÁS DA SECRE...|         SANTA LUZIA|62700000|-4.35404959482741...|2024-05-09 00:59:...|62700000|\n",
      "|   23028020368|230280| CE|             Canindé|CRAS Centro de Re...|Joaquim Teodoro d...|    42|                   -|Próximo à Igreja ...|               Monte|62700000|-4.36093093184286...|2024-05-09 00:59:...|62700000|\n",
      "|   23023003345|230230| CE|           Bela Cruz|CRAS (CENTRO DE R...|   Coronel Duca - 00|     0|                   -|Próximo a Escola ...|          Chapadinha|62570000|-3.05755350858837...|2024-05-09 01:00:...|62700000|\n",
      "|   23094002376|230940| CE|        Novo Oriente|CRAS - CENTRO DE ...|FRANCISCO RUFINO ...|     1|                   0|      sem referencia|              CENTRO|63740000|-5.53407722731326...|2024-05-09 01:00:...|    NULL|\n",
      "|   23078003343|230780| CE|               Marco|CENTRO DE REFERÊN...|RUA ENESTO GEISEL...|   620|                   0|PRÓXIMO A ESCOLA ...|              CENTRO|62560000|-3.12077236873834...|2024-05-09 01:00:...|63740000|\n",
      "|   23135035397|231350| CE|              Trairi|CRAS Padre Rodolf...|Teodorico Ferreir...|    63|                  00|  posto dos correios|              Canaan|62690000|-3.21826613106496...|2024-05-09 01:00:...|    NULL|\n",
      "|   23059020019|230590| CE|            Ipueiras|CRAS II Matriz de...|Padre Francisco T...|     0|                 000|próximo ao posto ...|Matriz de São Gon...|62230000|-4.57632868417438...|2024-05-09 00:59:...|    NULL|\n",
      "|   23044003015|230440| CE|           Fortaleza|        CRAS GENIBAÚ|             I - 340|   340|            3ª ETAPA|Posto de Saúde Ro...|      CONJUNTO CEARÁ|60533670|-3.76660310213661...|2024-05-09 00:59:...|    NULL|\n",
      "|   23044002959|230440| CE|           Fortaleza|     CRAS BELA VISTA|MÁRIO DE ANDRADE ...|   496|                   A|próximo ao Mercad...|          BELA VISTA|60442132|-3.75189835428465...|2024-05-09 00:59:...|    NULL|\n",
      "|   23117020504|231170| CE|           Reriutaba|CRAS - DONA MIMOS...|      DA ESTAÇÃO - 0|     0|           AMANAIARA|      sem referencia|              CENTRO|62260000|-4.06479966727693...|2024-05-09 01:00:...|    NULL|\n",
      "|   23127002865|231270| CE|      Senador Pompeu|CRAS DO ALTO DO C...|PADRE JOACI CAVAL...|   421|          ANTIGA UBS|      sem referencia|   ALTO DA ESPERANÇA|63600000|-5.58597104729271...|2024-05-09 01:00:...|    NULL|\n",
      "|   23076501566|230765| CE|           Maracanaú|       CRAS INDIGENA|Professor José He...|  8876|    Aldeia Pitaguary|      sem referencia|Santo Antonio do ...|61901580|-3.93420258115655...|2024-05-09 00:59:...|    NULL|\n",
      "|   23094502313|230945| CE|               Ocara|CRAS Antônio Eliz...|      DO ALGODÃO - 0|     0|     BAIXA DO MIGUEL|      sem referencia|            SERRAGEM|62755000|-4.44123216895322...|2024-05-09 00:59:...|    NULL|\n",
      "|   23030020491|230300| CE|            Caridade|  CRAS PADRE KILIANO|Monsenhor Dantas - 0|     0|        CAMPOS BELOS|    PROXIMO A IGREJA|              CENTRO|62734000|-4.232\\,-39.19299...|2024-05-09 01:00:...|    NULL|\n",
      "|   23137003271|231370| CE|               Umari|CRAS IZA GRANGEIR...| Joaquim Daniel - 25|    25|                CASA|      sem referencia|              CENTRO|63310000|-6.64318785896141...|2024-05-09 01:00:...|    NULL|\n",
      "|   23112002330|231120| CE|             Potengi|CRAS - Centro de ...|Manoel Monteiro -...|   132|                CASA|  próximo a lotérica|              CENTRO|63160000|-7.09448340327899...|2024-05-09 01:00:...|63310000|\n",
      "|   23083002747|230830| CE|            Milagres|CRAS FRANCISCA DO...|RUA NOSSA SENHORA...|  1041|                CASA|      sem referencia|FRANCISCA DO SOCORRO|63250000|-7.30947461326819...|2024-05-09 01:00:...|63160000|\n",
      "|   23060004083|230600| CE|             Iracema|CRAS - CENTRO DE ...|FRANCISCO ROQUE D...|    99|                CASA|    VIZINHO AO INSS.|           BEIRA RIO|62980000|-5.80814853771215...|2024-05-09 00:59:...|63250000|\n",
      "|   23042003921|230420| CE|               Crato|CRAS RAIMUNDO COE...|DUQUE DE CAXIAS -...|   343|                CASA|     Agência do INSS|       ALTO DA PENHA|63100000|-7.2360298\\,-39.4...|2024-05-09 00:59:...|62980000|\n",
      "|   23095015211|230950| CE|                Orós|     CRAS João Lopes|Multirão Bom Jesu...|     0|              CENTRO|      sem referencia|           Bom Jesus|63520000|-6.25483167294702...|2024-05-09 01:00:...|    NULL|\n",
      "|   23052602862|230526| CE|           Ibaretama|      CRAS IBARETAMA|avenida joao rica...|     6|              CENTRO|      sem referencia|              CENTRO|63970000|-4.7002665\\,-38.6...|2024-05-09 00:59:...|63520000|\n",
      "|   23022006358|230220| CE|            Beberibe|CRAS SERTÃO - SAB...|Travessa com Aven...|     0|              CENTRO|Ao lado do Polo d...|      SERRA DO FÉLIX|62846000|-4.50626474037623...|2024-05-09 00:59:...|63970000|\n",
      "|   23010015293|230100| CE|             Aquiraz|       CRAS INDÍGENA| LAGOA ENCANTADA - 0|     0|COMUNIDADE JENIPA...|VIZINHO AO PSF IN...|              IGUAPE|61700000|-3.96818566858188...|2024-05-09 00:59:...|    NULL|\n",
      "|   23044002610|230440| CE|           Fortaleza|  CRAS JOÃO PAULO II|             10 - 75|    75|  CONJ JOAO PAULO II|Ao lado da Escola...|          JANGURUSSU|60863630|-3.82561069470719...|2024-05-09 00:59:...|    NULL|\n",
      "|   23062004081|230620| CE|            Itaiçaba|CRAS - Centro de ...| AV. 31 DE MARÇO - 0|     0|CONJUNTO PE ABILI...|PRÓXIMO AO CENTRO...|       SAO FRANCISCO|62820000|-4.68250774632961...|2024-05-09 00:59:...|    NULL|\n",
      "|   23072004042|230720| CE|                Jati|CRAS Maria Neves ...|     Manoel Luis - 1|     1|                Casa|Proximo a Praça W...|              Centro|63275000|-7.68742822827968...|2024-05-09 01:00:...|    NULL|\n",
      "|   23008002349|230080| CE|   Antonina do Norte|CRAS - Centro de ...|ANANIAS DE MATOS ...|   250|                Casa|Na saída para Assaré|          Serraria I|63570000|-6.77395859720326...|2024-05-09 00:59:...|63275000|\n",
      "|   23040020183|230400| CE|              Coreaú|   CRAS RURAL UBAÚNA|Marrocos Mistilde...|     0|              Centro|      sem referencia|              UBAÚNA|62160000|-3.7404193\\,-40.6...|2024-05-09 01:00:...|    NULL|\n",
      "|   23009002056|230090| CE|            Apuiarés|Centro de Referên...|José Lopes Filho ...|   369|              Centro|Prox a pousada Pr...|              Centro|62630000|-3.94759529476854...|2024-05-09 00:59:...|62160000|\n",
      "|   23103003534|231030| CE|             Parambu|CRAS Ramón Enriqu...|Francisco Evangel...|     0|Conjunto Manoel G...|      sem referencia|              Beleza|63680000|-6.22191854449841...|2024-05-09 00:59:...|    NULL|\n",
      "|   23044002961|230440| CE|           Fortaleza| CRAS QUINTINO CUNHA|  ILHA DO BOTE - 334|   334|Conjunto São Fran...|      sem referencia|      QUINTINO CUNHA|60352620|-3.73739798619096...|2024-05-09 00:59:...|    NULL|\n",
      "|   23041020327|230410| CE|             Crateús|CRAS - Centro de ...|Gentil Cardoso - 165|   165|   Conjunto São José|Próximo à Escola ...|         Campo Velho|63700000|-5.19318327786451...|2024-05-09 01:00:...|    NULL|\n",
      "|   23087020475|230870| CE|         Morada Nova|CRAS FAMILIA FELI...|PROFESSORA AURÉLI...|   100|            DISTRITO|ao lado da CEI Ma...|     DISTRITO ARUARU|62951000|-4.58279890712527...|2024-05-09 01:00:...|    NULL|\n",
      "|   23075033961|230750| CE|Lavras da Mangabeira|CRAS MARIA CLEIDE...|PEDRO MANGUEIRA -...|   191|            DISTRITO|PRÓXIMO A PRAÇA D...|          MANGABEIRA|63307000|-6.75914142090255...|2024-05-09 01:00:...|62951000|\n",
      "|   23065531657|230655| CE|             Itarema|CRAS - Centro de ...|RUA SEVERIANO COR...|     0|            DISTRITO|        UBS ALMOFALA|          ZONA RURAL|62590000|-2.93802642597919...|2024-05-09 01:00:...|63307000|\n",
      "|   23034010255|230340| CE|           Carnaubal|     CRAS II FAVEIRA|Rua José Francisc...|     0|            DISTRITO|Antiga escola Jos...|             FAVEIRA|62375000|-4.05828578284301...|2024-05-09 01:00:...|62590000|\n",
      "|   23139020608|231390| CE|              Uruoca|CRAS EGUIMAR CONRADO|JOAO BATISTA DE V...|     0| DISTRITO CAMPANARIO|      sem referencia|              CENTRO|62460000|-3.36807535\\,-40....|2024-05-09 01:00:...|    NULL|\n",
      "|   23012020119|230120| CE|           Aracoiaba|CRAS CENTRO DE RE...|JAIME DE SOUSA NO...|     0|   DISTRITO DE IDEAL|ANTIGO PRÉDIO DOS...|              CENTRO|62754000|-4.43267482302044...|2024-05-09 01:00:...|    NULL|\n",
      "|   23105020487|231050| CE|        Pedra Branca|CRAS II - CENTRO ...|GERALDA BEZERRA - 14|    14|DISTRITO DE SANTA...| PRÓXIMO AO CRUZEIRO|    SEDE DO DISTRITO|63631000|-5.43969124549769...|2024-05-09 00:59:...|    NULL|\n",
      "|   23084037979|230840| CE|        Missão Velha|CRAS III - CRAS J...| FÉLIX ITALIANO - 00|     0|   DISTRITO JAMACARU|      sem referencia|          ZONA RURAL|63210000|-7.25498606422098...|2024-05-09 01:00:...|    NULL|\n",
      "|   23066002134|230660| CE|             Itatira|  CRAS LAGOA DO MATO|CONJUNTO LUCIA DE...|   143|DISTRITO LAGOA DO...|      sem referencia|       CONJUNTO NOVO|62725000|-4.63746727117280...|2024-05-09 00:59:...|    NULL|\n",
      "|   23122020546|231220| CE|      Santa Quitéria|        CRAS LISIEUX|FRANCISCO MILTON ...|     0|    DISTRITO LISIEUX|Próximo à Unidade...|              CENTRO|62293000|-4.00211116883608...|2024-05-09 01:00:...|    NULL|\n",
      "|   23129035497|231290| CE|              Sobral|       CRAS JAIBARAS|Rua Deputado ElÍs...|   183|   Distrito Jaibaras|Em frente aos Cor...|              Centro|62107000|-3.77620460298426...|2024-05-09 01:00:...|    NULL|\n",
      "|   23122020545|231220| CE|      Santa Quitéria|        CRAS MACARAÚ| FRANCISCO ARI MA...|     0|    Distrito Macaraú|Próximo a quadra ...|              Centro|62280000|-4.10036112125246...|2024-05-09 01:00:...|    NULL|\n",
      "|   23089020526|230890| CE|           Morrinhos|CRAS SANDRA MARIA...|Av. São Francisco...|   135|Distrito Sítio Al...|      sem referencia|              Centro|62550000|-3.31887813700945...|2024-05-09 01:00:...|    NULL|\n",
      "+--------------+------+---+--------------------+--------------------+--------------------+------+--------------------+--------------------+--------------------+--------+--------------------+--------------------+--------+\n",
      "only showing top 50 rows\n",
      "\n"
     ]
    }
   ],
   "source": [
    "degrau = Window.partitionBy('complemento').orderBy(desc('cidade'))\n",
    "\n",
    "df.withColumn('degrau', lag('cep').over(degrau)).show(50)"
   ]
  },
  {
   "cell_type": "markdown",
   "metadata": {},
   "source": [
    "#### Window Function - Lead / Degrau - lead()"
   ]
  },
  {
   "cell_type": "code",
   "execution_count": 24,
   "metadata": {},
   "outputs": [
    {
     "name": "stdout",
     "output_type": "stream",
     "text": [
      "+--------------+------+---+--------------------+--------------------+--------------------+------+--------------------+--------------------+--------------------+--------+--------------------+--------------------+--------+\n",
      "|id_equipamento|  ibge| uf|              cidade|                nome|            endereco|numero|         complemento|          referencia|              bairro|     cep|     georef_location|    data_atualizacao|  degrau|\n",
      "+--------------+------+---+--------------------+--------------------+--------------------+------+--------------------+--------------------+--------------------+--------+--------------------+--------------------+--------+\n",
      "|   23054003286|230540| CE|                 Icó|CRAS II - IRINEID...|  PADRE VIEIRA  - 61|    61|                   *|Em frente ao merc...|                 BNH|63430000|-6.39797846461917...|2024-05-09 01:00:...|    NULL|\n",
      "|   23035015152|230350| CE|            Cascavel|CRAS Sede II - Pl...|Nossa Senhora do ...|   508|                   -|      sem referencia|            Planalto|62850000|-4.12546614910031...|2024-05-09 00:59:...|62850000|\n",
      "|   23035020423|230350| CE|            Cascavel|       CRAS Guanacés| IZAAC BENICIO - 970|   970|                   -|PROXIMO A PRAÇA D...|            GUANACES|62850000|-4.14299425345310...|2024-05-09 00:59:...|63530000|\n",
      "|   23033002821|230330| CE|              Cariús|CRAS Centro de Re...|RAUL NOGUEIRA II ...|     0|                   -|Prédio do Antigo ...|              Centro|63530000|-6.5358953\\,-39.4...|2024-05-09 01:00:...|62700000|\n",
      "|   23028001832|230280| CE|             Canindé|CRAS Centro de Re...|Antonio Monteiro ...|     1|                   -|                CAIC|           Palestina|62700000|-4.36751809527273...|2024-05-09 00:59:...|62700000|\n",
      "|   23028001835|230280| CE|             Canindé|CRAS Centro de Re...|Antonio Santiago ...|  1792|                   -|POR TRÁS DA SECRE...|         SANTA LUZIA|62700000|-4.35404959482741...|2024-05-09 00:59:...|62700000|\n",
      "|   23028020368|230280| CE|             Canindé|CRAS Centro de Re...|Joaquim Teodoro d...|    42|                   -|Próximo à Igreja ...|               Monte|62700000|-4.36093093184286...|2024-05-09 00:59:...|62570000|\n",
      "|   23023003345|230230| CE|           Bela Cruz|CRAS (CENTRO DE R...|   Coronel Duca - 00|     0|                   -|Próximo a Escola ...|          Chapadinha|62570000|-3.05755350858837...|2024-05-09 01:00:...|    NULL|\n",
      "|   23094002376|230940| CE|        Novo Oriente|CRAS - CENTRO DE ...|FRANCISCO RUFINO ...|     1|                   0|      sem referencia|              CENTRO|63740000|-5.53407722731326...|2024-05-09 01:00:...|62560000|\n",
      "|   23078003343|230780| CE|               Marco|CENTRO DE REFERÊN...|RUA ENESTO GEISEL...|   620|                   0|PRÓXIMO A ESCOLA ...|              CENTRO|62560000|-3.12077236873834...|2024-05-09 01:00:...|    NULL|\n",
      "|   23135035397|231350| CE|              Trairi|CRAS Padre Rodolf...|Teodorico Ferreir...|    63|                  00|  posto dos correios|              Canaan|62690000|-3.21826613106496...|2024-05-09 01:00:...|    NULL|\n",
      "|   23059020019|230590| CE|            Ipueiras|CRAS II Matriz de...|Padre Francisco T...|     0|                 000|próximo ao posto ...|Matriz de São Gon...|62230000|-4.57632868417438...|2024-05-09 00:59:...|    NULL|\n",
      "|   23044003015|230440| CE|           Fortaleza|        CRAS GENIBAÚ|             I - 340|   340|            3ª ETAPA|Posto de Saúde Ro...|      CONJUNTO CEARÁ|60533670|-3.76660310213661...|2024-05-09 00:59:...|    NULL|\n",
      "|   23044002959|230440| CE|           Fortaleza|     CRAS BELA VISTA|MÁRIO DE ANDRADE ...|   496|                   A|próximo ao Mercad...|          BELA VISTA|60442132|-3.75189835428465...|2024-05-09 00:59:...|    NULL|\n",
      "|   23117020504|231170| CE|           Reriutaba|CRAS - DONA MIMOS...|      DA ESTAÇÃO - 0|     0|           AMANAIARA|      sem referencia|              CENTRO|62260000|-4.06479966727693...|2024-05-09 01:00:...|    NULL|\n",
      "|   23127002865|231270| CE|      Senador Pompeu|CRAS DO ALTO DO C...|PADRE JOACI CAVAL...|   421|          ANTIGA UBS|      sem referencia|   ALTO DA ESPERANÇA|63600000|-5.58597104729271...|2024-05-09 01:00:...|    NULL|\n",
      "|   23076501566|230765| CE|           Maracanaú|       CRAS INDIGENA|Professor José He...|  8876|    Aldeia Pitaguary|      sem referencia|Santo Antonio do ...|61901580|-3.93420258115655...|2024-05-09 00:59:...|    NULL|\n",
      "|   23094502313|230945| CE|               Ocara|CRAS Antônio Eliz...|      DO ALGODÃO - 0|     0|     BAIXA DO MIGUEL|      sem referencia|            SERRAGEM|62755000|-4.44123216895322...|2024-05-09 00:59:...|    NULL|\n",
      "|   23030020491|230300| CE|            Caridade|  CRAS PADRE KILIANO|Monsenhor Dantas - 0|     0|        CAMPOS BELOS|    PROXIMO A IGREJA|              CENTRO|62734000|-4.232\\,-39.19299...|2024-05-09 01:00:...|    NULL|\n",
      "|   23137003271|231370| CE|               Umari|CRAS IZA GRANGEIR...| Joaquim Daniel - 25|    25|                CASA|      sem referencia|              CENTRO|63310000|-6.64318785896141...|2024-05-09 01:00:...|63160000|\n",
      "|   23112002330|231120| CE|             Potengi|CRAS - Centro de ...|Manoel Monteiro -...|   132|                CASA|  próximo a lotérica|              CENTRO|63160000|-7.09448340327899...|2024-05-09 01:00:...|63250000|\n",
      "|   23083002747|230830| CE|            Milagres|CRAS FRANCISCA DO...|RUA NOSSA SENHORA...|  1041|                CASA|      sem referencia|FRANCISCA DO SOCORRO|63250000|-7.30947461326819...|2024-05-09 01:00:...|62980000|\n",
      "|   23060004083|230600| CE|             Iracema|CRAS - CENTRO DE ...|FRANCISCO ROQUE D...|    99|                CASA|    VIZINHO AO INSS.|           BEIRA RIO|62980000|-5.80814853771215...|2024-05-09 00:59:...|63100000|\n",
      "|   23042003921|230420| CE|               Crato|CRAS RAIMUNDO COE...|DUQUE DE CAXIAS -...|   343|                CASA|     Agência do INSS|       ALTO DA PENHA|63100000|-7.2360298\\,-39.4...|2024-05-09 00:59:...|    NULL|\n",
      "|   23095015211|230950| CE|                Orós|     CRAS João Lopes|Multirão Bom Jesu...|     0|              CENTRO|      sem referencia|           Bom Jesus|63520000|-6.25483167294702...|2024-05-09 01:00:...|63970000|\n",
      "|   23052602862|230526| CE|           Ibaretama|      CRAS IBARETAMA|avenida joao rica...|     6|              CENTRO|      sem referencia|              CENTRO|63970000|-4.7002665\\,-38.6...|2024-05-09 00:59:...|62846000|\n",
      "|   23022006358|230220| CE|            Beberibe|CRAS SERTÃO - SAB...|Travessa com Aven...|     0|              CENTRO|Ao lado do Polo d...|      SERRA DO FÉLIX|62846000|-4.50626474037623...|2024-05-09 00:59:...|    NULL|\n",
      "|   23010015293|230100| CE|             Aquiraz|       CRAS INDÍGENA| LAGOA ENCANTADA - 0|     0|COMUNIDADE JENIPA...|VIZINHO AO PSF IN...|              IGUAPE|61700000|-3.96818566858188...|2024-05-09 00:59:...|    NULL|\n",
      "|   23044002610|230440| CE|           Fortaleza|  CRAS JOÃO PAULO II|             10 - 75|    75|  CONJ JOAO PAULO II|Ao lado da Escola...|          JANGURUSSU|60863630|-3.82561069470719...|2024-05-09 00:59:...|    NULL|\n",
      "|   23062004081|230620| CE|            Itaiçaba|CRAS - Centro de ...| AV. 31 DE MARÇO - 0|     0|CONJUNTO PE ABILI...|PRÓXIMO AO CENTRO...|       SAO FRANCISCO|62820000|-4.68250774632961...|2024-05-09 00:59:...|    NULL|\n",
      "|   23072004042|230720| CE|                Jati|CRAS Maria Neves ...|     Manoel Luis - 1|     1|                Casa|Proximo a Praça W...|              Centro|63275000|-7.68742822827968...|2024-05-09 01:00:...|63570000|\n",
      "|   23008002349|230080| CE|   Antonina do Norte|CRAS - Centro de ...|ANANIAS DE MATOS ...|   250|                Casa|Na saída para Assaré|          Serraria I|63570000|-6.77395859720326...|2024-05-09 00:59:...|    NULL|\n",
      "|   23040020183|230400| CE|              Coreaú|   CRAS RURAL UBAÚNA|Marrocos Mistilde...|     0|              Centro|      sem referencia|              UBAÚNA|62160000|-3.7404193\\,-40.6...|2024-05-09 01:00:...|62630000|\n",
      "|   23009002056|230090| CE|            Apuiarés|Centro de Referên...|José Lopes Filho ...|   369|              Centro|Prox a pousada Pr...|              Centro|62630000|-3.94759529476854...|2024-05-09 00:59:...|    NULL|\n",
      "|   23103003534|231030| CE|             Parambu|CRAS Ramón Enriqu...|Francisco Evangel...|     0|Conjunto Manoel G...|      sem referencia|              Beleza|63680000|-6.22191854449841...|2024-05-09 00:59:...|    NULL|\n",
      "|   23044002961|230440| CE|           Fortaleza| CRAS QUINTINO CUNHA|  ILHA DO BOTE - 334|   334|Conjunto São Fran...|      sem referencia|      QUINTINO CUNHA|60352620|-3.73739798619096...|2024-05-09 00:59:...|    NULL|\n",
      "|   23041020327|230410| CE|             Crateús|CRAS - Centro de ...|Gentil Cardoso - 165|   165|   Conjunto São José|Próximo à Escola ...|         Campo Velho|63700000|-5.19318327786451...|2024-05-09 01:00:...|    NULL|\n",
      "|   23087020475|230870| CE|         Morada Nova|CRAS FAMILIA FELI...|PROFESSORA AURÉLI...|   100|            DISTRITO|ao lado da CEI Ma...|     DISTRITO ARUARU|62951000|-4.58279890712527...|2024-05-09 01:00:...|63307000|\n",
      "|   23075033961|230750| CE|Lavras da Mangabeira|CRAS MARIA CLEIDE...|PEDRO MANGUEIRA -...|   191|            DISTRITO|PRÓXIMO A PRAÇA D...|          MANGABEIRA|63307000|-6.75914142090255...|2024-05-09 01:00:...|62590000|\n",
      "|   23065531657|230655| CE|             Itarema|CRAS - Centro de ...|RUA SEVERIANO COR...|     0|            DISTRITO|        UBS ALMOFALA|          ZONA RURAL|62590000|-2.93802642597919...|2024-05-09 01:00:...|62375000|\n",
      "|   23034010255|230340| CE|           Carnaubal|     CRAS II FAVEIRA|Rua José Francisc...|     0|            DISTRITO|Antiga escola Jos...|             FAVEIRA|62375000|-4.05828578284301...|2024-05-09 01:00:...|    NULL|\n",
      "|   23139020608|231390| CE|              Uruoca|CRAS EGUIMAR CONRADO|JOAO BATISTA DE V...|     0| DISTRITO CAMPANARIO|      sem referencia|              CENTRO|62460000|-3.36807535\\,-40....|2024-05-09 01:00:...|    NULL|\n",
      "|   23012020119|230120| CE|           Aracoiaba|CRAS CENTRO DE RE...|JAIME DE SOUSA NO...|     0|   DISTRITO DE IDEAL|ANTIGO PRÉDIO DOS...|              CENTRO|62754000|-4.43267482302044...|2024-05-09 01:00:...|    NULL|\n",
      "|   23105020487|231050| CE|        Pedra Branca|CRAS II - CENTRO ...|GERALDA BEZERRA - 14|    14|DISTRITO DE SANTA...| PRÓXIMO AO CRUZEIRO|    SEDE DO DISTRITO|63631000|-5.43969124549769...|2024-05-09 00:59:...|    NULL|\n",
      "|   23084037979|230840| CE|        Missão Velha|CRAS III - CRAS J...| FÉLIX ITALIANO - 00|     0|   DISTRITO JAMACARU|      sem referencia|          ZONA RURAL|63210000|-7.25498606422098...|2024-05-09 01:00:...|    NULL|\n",
      "|   23066002134|230660| CE|             Itatira|  CRAS LAGOA DO MATO|CONJUNTO LUCIA DE...|   143|DISTRITO LAGOA DO...|      sem referencia|       CONJUNTO NOVO|62725000|-4.63746727117280...|2024-05-09 00:59:...|    NULL|\n",
      "|   23122020546|231220| CE|      Santa Quitéria|        CRAS LISIEUX|FRANCISCO MILTON ...|     0|    DISTRITO LISIEUX|Próximo à Unidade...|              CENTRO|62293000|-4.00211116883608...|2024-05-09 01:00:...|    NULL|\n",
      "|   23129035497|231290| CE|              Sobral|       CRAS JAIBARAS|Rua Deputado ElÍs...|   183|   Distrito Jaibaras|Em frente aos Cor...|              Centro|62107000|-3.77620460298426...|2024-05-09 01:00:...|    NULL|\n",
      "|   23122020545|231220| CE|      Santa Quitéria|        CRAS MACARAÚ| FRANCISCO ARI MA...|     0|    Distrito Macaraú|Próximo a quadra ...|              Centro|62280000|-4.10036112125246...|2024-05-09 01:00:...|    NULL|\n",
      "|   23089020526|230890| CE|           Morrinhos|CRAS SANDRA MARIA...|Av. São Francisco...|   135|Distrito Sítio Al...|      sem referencia|              Centro|62550000|-3.31887813700945...|2024-05-09 01:00:...|    NULL|\n",
      "+--------------+------+---+--------------------+--------------------+--------------------+------+--------------------+--------------------+--------------------+--------+--------------------+--------------------+--------+\n",
      "only showing top 50 rows\n",
      "\n"
     ]
    }
   ],
   "source": [
    "degrau = Window.partitionBy('complemento').orderBy(desc('cidade'))\n",
    "\n",
    "df.withColumn('degrau',lead('cep').over(degrau)).show(50)"
   ]
  }
 ],
 "metadata": {
  "kernelspec": {
   "display_name": "base",
   "language": "python",
   "name": "python3"
  },
  "language_info": {
   "codemirror_mode": {
    "name": "ipython",
    "version": 3
   },
   "file_extension": ".py",
   "mimetype": "text/x-python",
   "name": "python",
   "nbconvert_exporter": "python",
   "pygments_lexer": "ipython3",
   "version": "3.11.5"
  }
 },
 "nbformat": 4,
 "nbformat_minor": 2
}
