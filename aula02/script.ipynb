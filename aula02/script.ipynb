{
 "cells": [
  {
   "cell_type": "markdown",
   "metadata": {},
   "source": [
    "## Window Function"
   ]
  },
  {
   "cell_type": "code",
   "execution_count": 38,
   "metadata": {},
   "outputs": [],
   "source": [
    "from pyspark.sql import SparkSession\n",
    "from pyspark.sql.functions import *\n",
    "from pyspark.sql.types import *\n",
    "from pyspark.sql.window import Window\n"
   ]
  },
  {
   "cell_type": "markdown",
   "metadata": {},
   "source": [
    "### Criar/Iniciar sessão do pyspark"
   ]
  },
  {
   "cell_type": "code",
   "execution_count": 39,
   "metadata": {},
   "outputs": [],
   "source": [
    "spark = (\n",
    "    SparkSession.builder\n",
    "    .master('local')\n",
    "    .appName('aula02')\n",
    "    .getOrCreate()\n",
    ")"
   ]
  },
  {
   "cell_type": "code",
   "execution_count": 40,
   "metadata": {},
   "outputs": [],
   "source": [
    "df = spark.read.csv('../datasets/equipamentos.csv', header=True, inferSchema=True, sep=',')"
   ]
  },
  {
   "cell_type": "code",
   "execution_count": 41,
   "metadata": {},
   "outputs": [
    {
     "name": "stdout",
     "output_type": "stream",
     "text": [
      "+--------------+------+---+-------+--------------------+-----------+--------+--------------------+------+---------------+--------------------+-------------+--------+--------------------+--------------------+\n",
      "|id_equipamento|  ibge| uf| cidade|                nome|responsavel|telefone|            endereco|numero|    complemento|          referencia|       bairro|     cep|     georef_location|    data_atualizacao|\n",
      "+--------------+------+---+-------+--------------------+-----------+--------+--------------------+------+---------------+--------------------+-------------+--------+--------------------+--------------------+\n",
      "|   23001006462|230010| CE|Abaiara|       CRAS I - SEDE|       NULL|    NULL|JOAQUIM LEITE DA ...|   268|           NULL|PRÓXIMO A SECRETA...|       CENTRO|63240000|-7.36175927968484...|2024-05-09 01:00:...|\n",
      "|   23001020547|230010| CE|Abaiara|             CRAS II|       NULL|    NULL|CE, 393, SITIO BR...|     0|           NULL|PRÓXIMO A CAPELA ...|Vila São José|63240000|-7.34850646703843...|2024-05-09 01:00:...|\n",
      "|   23001502777|230015| CE|Acarapé|           CRAS sede|       NULL|    NULL|    CHICO VIEIRA - 0|     0|sem complemento|       PROX DO FORUM|       Centro|62785000|-4.22419842902805...|2024-05-09 00:59:...|\n",
      "|   23002002823|230020| CE| Acaraú|             CRAS II|       NULL|    NULL|Avenida Padre Ant...|  2540|           NULL|ANTIGO PÓLO DE CO...|  MORADA NOVA|62580000|-2.89813550003027...|2024-05-09 01:00:...|\n",
      "|   23002002825|230020| CE| Acaraú|CRAS SAMUEL ANDER...|       NULL|    NULL|SANTO ANTONIO - 1178|  1178|           NULL|     vizinho ao INSS|       CENTRO|62580000|-2.88282811958340...|2024-05-09 01:00:...|\n",
      "+--------------+------+---+-------+--------------------+-----------+--------+--------------------+------+---------------+--------------------+-------------+--------+--------------------+--------------------+\n",
      "only showing top 5 rows\n",
      "\n"
     ]
    }
   ],
   "source": [
    "df.show(5)"
   ]
  },
  {
   "cell_type": "code",
   "execution_count": 42,
   "metadata": {},
   "outputs": [
    {
     "name": "stdout",
     "output_type": "stream",
     "text": [
      "root\n",
      " |-- id_equipamento: long (nullable = true)\n",
      " |-- ibge: integer (nullable = true)\n",
      " |-- uf: string (nullable = true)\n",
      " |-- cidade: string (nullable = true)\n",
      " |-- nome: string (nullable = true)\n",
      " |-- responsavel: string (nullable = true)\n",
      " |-- telefone: string (nullable = true)\n",
      " |-- endereco: string (nullable = true)\n",
      " |-- numero: integer (nullable = true)\n",
      " |-- complemento: string (nullable = true)\n",
      " |-- referencia: string (nullable = true)\n",
      " |-- bairro: string (nullable = true)\n",
      " |-- cep: integer (nullable = true)\n",
      " |-- georef_location: string (nullable = true)\n",
      " |-- data_atualizacao: timestamp (nullable = true)\n",
      "\n"
     ]
    }
   ],
   "source": [
    "df.printSchema()"
   ]
  },
  {
   "cell_type": "code",
   "execution_count": 43,
   "metadata": {},
   "outputs": [
    {
     "name": "stdout",
     "output_type": "stream",
     "text": [
      "id_equipamento 0\n",
      "ibge 0\n",
      "uf 0\n",
      "cidade 0\n",
      "nome 0\n",
      "responsavel 406\n",
      "telefone 406\n",
      "endereco 0\n",
      "numero 0\n",
      "complemento 315\n",
      "referencia 135\n",
      "bairro 0\n",
      "cep 0\n",
      "georef_location 13\n",
      "data_atualizacao 0\n"
     ]
    }
   ],
   "source": [
    "for column in df.columns:\n",
    "    print(column, df.filter(df[column].isNull()).count())"
   ]
  },
  {
   "cell_type": "code",
   "execution_count": 48,
   "metadata": {},
   "outputs": [
    {
     "name": "stdout",
     "output_type": "stream",
     "text": [
      "+--------------+------+---+---------------+--------------------+-----------+--------+--------------------+------+-----------+--------------------+--------------------+--------+---------------+--------------------+\n",
      "|id_equipamento|  ibge| uf|         cidade|                nome|responsavel|telefone|            endereco|numero|complemento|          referencia|              bairro|     cep|georef_location|    data_atualizacao|\n",
      "+--------------+------+---+---------------+--------------------+-----------+--------+--------------------+------+-----------+--------------------+--------------------+--------+---------------+--------------------+\n",
      "|   23021039721|230210| CE|       Baturité|CRAS - CONSELHEIR...|       NULL|    NULL|FRANCISCO BRAGA F...|     0|       NULL|VIZINHO A SECRETA...|CONSELHEIRO ESTELITA|62760000|           NULL|2024-05-09 01:00:...|\n",
      "|   23027039321|230270| CE|   Campos Sales|CRAS - Miguel Cortez|       NULL|    NULL|Conjunto Lindalva...|     0|       NULL|                NULL|                Poço|63150000|           NULL|2024-05-09 01:00:...|\n",
      "|   23053040027|230530| CE|       Ibiapina|     CRAS ALTO LINDO|       NULL|    NULL|Rua Boa Esperança...|     0|       NULL|                NULL|          Alto Lindo|62360000|           NULL|2024-05-09 01:00:...|\n",
      "|   23056039933|230560| CE|  Independência|CRAS CARLOTA LUCI...|       NULL|    NULL|TOLENTINO ALVES V...|     0|       NULL|                NULL|               PLACA|63640000|           NULL|2024-05-09 01:00:...|\n",
      "|   23062540045|230625| CE|      Itaitinga|         CRAS JABUTI|       NULL|    NULL|RUA FRANCISCA FER...|   259|       NULL|PRÓXIMO A CRECHE ...|              JABUTI|61880000|           NULL|2024-05-09 01:00:...|\n",
      "|   23077039645|230770| CE|     Maranguape|         CRAS PROURB|       NULL|    NULL|  SOL NASCENTE  - 00|     0|       NULL|                NULL|     NOVO MARANGUAPE|61940000|           NULL|2024-05-09 01:00:...|\n",
      "|   23118039099|231180| CE|         Russas|   CRAS RURAL FLORES|       NULL|    NULL|RAIMUNDO ALVES MA...|  1730|       NULL|próximo a praça e...|              FLORES|62908500|           NULL|2024-05-09 01:00:...|\n",
      "|   23133039583|231330| CE|           Tauá|   CRAS Santa Tereza|       NULL|    NULL|JOSÉ GOMES DA SIL...|   285|       NULL|PRÓXIMO A IGREJA ...|        SANTA TEREZA|63660000|           NULL|2024-05-09 01:00:...|\n",
      "|   23133039811|231330| CE|           Tauá|     CRAS Barra Nova|       NULL|    NULL|      Bom Jesus - 00|     0|       NULL|próximo a churras...|          Barra Nova|63660000|           NULL|2024-05-09 01:00:...|\n",
      "|   23133039813|231330| CE|           Tauá|       CRAS Inhamuns|       NULL|    NULL|Maria Gorete Cava...|     0|       NULL|próximo a farmáci...|           Vera Cruz|63660000|           NULL|2024-05-09 01:00:...|\n",
      "|   23133039815|231330| CE|           Tauá|        CRAS Marrúas|       NULL|    NULL|Misael cavalcante...|     0|       NULL|    de frente a prça|             marrúas|63660000|           NULL|2024-05-09 01:00:...|\n",
      "|   23133039817|231330| CE|           Tauá|       CRAS Marrecas|       NULL|    NULL|joaquim moreira  ...|     0|       NULL|      de frenta a Br|            marrecas|63660000|           NULL|2024-05-09 01:00:...|\n",
      "|   23141039941|231410| CE|Viçosa do Ceará|        CRAS SEDE II|       NULL|    NULL|JOAO BENICIO FONT...|     0|       NULL|                NULL|       ESCOLA NORMAL|62300000|           NULL|2024-05-09 01:00:...|\n",
      "+--------------+------+---+---------------+--------------------+-----------+--------+--------------------+------+-----------+--------------------+--------------------+--------+---------------+--------------------+\n",
      "\n"
     ]
    }
   ],
   "source": [
    "df.filter(col('georef_location').isNull()).show()"
   ]
  },
  {
   "cell_type": "code",
   "execution_count": 60,
   "metadata": {},
   "outputs": [],
   "source": [
    "complemento = lambda x : 'sem complemento' if x is None else x\n",
    "referencia  = lambda x : 'sem referencia' if x is None else x\n",
    "georef_location = lambda x : 'indefinido' if x is None else x\n",
    "\n",
    "fill_complemento = complemento\n",
    "\n",
    "fill_referencia = referencia\n",
    "fill_georef_location = georef_location\n"
   ]
  },
  {
   "cell_type": "code",
   "execution_count": 50,
   "metadata": {},
   "outputs": [
    {
     "name": "stdout",
     "output_type": "stream",
     "text": [
      "+--------------+------+---+-----------------+--------------------+-----------+--------+--------------------+------+---------------+--------------------+--------------------+--------+--------------------+--------------------+\n",
      "|id_equipamento|  ibge| uf|           cidade|                nome|responsavel|telefone|            endereco|numero|    complemento|          referencia|              bairro|     cep|     georef_location|    data_atualizacao|\n",
      "+--------------+------+---+-----------------+--------------------+-----------+--------+--------------------+------+---------------+--------------------+--------------------+--------+--------------------+--------------------+\n",
      "|   23001006462|230010| CE|          Abaiara|       CRAS I - SEDE|       NULL|    NULL|JOAQUIM LEITE DA ...|   268|           NULL|PRÓXIMO A SECRETA...|              CENTRO|63240000|-7.36175927968484...|2024-05-09 01:00:...|\n",
      "|   23001020547|230010| CE|          Abaiara|             CRAS II|       NULL|    NULL|CE, 393, SITIO BR...|     0|           NULL|PRÓXIMO A CAPELA ...|       Vila São José|63240000|-7.34850646703843...|2024-05-09 01:00:...|\n",
      "|   23001502777|230015| CE|          Acarapé|           CRAS sede|       NULL|    NULL|    CHICO VIEIRA - 0|     0|sem complemento|       PROX DO FORUM|              Centro|62785000|-4.22419842902805...|2024-05-09 00:59:...|\n",
      "|   23002002823|230020| CE|           Acaraú|             CRAS II|       NULL|    NULL|Avenida Padre Ant...|  2540|           NULL|ANTIGO PÓLO DE CO...|         MORADA NOVA|62580000|-2.89813550003027...|2024-05-09 01:00:...|\n",
      "|   23002002825|230020| CE|           Acaraú|CRAS SAMUEL ANDER...|       NULL|    NULL|SANTO ANTONIO - 1178|  1178|           NULL|     vizinho ao INSS|              CENTRO|62580000|-2.88282811958340...|2024-05-09 01:00:...|\n",
      "|   23003002787|230030| CE|         Acopiara|CRAS I - Raimunda...|       NULL|    NULL|Francisco Pereira...|    45|           NULL|      Antiga Facomel|      Vila Esperança|63560000|-6.10027208289446...|2024-05-09 01:00:...|\n",
      "|   23003020283|230030| CE|         Acopiara|CRAS II -Antônio ...|       NULL|    NULL|  Cicero Mandu - 170|   170|           NULL|Vizinho ao Fórum ...|           Vila Nova|63560000|-6.0895114\\,-39.4...|2024-05-09 01:00:...|\n",
      "|   23003020335|230030| CE|         Acopiara|CRAS III- Maria R...|       NULL|    NULL|Manoel Ferreira d...|   815|           NULL|Próximo a padaria...|        Vila Moreira|63560000|-6.10684511547574...|2024-05-09 01:00:...|\n",
      "|   23004001073|230040| CE|           Aiuaba|CRAS ARMANDO ARRA...|       NULL|    NULL|Francisco Lourenç...|     0|           NULL|                NULL|             Caiçara|63575000|-6.56803037920169...|2024-05-09 00:59:...|\n",
      "|   23005001425|230050| CE|       Alcântaras|CENTRO DE REFERÊN...|       NULL|    NULL|Praça Gregório Cu...|   146|           NULL|Praça Gregório Cunha|          Bela Vista|62120000|-3.59474982965293...|2024-05-09 01:00:...|\n",
      "|   23006004153|230060| CE|        Altaneira|CRAS SUSTENTABILI...|       NULL|    NULL|JOÃO GONÇALVES - 614|   614|           NULL|Ao lado do ginási...|        SANTA TEREZA|63195000|-6.99798500767486...|2024-05-09 01:00:...|\n",
      "|   23006020225|230060| CE|        Altaneira|      CRAS SÃO ROMÃO|       NULL|    NULL|       SÃO ROMÃO - 0|     0|           NULL|    Perto da capela.|          ZONA RURAL|63195000|-6.97580013736995...|2024-05-09 01:00:...|\n",
      "|   23007004095|230070| CE|       Alto Santo|CRAS Casa do Cidadão|       NULL|    NULL|  Aderson Bessa - 00|     0|           NULL|Por trás Escola E...|          Dom Pompeu|62970000|-5.51473454632890...|2024-05-09 00:59:...|\n",
      "|   23007502442|230075| CE|         Amontada|CRAS - Centro de ...|       NULL|    NULL|   Antonio Tomé - 00|     0|    Zona Urbana|Próximo Comercial...|              Flores|62540000|-3.36660448896861...|2024-05-09 01:00:...|\n",
      "|   23007520531|230075| CE|         Amontada|CRAS - CENTRO DE ...|       NULL|    NULL|      Principal - 00|     0|   Zona Praiana|    padaria do Lopim|Distrito de Sabia...|62540000|-3.09046506779301...|2024-05-09 01:00:...|\n",
      "|   23008002349|230080| CE|Antonina do Norte|CRAS - Centro de ...|       NULL|    NULL|ANANIAS DE MATOS ...|   250|           Casa|Na saída para Assaré|          Serraria I|63570000|-6.77395859720326...|2024-05-09 00:59:...|\n",
      "|   23009002056|230090| CE|         Apuiarés|Centro de Referên...|       NULL|    NULL|José Lopes Filho ...|   369|         Centro|Prox a pousada Pr...|              Centro|62630000|-3.94759529476854...|2024-05-09 00:59:...|\n",
      "|   23009020254|230090| CE|         Apuiarés|CRAS Centro de Re...|       NULL|    NULL|Localidade de Sal...|     2| na Rua Central|Comunidade de Sal...|             Salgado|62630000|-3.93742702042258...|2024-05-09 00:59:...|\n",
      "|   23010001541|230100| CE|          Aquiraz|CRAS CENTRO DE RE...|       NULL|    NULL|Damião Tavares de...|     6|           NULL|Prox. ao Hotel La...|             PRAINHA|61700000|-3.90365675669298...|2024-05-09 00:59:...|\n",
      "|   23010001547|230100| CE|          Aquiraz|CRAS CENTRO DE RE...|       NULL|    NULL|       JOÃO LIMA - 0|     0|           NULL|CRECHE CRIANÇA FELIZ|               GRUTA|61700000|-3.90617217987531...|2024-05-09 00:59:...|\n",
      "+--------------+------+---+-----------------+--------------------+-----------+--------+--------------------+------+---------------+--------------------+--------------------+--------+--------------------+--------------------+\n",
      "only showing top 20 rows\n",
      "\n"
     ]
    }
   ],
   "source": [
    "df.show()"
   ]
  },
  {
   "cell_type": "code",
   "execution_count": 61,
   "metadata": {},
   "outputs": [
    {
     "ename": "AttributeError",
     "evalue": "'function' object has no attribute '_get_object_id'",
     "output_type": "error",
     "traceback": [
      "\u001b[1;31m---------------------------------------------------------------------------\u001b[0m",
      "\u001b[1;31mAttributeError\u001b[0m                            Traceback (most recent call last)",
      "Cell \u001b[1;32mIn[61], line 1\u001b[0m\n\u001b[1;32m----> 1\u001b[0m filled_df \u001b[38;5;241m=\u001b[39m df\u001b[38;5;241m.\u001b[39mfillna(fill_null_dict)\n",
      "File \u001b[1;32mc:\\Users\\oderl\\anaconda3\\Lib\\site-packages\\pyspark\\sql\\dataframe.py:4452\u001b[0m, in \u001b[0;36mDataFrame.fillna\u001b[1;34m(self, value, subset)\u001b[0m\n\u001b[0;32m   4449\u001b[0m     value \u001b[38;5;241m=\u001b[39m \u001b[38;5;28mfloat\u001b[39m(value)\n\u001b[0;32m   4451\u001b[0m \u001b[38;5;28;01mif\u001b[39;00m \u001b[38;5;28misinstance\u001b[39m(value, \u001b[38;5;28mdict\u001b[39m):\n\u001b[1;32m-> 4452\u001b[0m     \u001b[38;5;28;01mreturn\u001b[39;00m DataFrame(\u001b[38;5;28mself\u001b[39m\u001b[38;5;241m.\u001b[39m_jdf\u001b[38;5;241m.\u001b[39mna()\u001b[38;5;241m.\u001b[39mfill(value), \u001b[38;5;28mself\u001b[39m\u001b[38;5;241m.\u001b[39msparkSession)\n\u001b[0;32m   4453\u001b[0m \u001b[38;5;28;01melif\u001b[39;00m subset \u001b[38;5;129;01mis\u001b[39;00m \u001b[38;5;28;01mNone\u001b[39;00m:\n\u001b[0;32m   4454\u001b[0m     \u001b[38;5;28;01mreturn\u001b[39;00m DataFrame(\u001b[38;5;28mself\u001b[39m\u001b[38;5;241m.\u001b[39m_jdf\u001b[38;5;241m.\u001b[39mna()\u001b[38;5;241m.\u001b[39mfill(value), \u001b[38;5;28mself\u001b[39m\u001b[38;5;241m.\u001b[39msparkSession)\n",
      "File \u001b[1;32mc:\\Users\\oderl\\anaconda3\\Lib\\site-packages\\py4j\\java_gateway.py:1314\u001b[0m, in \u001b[0;36mJavaMember.__call__\u001b[1;34m(self, *args)\u001b[0m\n\u001b[0;32m   1313\u001b[0m \u001b[38;5;28;01mdef\u001b[39;00m \u001b[38;5;21m__call__\u001b[39m(\u001b[38;5;28mself\u001b[39m, \u001b[38;5;241m*\u001b[39margs):\n\u001b[1;32m-> 1314\u001b[0m     args_command, temp_args \u001b[38;5;241m=\u001b[39m \u001b[38;5;28mself\u001b[39m\u001b[38;5;241m.\u001b[39m_build_args(\u001b[38;5;241m*\u001b[39margs)\n\u001b[0;32m   1316\u001b[0m     command \u001b[38;5;241m=\u001b[39m proto\u001b[38;5;241m.\u001b[39mCALL_COMMAND_NAME \u001b[38;5;241m+\u001b[39m\\\n\u001b[0;32m   1317\u001b[0m         \u001b[38;5;28mself\u001b[39m\u001b[38;5;241m.\u001b[39mcommand_header \u001b[38;5;241m+\u001b[39m\\\n\u001b[0;32m   1318\u001b[0m         args_command \u001b[38;5;241m+\u001b[39m\\\n\u001b[0;32m   1319\u001b[0m         proto\u001b[38;5;241m.\u001b[39mEND_COMMAND_PART\n\u001b[0;32m   1321\u001b[0m     answer \u001b[38;5;241m=\u001b[39m \u001b[38;5;28mself\u001b[39m\u001b[38;5;241m.\u001b[39mgateway_client\u001b[38;5;241m.\u001b[39msend_command(command)\n",
      "File \u001b[1;32mc:\\Users\\oderl\\anaconda3\\Lib\\site-packages\\py4j\\java_gateway.py:1277\u001b[0m, in \u001b[0;36mJavaMember._build_args\u001b[1;34m(self, *args)\u001b[0m\n\u001b[0;32m   1275\u001b[0m \u001b[38;5;28;01mdef\u001b[39;00m \u001b[38;5;21m_build_args\u001b[39m(\u001b[38;5;28mself\u001b[39m, \u001b[38;5;241m*\u001b[39margs):\n\u001b[0;32m   1276\u001b[0m     \u001b[38;5;28;01mif\u001b[39;00m \u001b[38;5;28mself\u001b[39m\u001b[38;5;241m.\u001b[39mconverters \u001b[38;5;129;01mis\u001b[39;00m \u001b[38;5;129;01mnot\u001b[39;00m \u001b[38;5;28;01mNone\u001b[39;00m \u001b[38;5;129;01mand\u001b[39;00m \u001b[38;5;28mlen\u001b[39m(\u001b[38;5;28mself\u001b[39m\u001b[38;5;241m.\u001b[39mconverters) \u001b[38;5;241m>\u001b[39m \u001b[38;5;241m0\u001b[39m:\n\u001b[1;32m-> 1277\u001b[0m         (new_args, temp_args) \u001b[38;5;241m=\u001b[39m \u001b[38;5;28mself\u001b[39m\u001b[38;5;241m.\u001b[39m_get_args(args)\n\u001b[0;32m   1278\u001b[0m     \u001b[38;5;28;01melse\u001b[39;00m:\n\u001b[0;32m   1279\u001b[0m         new_args \u001b[38;5;241m=\u001b[39m args\n",
      "File \u001b[1;32mc:\\Users\\oderl\\anaconda3\\Lib\\site-packages\\py4j\\java_gateway.py:1264\u001b[0m, in \u001b[0;36mJavaMember._get_args\u001b[1;34m(self, args)\u001b[0m\n\u001b[0;32m   1262\u001b[0m \u001b[38;5;28;01mfor\u001b[39;00m converter \u001b[38;5;129;01min\u001b[39;00m \u001b[38;5;28mself\u001b[39m\u001b[38;5;241m.\u001b[39mgateway_client\u001b[38;5;241m.\u001b[39mconverters:\n\u001b[0;32m   1263\u001b[0m     \u001b[38;5;28;01mif\u001b[39;00m converter\u001b[38;5;241m.\u001b[39mcan_convert(arg):\n\u001b[1;32m-> 1264\u001b[0m         temp_arg \u001b[38;5;241m=\u001b[39m converter\u001b[38;5;241m.\u001b[39mconvert(arg, \u001b[38;5;28mself\u001b[39m\u001b[38;5;241m.\u001b[39mgateway_client)\n\u001b[0;32m   1265\u001b[0m         temp_args\u001b[38;5;241m.\u001b[39mappend(temp_arg)\n\u001b[0;32m   1266\u001b[0m         new_args\u001b[38;5;241m.\u001b[39mappend(temp_arg)\n",
      "File \u001b[1;32mc:\\Users\\oderl\\anaconda3\\Lib\\site-packages\\py4j\\java_collections.py:523\u001b[0m, in \u001b[0;36mMapConverter.convert\u001b[1;34m(self, object, gateway_client)\u001b[0m\n\u001b[0;32m    521\u001b[0m java_map \u001b[38;5;241m=\u001b[39m HashMap()\n\u001b[0;32m    522\u001b[0m \u001b[38;5;28;01mfor\u001b[39;00m key \u001b[38;5;129;01min\u001b[39;00m \u001b[38;5;28mobject\u001b[39m\u001b[38;5;241m.\u001b[39mkeys():\n\u001b[1;32m--> 523\u001b[0m     java_map[key] \u001b[38;5;241m=\u001b[39m \u001b[38;5;28mobject\u001b[39m[key]\n\u001b[0;32m    524\u001b[0m \u001b[38;5;28;01mreturn\u001b[39;00m java_map\n",
      "File \u001b[1;32mc:\\Users\\oderl\\anaconda3\\Lib\\site-packages\\py4j\\java_collections.py:82\u001b[0m, in \u001b[0;36mJavaMap.__setitem__\u001b[1;34m(self, key, value)\u001b[0m\n\u001b[0;32m     81\u001b[0m \u001b[38;5;28;01mdef\u001b[39;00m \u001b[38;5;21m__setitem__\u001b[39m(\u001b[38;5;28mself\u001b[39m, key, value):\n\u001b[1;32m---> 82\u001b[0m     \u001b[38;5;28mself\u001b[39m\u001b[38;5;241m.\u001b[39mput(key, value)\n",
      "File \u001b[1;32mc:\\Users\\oderl\\anaconda3\\Lib\\site-packages\\py4j\\java_gateway.py:1314\u001b[0m, in \u001b[0;36mJavaMember.__call__\u001b[1;34m(self, *args)\u001b[0m\n\u001b[0;32m   1313\u001b[0m \u001b[38;5;28;01mdef\u001b[39;00m \u001b[38;5;21m__call__\u001b[39m(\u001b[38;5;28mself\u001b[39m, \u001b[38;5;241m*\u001b[39margs):\n\u001b[1;32m-> 1314\u001b[0m     args_command, temp_args \u001b[38;5;241m=\u001b[39m \u001b[38;5;28mself\u001b[39m\u001b[38;5;241m.\u001b[39m_build_args(\u001b[38;5;241m*\u001b[39margs)\n\u001b[0;32m   1316\u001b[0m     command \u001b[38;5;241m=\u001b[39m proto\u001b[38;5;241m.\u001b[39mCALL_COMMAND_NAME \u001b[38;5;241m+\u001b[39m\\\n\u001b[0;32m   1317\u001b[0m         \u001b[38;5;28mself\u001b[39m\u001b[38;5;241m.\u001b[39mcommand_header \u001b[38;5;241m+\u001b[39m\\\n\u001b[0;32m   1318\u001b[0m         args_command \u001b[38;5;241m+\u001b[39m\\\n\u001b[0;32m   1319\u001b[0m         proto\u001b[38;5;241m.\u001b[39mEND_COMMAND_PART\n\u001b[0;32m   1321\u001b[0m     answer \u001b[38;5;241m=\u001b[39m \u001b[38;5;28mself\u001b[39m\u001b[38;5;241m.\u001b[39mgateway_client\u001b[38;5;241m.\u001b[39msend_command(command)\n",
      "File \u001b[1;32mc:\\Users\\oderl\\anaconda3\\Lib\\site-packages\\py4j\\java_gateway.py:1283\u001b[0m, in \u001b[0;36mJavaMember._build_args\u001b[1;34m(self, *args)\u001b[0m\n\u001b[0;32m   1279\u001b[0m     new_args \u001b[38;5;241m=\u001b[39m args\n\u001b[0;32m   1280\u001b[0m     temp_args \u001b[38;5;241m=\u001b[39m []\n\u001b[0;32m   1282\u001b[0m args_command \u001b[38;5;241m=\u001b[39m \u001b[38;5;124m\"\u001b[39m\u001b[38;5;124m\"\u001b[39m\u001b[38;5;241m.\u001b[39mjoin(\n\u001b[1;32m-> 1283\u001b[0m     [get_command_part(arg, \u001b[38;5;28mself\u001b[39m\u001b[38;5;241m.\u001b[39mpool) \u001b[38;5;28;01mfor\u001b[39;00m arg \u001b[38;5;129;01min\u001b[39;00m new_args])\n\u001b[0;32m   1285\u001b[0m \u001b[38;5;28;01mreturn\u001b[39;00m args_command, temp_args\n",
      "File \u001b[1;32mc:\\Users\\oderl\\anaconda3\\Lib\\site-packages\\py4j\\java_gateway.py:1283\u001b[0m, in \u001b[0;36m<listcomp>\u001b[1;34m(.0)\u001b[0m\n\u001b[0;32m   1279\u001b[0m     new_args \u001b[38;5;241m=\u001b[39m args\n\u001b[0;32m   1280\u001b[0m     temp_args \u001b[38;5;241m=\u001b[39m []\n\u001b[0;32m   1282\u001b[0m args_command \u001b[38;5;241m=\u001b[39m \u001b[38;5;124m\"\u001b[39m\u001b[38;5;124m\"\u001b[39m\u001b[38;5;241m.\u001b[39mjoin(\n\u001b[1;32m-> 1283\u001b[0m     [get_command_part(arg, \u001b[38;5;28mself\u001b[39m\u001b[38;5;241m.\u001b[39mpool) \u001b[38;5;28;01mfor\u001b[39;00m arg \u001b[38;5;129;01min\u001b[39;00m new_args])\n\u001b[0;32m   1285\u001b[0m \u001b[38;5;28;01mreturn\u001b[39;00m args_command, temp_args\n",
      "File \u001b[1;32mc:\\Users\\oderl\\anaconda3\\Lib\\site-packages\\py4j\\protocol.py:298\u001b[0m, in \u001b[0;36mget_command_part\u001b[1;34m(parameter, python_proxy_pool)\u001b[0m\n\u001b[0;32m    296\u001b[0m         command_part \u001b[38;5;241m+\u001b[39m\u001b[38;5;241m=\u001b[39m \u001b[38;5;124m\"\u001b[39m\u001b[38;5;124m;\u001b[39m\u001b[38;5;124m\"\u001b[39m \u001b[38;5;241m+\u001b[39m interface\n\u001b[0;32m    297\u001b[0m \u001b[38;5;28;01melse\u001b[39;00m:\n\u001b[1;32m--> 298\u001b[0m     command_part \u001b[38;5;241m=\u001b[39m REFERENCE_TYPE \u001b[38;5;241m+\u001b[39m parameter\u001b[38;5;241m.\u001b[39m_get_object_id()\n\u001b[0;32m    300\u001b[0m command_part \u001b[38;5;241m+\u001b[39m\u001b[38;5;241m=\u001b[39m \u001b[38;5;124m\"\u001b[39m\u001b[38;5;130;01m\\n\u001b[39;00m\u001b[38;5;124m\"\u001b[39m\n\u001b[0;32m    302\u001b[0m \u001b[38;5;28;01mreturn\u001b[39;00m command_part\n",
      "\u001b[1;31mAttributeError\u001b[0m: 'function' object has no attribute '_get_object_id'"
     ]
    }
   ],
   "source": [
    "filled_df = df.select(col())"
   ]
  },
  {
   "cell_type": "code",
   "execution_count": null,
   "metadata": {},
   "outputs": [],
   "source": [
    "df.show()"
   ]
  }
 ],
 "metadata": {
  "kernelspec": {
   "display_name": "base",
   "language": "python",
   "name": "python3"
  },
  "language_info": {
   "codemirror_mode": {
    "name": "ipython",
    "version": 3
   },
   "file_extension": ".py",
   "mimetype": "text/x-python",
   "name": "python",
   "nbconvert_exporter": "python",
   "pygments_lexer": "ipython3",
   "version": "3.11.5"
  }
 },
 "nbformat": 4,
 "nbformat_minor": 2
}
