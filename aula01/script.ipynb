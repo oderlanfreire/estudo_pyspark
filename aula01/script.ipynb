{
 "cells": [
  {
   "cell_type": "markdown",
   "metadata": {},
   "source": [
    "# Introdução ao PySpark"
   ]
  },
  {
   "cell_type": "markdown",
   "metadata": {},
   "source": [
    "### importação de biblioteca"
   ]
  },
  {
   "cell_type": "code",
   "execution_count": 1,
   "metadata": {},
   "outputs": [],
   "source": [
    "from pyspark.sql import SparkSession\n",
    "from pyspark.sql.functions import *\n",
    "from pyspark.sql.types import *"
   ]
  },
  {
   "cell_type": "markdown",
   "metadata": {},
   "source": [
    "### Criação/Inicio de sessão"
   ]
  },
  {
   "cell_type": "markdown",
   "metadata": {},
   "source": [
    "inicialmente cria-se a sessão spark como mostrado na proxima parte, abaixo segue a explicação sobre algumas variaveis da construção.\n",
    "- SparkSession.builder é o construtor da sessão spark\n",
    "- master é o cluster\n",
    "- appName é o nome da sessão spark\n",
    "- getOrCreate se vicê tiver criado uma sessão anterior de mesmo nome, essa função vai resgata-la, caso não, ela criará uma nova"
   ]
  },
  {
   "cell_type": "code",
   "execution_count": 2,
   "metadata": {},
   "outputs": [],
   "source": [
    "spark = (\n",
    "    SparkSession.builder\n",
    "    .master('local')\n",
    "    .appName('aula01')\n",
    "    .getOrCreate()\n",
    ")"
   ]
  },
  {
   "cell_type": "markdown",
   "metadata": {},
   "source": [
    "### Criação de dataframe"
   ]
  },
  {
   "cell_type": "markdown",
   "metadata": {},
   "source": [
    "a leitura de dataframe é parecida com a do pandas\n"
   ]
  },
  {
   "cell_type": "code",
   "execution_count": 3,
   "metadata": {},
   "outputs": [],
   "source": [
    "df = spark.read.csv('../datasets/netflix_titles.csv', sep=\",\", header=True, inferSchema=True)"
   ]
  },
  {
   "cell_type": "markdown",
   "metadata": {},
   "source": [
    "para exibir no pandas se usa o .head(), no spark se usa o .show()"
   ]
  },
  {
   "cell_type": "code",
   "execution_count": 4,
   "metadata": {},
   "outputs": [
    {
     "name": "stdout",
     "output_type": "stream",
     "text": [
      "+-------+-------+--------------------+--------------------+--------------------+--------------------+------------------+------------+------+---------+--------------------+--------------------+\n",
      "|show_id|   type|               title|            director|                cast|             country|        date_added|release_year|rating| duration|           listed_in|         description|\n",
      "+-------+-------+--------------------+--------------------+--------------------+--------------------+------------------+------------+------+---------+--------------------+--------------------+\n",
      "|     s1|  Movie|Dick Johnson Is Dead|     Kirsten Johnson|                NULL|       United States|September 25, 2021|        2020| PG-13|   90 min|       Documentaries|As her father nea...|\n",
      "|     s2|TV Show|       Blood & Water|                NULL|Ama Qamata, Khosi...|        South Africa|September 24, 2021|        2021| TV-MA|2 Seasons|International TV ...|After crossing pa...|\n",
      "|     s3|TV Show|           Ganglands|     Julien Leclercq|Sami Bouajila, Tr...|                NULL|September 24, 2021|        2021| TV-MA| 1 Season|Crime TV Shows, I...|To protect his fa...|\n",
      "|     s4|TV Show|Jailbirds New Orl...|                NULL|                NULL|                NULL|September 24, 2021|        2021| TV-MA| 1 Season|Docuseries, Reali...|Feuds, flirtation...|\n",
      "|     s5|TV Show|        Kota Factory|                NULL|Mayur More, Jiten...|               India|September 24, 2021|        2021| TV-MA|2 Seasons|International TV ...|In a city of coac...|\n",
      "|     s6|TV Show|       Midnight Mass|       Mike Flanagan|Kate Siegel, Zach...|                NULL|September 24, 2021|        2021| TV-MA| 1 Season|TV Dramas, TV Hor...|The arrival of a ...|\n",
      "|     s7|  Movie|My Little Pony: A...|Robert Cullen, Jo...|Vanessa Hudgens, ...|                NULL|September 24, 2021|        2021|    PG|   91 min|Children & Family...|Equestria's divid...|\n",
      "|     s8|  Movie|             Sankofa|        Haile Gerima|Kofi Ghanaba, Oya...|United States, Gh...|September 24, 2021|        1993| TV-MA|  125 min|Dramas, Independe...|On a photo shoot ...|\n",
      "|     s9|TV Show|The Great British...|     Andy Devonshire|Mel Giedroyc, Sue...|      United Kingdom|September 24, 2021|        2021| TV-14|9 Seasons|British TV Shows,...|A talented batch ...|\n",
      "|    s10|  Movie|        The Starling|      Theodore Melfi|Melissa McCarthy,...|       United States|September 24, 2021|        2021| PG-13|  104 min|    Comedies, Dramas|A woman adjusting...|\n",
      "|    s11|TV Show|Vendetta: Truth, ...|                NULL|                NULL|                NULL|September 24, 2021|        2021| TV-MA| 1 Season|Crime TV Shows, D...|\"Sicily boasts a ...|\n",
      "|    s12|TV Show|    Bangkok Breaking|   Kongkiat Komesiri|Sukollawat Kanaro...|                NULL|September 23, 2021|        2021| TV-MA| 1 Season|Crime TV Shows, I...|Struggling to ear...|\n",
      "|    s13|  Movie|        Je Suis Karl| Christian Schwochow|Luna Wedler, Jann...|Germany, Czech Re...|September 23, 2021|        2021| TV-MA|  127 min|Dramas, Internati...|After most of her...|\n",
      "|    s14|  Movie|Confessions of an...|       Bruno Garotti|Klara Castanho, L...|                NULL|September 22, 2021|        2021| TV-PG|   91 min|Children & Family...|When the clever b...|\n",
      "|    s15|TV Show|Crime Stories: In...|                NULL|                NULL|                NULL|September 22, 2021|        2021| TV-MA| 1 Season|British TV Shows,...|Cameras following...|\n",
      "|    s16|TV Show|   Dear White People|                NULL|Logan Browning, B...|       United States|September 22, 2021|        2021| TV-MA|4 Seasons|TV Comedies, TV D...|\"Students of colo...|\n",
      "|    s17|  Movie|Europe's Most Dan...|Pedro de Echave G...|                NULL|                NULL|September 22, 2021|        2020| TV-MA|   67 min|Documentaries, In...|Declassified docu...|\n",
      "|    s18|TV Show|     Falsa identidad|                NULL|Luis Ernesto Fran...|              Mexico|September 22, 2021|        2020| TV-MA|2 Seasons|Crime TV Shows, S...|Strangers Diego a...|\n",
      "|    s19|  Movie|           Intrusion|          Adam Salky|Freida Pinto, Log...|                NULL|September 22, 2021|        2021| TV-14|   94 min|           Thrillers|After a deadly ho...|\n",
      "|    s20|TV Show|              Jaguar|                NULL|Blanca Suárez, Iv...|                NULL|September 22, 2021|        2021| TV-MA| 1 Season|International TV ...|In the 1960s, a H...|\n",
      "+-------+-------+--------------------+--------------------+--------------------+--------------------+------------------+------------+------+---------+--------------------+--------------------+\n",
      "only showing top 20 rows\n",
      "\n"
     ]
    }
   ],
   "source": [
    "df.show()"
   ]
  },
  {
   "cell_type": "code",
   "execution_count": 5,
   "metadata": {},
   "outputs": [
    {
     "name": "stdout",
     "output_type": "stream",
     "text": [
      "root\n",
      " |-- show_id: string (nullable = true)\n",
      " |-- type: string (nullable = true)\n",
      " |-- title: string (nullable = true)\n",
      " |-- director: string (nullable = true)\n",
      " |-- cast: string (nullable = true)\n",
      " |-- country: string (nullable = true)\n",
      " |-- date_added: string (nullable = true)\n",
      " |-- release_year: string (nullable = true)\n",
      " |-- rating: string (nullable = true)\n",
      " |-- duration: string (nullable = true)\n",
      " |-- listed_in: string (nullable = true)\n",
      " |-- description: string (nullable = true)\n",
      "\n"
     ]
    }
   ],
   "source": [
    "df.printSchema()"
   ]
  },
  {
   "cell_type": "markdown",
   "metadata": {},
   "source": [
    "### verificar dados nulos"
   ]
  },
  {
   "cell_type": "code",
   "execution_count": 6,
   "metadata": {},
   "outputs": [
    {
     "name": "stdout",
     "output_type": "stream",
     "text": [
      "show_id 0\n",
      "type 1\n",
      "title 2\n",
      "director 2636\n",
      "cast 826\n",
      "country 832\n",
      "date_added 13\n",
      "release_year 2\n",
      "rating 6\n",
      "duration 5\n",
      "listed_in 3\n",
      "description 3\n"
     ]
    }
   ],
   "source": [
    "for column in df.columns:\n",
    "    print(column, df.filter(df[column].isNull()).count())"
   ]
  },
  {
   "cell_type": "code",
   "execution_count": 7,
   "metadata": {},
   "outputs": [],
   "source": [
    "df = df.dropna()"
   ]
  },
  {
   "cell_type": "code",
   "execution_count": 8,
   "metadata": {},
   "outputs": [
    {
     "name": "stdout",
     "output_type": "stream",
     "text": [
      "show_id 0\n",
      "type 0\n",
      "title 0\n",
      "director 0\n",
      "cast 0\n",
      "country 0\n",
      "date_added 0\n",
      "release_year 0\n",
      "rating 0\n",
      "duration 0\n",
      "listed_in 0\n",
      "description 0\n"
     ]
    }
   ],
   "source": [
    "for column in df.columns:\n",
    "    print(column, df.filter(df[column].isNull()).count())"
   ]
  },
  {
   "cell_type": "code",
   "execution_count": 9,
   "metadata": {},
   "outputs": [
    {
     "name": "stdout",
     "output_type": "stream",
     "text": [
      "+-------+-------+--------------------+-------------------+--------------------+--------------------+------------------+------------+------+---------+--------------------+--------------------+\n",
      "|show_id|   type|               title|           director|                cast|             country|        date_added|release_year|rating| duration|           listed_in|         description|\n",
      "+-------+-------+--------------------+-------------------+--------------------+--------------------+------------------+------------+------+---------+--------------------+--------------------+\n",
      "|     s8|  Movie|             Sankofa|       Haile Gerima|Kofi Ghanaba, Oya...|United States, Gh...|September 24, 2021|        1993| TV-MA|  125 min|Dramas, Independe...|On a photo shoot ...|\n",
      "|     s9|TV Show|The Great British...|    Andy Devonshire|Mel Giedroyc, Sue...|      United Kingdom|September 24, 2021|        2021| TV-14|9 Seasons|British TV Shows,...|A talented batch ...|\n",
      "|    s10|  Movie|        The Starling|     Theodore Melfi|Melissa McCarthy,...|       United States|September 24, 2021|        2021| PG-13|  104 min|    Comedies, Dramas|A woman adjusting...|\n",
      "|    s13|  Movie|        Je Suis Karl|Christian Schwochow|Luna Wedler, Jann...|Germany, Czech Re...|September 23, 2021|        2021| TV-MA|  127 min|Dramas, Internati...|After most of her...|\n",
      "|    s25|  Movie|               Jeans|         S. Shankar|Prashanth, Aishwa...|               India|September 21, 2021|        1998| TV-14|  166 min|Comedies, Interna...|When the father o...|\n",
      "+-------+-------+--------------------+-------------------+--------------------+--------------------+------------------+------------+------+---------+--------------------+--------------------+\n",
      "only showing top 5 rows\n",
      "\n"
     ]
    }
   ],
   "source": [
    "df.show(5)"
   ]
  },
  {
   "cell_type": "markdown",
   "metadata": {},
   "source": [
    "### Seleção de colunas"
   ]
  },
  {
   "cell_type": "code",
   "execution_count": 10,
   "metadata": {},
   "outputs": [
    {
     "name": "stdout",
     "output_type": "stream",
     "text": [
      "+--------------------+-------------------+------+\n",
      "|               title|           director|rating|\n",
      "+--------------------+-------------------+------+\n",
      "|             Sankofa|       Haile Gerima| TV-MA|\n",
      "|The Great British...|    Andy Devonshire| TV-14|\n",
      "|        The Starling|     Theodore Melfi| PG-13|\n",
      "|        Je Suis Karl|Christian Schwochow| TV-MA|\n",
      "|               Jeans|         S. Shankar| TV-14|\n",
      "|           Grown Ups|       Dennis Dugan| PG-13|\n",
      "|          Dark Skies|      Scott Stewart| PG-13|\n",
      "|            Paranoia|     Robert Luketic| PG-13|\n",
      "| Birth of the Dragon|       George Nolfi| PG-13|\n",
      "|                Jaws|   Steven Spielberg|    PG|\n",
      "+--------------------+-------------------+------+\n",
      "only showing top 10 rows\n",
      "\n"
     ]
    }
   ],
   "source": [
    "#forma mais rapida\n",
    "df.select('title', 'director', 'rating').show(10)"
   ]
  },
  {
   "cell_type": "code",
   "execution_count": 11,
   "metadata": {},
   "outputs": [
    {
     "name": "stdout",
     "output_type": "stream",
     "text": [
      "+--------------------+------------+\n",
      "|               title|release_year|\n",
      "+--------------------+------------+\n",
      "|             Sankofa|        1993|\n",
      "|The Great British...|        2021|\n",
      "|        The Starling|        2021|\n",
      "|        Je Suis Karl|        2021|\n",
      "|               Jeans|        1998|\n",
      "+--------------------+------------+\n",
      "only showing top 5 rows\n",
      "\n"
     ]
    }
   ],
   "source": [
    "df.select(col('title'), col('release_year')).show(5)"
   ]
  },
  {
   "cell_type": "code",
   "execution_count": 12,
   "metadata": {},
   "outputs": [
    {
     "name": "stdout",
     "output_type": "stream",
     "text": [
      "+--------------------+\n",
      "|               title|\n",
      "+--------------------+\n",
      "|             Sankofa|\n",
      "|The Great British...|\n",
      "|        The Starling|\n",
      "|        Je Suis Karl|\n",
      "|               Jeans|\n",
      "+--------------------+\n",
      "only showing top 5 rows\n",
      "\n"
     ]
    }
   ],
   "source": [
    "df.select(df['title']).show(5)"
   ]
  },
  {
   "cell_type": "markdown",
   "metadata": {},
   "source": [
    "### Seleção com alias"
   ]
  },
  {
   "cell_type": "code",
   "execution_count": 13,
   "metadata": {},
   "outputs": [
    {
     "name": "stdout",
     "output_type": "stream",
     "text": [
      "+-------+\n",
      "|censura|\n",
      "+-------+\n",
      "|  TV-MA|\n",
      "|  TV-14|\n",
      "|  PG-13|\n",
      "|  TV-MA|\n",
      "|  TV-14|\n",
      "+-------+\n",
      "only showing top 5 rows\n",
      "\n"
     ]
    }
   ],
   "source": [
    "df.select(col('rating').alias('censura')).show(5)"
   ]
  },
  {
   "cell_type": "markdown",
   "metadata": {},
   "source": [
    "### Organizar seleção"
   ]
  },
  {
   "cell_type": "code",
   "execution_count": 14,
   "metadata": {},
   "outputs": [
    {
     "name": "stdout",
     "output_type": "stream",
     "text": [
      "+------------+-------------------+--------------------+------+-------+\n",
      "|release_year|           director|               title|rating|   type|\n",
      "+------------+-------------------+--------------------+------+-------+\n",
      "|        1993|       Haile Gerima|             Sankofa| TV-MA|  Movie|\n",
      "|        2021|    Andy Devonshire|The Great British...| TV-14|TV Show|\n",
      "|        2021|     Theodore Melfi|        The Starling| PG-13|  Movie|\n",
      "|        2021|Christian Schwochow|        Je Suis Karl| TV-MA|  Movie|\n",
      "|        1998|         S. Shankar|               Jeans| TV-14|  Movie|\n",
      "+------------+-------------------+--------------------+------+-------+\n",
      "only showing top 5 rows\n",
      "\n"
     ]
    }
   ],
   "source": [
    "#pode chamar na ordem que quiser\n",
    "df.select('release_year','director','title','rating','type').show(5)"
   ]
  },
  {
   "cell_type": "code",
   "execution_count": 15,
   "metadata": {},
   "outputs": [
    {
     "name": "stdout",
     "output_type": "stream",
     "text": [
      "+-------+-------+--------------------+-------------------+--------------------+--------------------+------------------+------------+------+---------+--------------------+--------------------+\n",
      "|show_id|   type|               title|           director|                cast|             country|        date_added|release_year|rating| duration|           listed_in|         description|\n",
      "+-------+-------+--------------------+-------------------+--------------------+--------------------+------------------+------------+------+---------+--------------------+--------------------+\n",
      "|     s8|  Movie|             Sankofa|       Haile Gerima|Kofi Ghanaba, Oya...|United States, Gh...|September 24, 2021|        1993| TV-MA|  125 min|Dramas, Independe...|On a photo shoot ...|\n",
      "|     s9|TV Show|The Great British...|    Andy Devonshire|Mel Giedroyc, Sue...|      United Kingdom|September 24, 2021|        2021| TV-14|9 Seasons|British TV Shows,...|A talented batch ...|\n",
      "|    s10|  Movie|        The Starling|     Theodore Melfi|Melissa McCarthy,...|       United States|September 24, 2021|        2021| PG-13|  104 min|    Comedies, Dramas|A woman adjusting...|\n",
      "|    s13|  Movie|        Je Suis Karl|Christian Schwochow|Luna Wedler, Jann...|Germany, Czech Re...|September 23, 2021|        2021| TV-MA|  127 min|Dramas, Internati...|After most of her...|\n",
      "|    s25|  Movie|               Jeans|         S. Shankar|Prashanth, Aishwa...|               India|September 21, 2021|        1998| TV-14|  166 min|Comedies, Interna...|When the father o...|\n",
      "+-------+-------+--------------------+-------------------+--------------------+--------------------+------------------+------------+------+---------+--------------------+--------------------+\n",
      "only showing top 5 rows\n",
      "\n"
     ]
    }
   ],
   "source": [
    "df.show(5)"
   ]
  },
  {
   "cell_type": "markdown",
   "metadata": {},
   "source": [
    "### Filtrar Dataframe"
   ]
  },
  {
   "cell_type": "code",
   "execution_count": 16,
   "metadata": {},
   "outputs": [
    {
     "name": "stdout",
     "output_type": "stream",
     "text": [
      "+-------+-----+--------------------+-------------------+--------------------+--------------------+------------------+------------+------+--------+--------------------+--------------------+\n",
      "|show_id| type|               title|           director|                cast|             country|        date_added|release_year|rating|duration|           listed_in|         description|\n",
      "+-------+-----+--------------------+-------------------+--------------------+--------------------+------------------+------------+------+--------+--------------------+--------------------+\n",
      "|     s8|Movie|             Sankofa|       Haile Gerima|Kofi Ghanaba, Oya...|United States, Gh...|September 24, 2021|        1993| TV-MA| 125 min|Dramas, Independe...|On a photo shoot ...|\n",
      "|    s10|Movie|        The Starling|     Theodore Melfi|Melissa McCarthy,...|       United States|September 24, 2021|        2021| PG-13| 104 min|    Comedies, Dramas|A woman adjusting...|\n",
      "|    s13|Movie|        Je Suis Karl|Christian Schwochow|Luna Wedler, Jann...|Germany, Czech Re...|September 23, 2021|        2021| TV-MA| 127 min|Dramas, Internati...|After most of her...|\n",
      "|    s25|Movie|               Jeans|         S. Shankar|Prashanth, Aishwa...|               India|September 21, 2021|        1998| TV-14| 166 min|Comedies, Interna...|When the father o...|\n",
      "|    s28|Movie|           Grown Ups|       Dennis Dugan|Adam Sandler, Kev...|       United States|September 20, 2021|        2010| PG-13| 103 min|            Comedies|Mourning the loss...|\n",
      "|    s29|Movie|          Dark Skies|      Scott Stewart|Keri Russell, Jos...|       United States|September 19, 2021|        2013| PG-13|  97 min|Horror Movies, Sc...|A family’s idylli...|\n",
      "|    s30|Movie|            Paranoia|     Robert Luketic|Liam Hemsworth, G...|United States, In...|September 19, 2021|        2013| PG-13| 106 min|           Thrillers|Blackmailed by hi...|\n",
      "|    s39|Movie| Birth of the Dragon|       George Nolfi|Billy Magnussen, ...|China, Canada, Un...|September 16, 2021|        2017| PG-13|  96 min|Action & Adventur...|A young Bruce Lee...|\n",
      "|    s42|Movie|                Jaws|   Steven Spielberg|Roy Scheider, Rob...|       United States|September 16, 2021|        1975|    PG| 124 min|Action & Adventur...|When an insatiabl...|\n",
      "|    s43|Movie|              Jaws 2|     Jeannot Szwarc|Roy Scheider, Lor...|       United States|September 16, 2021|        1978|    PG| 116 min|Dramas, Horror Mo...|Four years after ...|\n",
      "|    s44|Movie|              Jaws 3|          Joe Alves|Dennis Quaid, Bes...|       United States|September 16, 2021|        1983|    PG|  98 min|Action & Adventur...|After the staff o...|\n",
      "|    s45|Movie|   Jaws: The Revenge|     Joseph Sargent|Lorraine Gary, La...|       United States|September 16, 2021|        1987| PG-13|  91 min|Action & Adventur...|After another dea...|\n",
      "|    s47|Movie|          Safe House|    Daniel Espinosa|Denzel Washington...|South Africa, Uni...|September 16, 2021|        2012|     R| 115 min|  Action & Adventure|Young CIA operati...|\n",
      "|    s49|Movie|        Training Day|      Antoine Fuqua|Denzel Washington...|       United States|September 16, 2021|        2001|     R| 122 min|   Dramas, Thrillers|A rookie cop with...|\n",
      "|    s52|Movie|InuYasha the Movi...|  Toshiya Shinohara|Kappei Yamaguchi,...|               Japan|September 15, 2021|        2002| TV-14|  99 min|Action & Adventur...|With their bigges...|\n",
      "|    s53|Movie|InuYasha the Movi...|  Toshiya Shinohara|Kappei Yamaguchi,...|               Japan|September 15, 2021|        2003| TV-14|  99 min|Action & Adventur...|The Great Dog Dem...|\n",
      "|    s54|Movie|InuYasha the Movi...|  Toshiya Shinohara|Kappei Yamaguchi,...|               Japan|September 15, 2021|        2004| TV-PG|  88 min|Action & Adventur...|Ai, a young half-...|\n",
      "|    s55|Movie|InuYasha the Movi...|  Toshiya Shinohara|Kappei Yamaguchi,...|               Japan|September 15, 2021|        2001| TV-PG| 100 min|Action & Adventur...|A powerful demon ...|\n",
      "|    s57|Movie|Naruto Shippuden ...|    Masahiko Murata|Junko Takeuchi, C...|               Japan|September 15, 2021|        2011| TV-14| 102 min|Action & Adventur...|Mistakenly accuse...|\n",
      "|    s58|Movie|Naruto Shippûden ...|    Hajime Kamegaki|Junko Takeuchi, C...|               Japan|September 15, 2021|        2008| TV-PG|  93 min|Action & Adventur...|When strange ninj...|\n",
      "+-------+-----+--------------------+-------------------+--------------------+--------------------+------------------+------------+------+--------+--------------------+--------------------+\n",
      "only showing top 20 rows\n",
      "\n"
     ]
    }
   ],
   "source": [
    "df.filter(\"type != 'TV Show'\").show()"
   ]
  },
  {
   "cell_type": "code",
   "execution_count": 17,
   "metadata": {},
   "outputs": [
    {
     "name": "stdout",
     "output_type": "stream",
     "text": [
      "+-------+-------+--------------------+--------------------+----------------------+-------+------------------+------------+------+--------+--------------------+--------------------+\n",
      "|show_id|   type|               title|            director|                  cast|country|        date_added|release_year|rating|duration|           listed_in|         description|\n",
      "+-------+-------+--------------------+--------------------+----------------------+-------+------------------+------------+------+--------+--------------------+--------------------+\n",
      "|    s52|  Movie|InuYasha the Movi...|   Toshiya Shinohara|  Kappei Yamaguchi,...|  Japan|September 15, 2021|        2002| TV-14|  99 min|Action & Adventur...|With their bigges...|\n",
      "|    s53|  Movie|InuYasha the Movi...|   Toshiya Shinohara|  Kappei Yamaguchi,...|  Japan|September 15, 2021|        2003| TV-14|  99 min|Action & Adventur...|The Great Dog Dem...|\n",
      "|    s54|  Movie|InuYasha the Movi...|   Toshiya Shinohara|  Kappei Yamaguchi,...|  Japan|September 15, 2021|        2004| TV-PG|  88 min|Action & Adventur...|Ai, a young half-...|\n",
      "|    s55|  Movie|InuYasha the Movi...|   Toshiya Shinohara|  Kappei Yamaguchi,...|  Japan|September 15, 2021|        2001| TV-PG| 100 min|Action & Adventur...|A powerful demon ...|\n",
      "|    s57|  Movie|Naruto Shippuden ...|     Masahiko Murata|  Junko Takeuchi, C...|  Japan|September 15, 2021|        2011| TV-14| 102 min|Action & Adventur...|Mistakenly accuse...|\n",
      "|    s58|  Movie|Naruto Shippûden ...|     Hajime Kamegaki|  Junko Takeuchi, C...|  Japan|September 15, 2021|        2008| TV-PG|  93 min|Action & Adventur...|When strange ninj...|\n",
      "|    s59|  Movie|Naruto Shippûden ...|     Masahiko Murata|  Junko Takeuchi, C...|  Japan|September 15, 2021|        2009| TV-PG|  96 min|Action & Adventur...|When four out of ...|\n",
      "|    s60|  Movie|Naruto Shippuden:...|     Hajime Kamegaki|  Junko Takeuchi, C...|  Japan|September 15, 2021|        2007| TV-PG|  95 min|Action & Adventur...|The adventures of...|\n",
      "|    s61|  Movie|Naruto Shippuden:...|     Masahiko Murata|  Junko Takeuchi, C...|  Japan|September 15, 2021|        2010| TV-14|  85 min|Action & Adventur...|When Naruto is se...|\n",
      "|    s62|  Movie|Naruto the Movie ...|  Hirotsugu Kawasaki|  Junko Takeuchi, G...|  Japan|September 15, 2021|        2005| TV-PG|  97 min|Action & Adventur...|While on a missio...|\n",
      "|    s63|  Movie|Naruto the Movie ...|     Toshiyuki Tsuru|  Junko Takeuchi, C...|  Japan|September 15, 2021|        2006| TV-PG|  95 min|Action & Adventur...|Exuberant ninja N...|\n",
      "|    s64|  Movie|Naruto the Movie:...|      Tensai Okamura|  Junko Takeuchi, N...|  Japan|September 15, 2021|        2004| TV-PG|  83 min|Action & Adventur...|Naruto, Sasuke an...|\n",
      "|   s804|TV Show|Ouran High School...|     Takuya Igarashi|  Maaya Sakamoto, M...|  Japan|      June 2, 2021|        2006| TV-PG|1 Season|Anime Series, Rom...|New student Haruh...|\n",
      "|   s997|  Movie|          HOMUNCULUS|     Takashi Shimizu|  Go Ayano, Ryo Nar...|  Japan|    April 22, 2021|        2021| TV-MA| 116 min|Horror Movies, In...|Truth and illusio...|\n",
      "|  s1042|  Movie|             GANTZ:O|Keiichi Sato, Yas...|Daisuke Ono, M・A・...|  Japan|    April 15, 2021|        2016| TV-MA|  96 min|Action & Adventur...|Teams of recently...|\n",
      "|  s1051|  Movie|         Ride or Die|      Ryuichi Hiroki|  Kiko Mizuhara, Ho...|  Japan|    April 15, 2021|        2021| TV-MA| 143 min|Dramas, Internati...|Rei helps the wom...|\n",
      "|  s1132|  Movie|Seven Souls in th...|      Hidenori Inoue|  Shun Oguri, Koji ...|  Japan|     April 1, 2021|        2017| TV-14| 181 min|Action & Adventur...|Japan, 1590. Wand...|\n",
      "|  s1177|  Movie|Any Crybabies Aro...|         Takuma Sato|  Taiga Nakano, Rih...|  Japan|    March 20, 2021|        2020| TV-MA| 108 min|Dramas, Internati...|An immature young...|\n",
      "|  s1274|  Movie|Blue, Painful, Fr...|   Shunsuke Kariyama|  Ryo Yoshizawa, Ha...|  Japan| February 24, 2021|        2020| TV-14| 119 min|International Mov...|Kaede and Hisano ...|\n",
      "|  s1744|  Movie|              MOTHER|      Tatsushi Omori|  Masami Nagasawa, ...|  Japan|  November 3, 2020|        2020| TV-14| 127 min|Dramas, Internati...|Shuhei’s erratic ...|\n",
      "+-------+-------+--------------------+--------------------+----------------------+-------+------------------+------------+------+--------+--------------------+--------------------+\n",
      "only showing top 20 rows\n",
      "\n"
     ]
    }
   ],
   "source": [
    "df.filter(\"country = 'Japan'\").show()"
   ]
  },
  {
   "cell_type": "code",
   "execution_count": 18,
   "metadata": {},
   "outputs": [
    {
     "name": "stdout",
     "output_type": "stream",
     "text": [
      "+-------+-----+--------------------+------------+--------------------+-------+-------------+------------+------+--------+--------------------+--------------------+\n",
      "|show_id| type|               title|    director|                cast|country|   date_added|release_year|rating|duration|           listed_in|         description|\n",
      "+-------+-----+--------------------+------------+--------------------+-------+-------------+------------+------+--------+--------------------+--------------------+\n",
      "|  s3721|Movie|EVANGELION: DEATH...|Hideaki Anno|Megumi Ogata, Kot...|  Japan|June 21, 2019|        1998| TV-MA|  69 min|Action & Adventur...|Fifteen years aft...|\n",
      "+-------+-----+--------------------+------------+--------------------+-------+-------------+------------+------+--------+--------------------+--------------------+\n",
      "\n"
     ]
    }
   ],
   "source": [
    "df.filter(col('director') == 'Hideaki Anno').show()"
   ]
  },
  {
   "cell_type": "code",
   "execution_count": 19,
   "metadata": {},
   "outputs": [
    {
     "name": "stdout",
     "output_type": "stream",
     "text": [
      "+-------+-----+-----------------+--------------------+--------------------+--------------------+-----------------+------------+------+--------+--------------------+--------------------+\n",
      "|show_id| type|            title|            director|                cast|             country|       date_added|release_year|rating|duration|           listed_in|         description|\n",
      "+-------+-----+-----------------+--------------------+--------------------+--------------------+-----------------+------------+------+--------+--------------------+--------------------+\n",
      "|  s3263|Movie|The Green Inferno|            Eli Roth|Ignacia Allamand,...|United States, Chile|November 16, 2019|        2013|     R| 101 min|Horror Movies, In...|Determined to sav...|\n",
      "|  s8538|Movie|        The Trust|Ben Brewer, Alex ...|Nicolas Cage, Eli...|       United States|    April 1, 2019|        2015|     R|  91 min|           Thrillers|Discovering the l...|\n",
      "+-------+-----+-----------------+--------------------+--------------------+--------------------+-----------------+------------+------+--------+--------------------+--------------------+\n",
      "\n"
     ]
    }
   ],
   "source": [
    "df.filter(col('cast').contains('Sky Ferreira')).show()"
   ]
  },
  {
   "cell_type": "markdown",
   "metadata": {},
   "source": [
    "filtrar por parte do valor"
   ]
  },
  {
   "cell_type": "code",
   "execution_count": 20,
   "metadata": {},
   "outputs": [
    {
     "name": "stdout",
     "output_type": "stream",
     "text": [
      "+-------+-----+--------------------+--------------------+--------------------+--------------------+------------------+------------+------+--------+--------------------+--------------------+\n",
      "|show_id| type|               title|            director|                cast|             country|        date_added|release_year|rating|duration|           listed_in|         description|\n",
      "+-------+-----+--------------------+--------------------+--------------------+--------------------+------------------+------------+------+--------+--------------------+--------------------+\n",
      "|     s8|Movie|             Sankofa|        Haile Gerima|Kofi Ghanaba, Oya...|United States, Gh...|September 24, 2021|        1993| TV-MA| 125 min|Dramas, Independe...|On a photo shoot ...|\n",
      "|    s10|Movie|        The Starling|      Theodore Melfi|Melissa McCarthy,...|       United States|September 24, 2021|        2021| PG-13| 104 min|    Comedies, Dramas|A woman adjusting...|\n",
      "|    s28|Movie|           Grown Ups|        Dennis Dugan|Adam Sandler, Kev...|       United States|September 20, 2021|        2010| PG-13| 103 min|            Comedies|Mourning the loss...|\n",
      "|    s29|Movie|          Dark Skies|       Scott Stewart|Keri Russell, Jos...|       United States|September 19, 2021|        2013| PG-13|  97 min|Horror Movies, Sc...|A family’s idylli...|\n",
      "|    s30|Movie|            Paranoia|      Robert Luketic|Liam Hemsworth, G...|United States, In...|September 19, 2021|        2013| PG-13| 106 min|           Thrillers|Blackmailed by hi...|\n",
      "|    s39|Movie| Birth of the Dragon|        George Nolfi|Billy Magnussen, ...|China, Canada, Un...|September 16, 2021|        2017| PG-13|  96 min|Action & Adventur...|A young Bruce Lee...|\n",
      "|    s42|Movie|                Jaws|    Steven Spielberg|Roy Scheider, Rob...|       United States|September 16, 2021|        1975|    PG| 124 min|Action & Adventur...|When an insatiabl...|\n",
      "|    s43|Movie|              Jaws 2|      Jeannot Szwarc|Roy Scheider, Lor...|       United States|September 16, 2021|        1978|    PG| 116 min|Dramas, Horror Mo...|Four years after ...|\n",
      "|    s44|Movie|              Jaws 3|           Joe Alves|Dennis Quaid, Bes...|       United States|September 16, 2021|        1983|    PG|  98 min|Action & Adventur...|After the staff o...|\n",
      "|    s45|Movie|   Jaws: The Revenge|      Joseph Sargent|Lorraine Gary, La...|       United States|September 16, 2021|        1987| PG-13|  91 min|Action & Adventur...|After another dea...|\n",
      "|    s47|Movie|          Safe House|     Daniel Espinosa|Denzel Washington...|South Africa, Uni...|September 16, 2021|        2012|     R| 115 min|  Action & Adventure|Young CIA operati...|\n",
      "|    s49|Movie|        Training Day|       Antoine Fuqua|Denzel Washington...|       United States|September 16, 2021|        2001|     R| 122 min|   Dramas, Thrillers|A rookie cop with...|\n",
      "|    s82|Movie|                Kate|Cedric Nicolas-Tr...|Mary Elizabeth Wi...|       United States|September 10, 2021|        2021|     R| 106 min|  Action & Adventure|Slipped a fatal p...|\n",
      "|    s91|Movie|      Paradise Hills|    Alice Waddington|Emma Roberts, Dan...|Spain, United States| September 9, 2021|        2019| TV-MA|  95 min|Sci-Fi & Fantasy,...|Uma wakes up in a...|\n",
      "|    s95|Movie|           Show Dogs|        Raja Gosnell|Will Arnett, Luda...|United Kingdom, U...| September 8, 2021|        2018|    PG|  90 min|Children & Family...|A rough and tough...|\n",
      "|    s97|Movie|If I Leave Here T...|       Stephen Kijak|Ronnie Van Zandt,...|       United States| September 7, 2021|        2018| TV-MA|  97 min|Documentaries, Mu...|Using interviews ...|\n",
      "|   s108|Movie|    A Champion Heart|        David de Vos|Mandy Grace, Davi...|       United States| September 4, 2021|        2018|     G|  90 min|Children & Family...|When a grieving t...|\n",
      "|   s123|Movie|          In the Cut|        Jane Campion|Meg Ryan, Mark Ru...|United Kingdom, A...| September 2, 2021|        2003|     R| 118 min|           Thrillers|After embarking o...|\n",
      "|   s128|Movie|  A Cinderella Story|         Mark Rosman|Hilary Duff, Chad...|United States, Ca...| September 1, 2021|        2004|    PG|  95 min|Children & Family...|Teen Sam meets th...|\n",
      "|   s130|Movie|  An Unfinished Life|     Lasse Hallström|Robert Redford, J...|Germany, United S...| September 1, 2021|        2005| PG-13| 108 min|              Dramas|A grieving widow ...|\n",
      "+-------+-----+--------------------+--------------------+--------------------+--------------------+------------------+------------+------+--------+--------------------+--------------------+\n",
      "only showing top 20 rows\n",
      "\n"
     ]
    }
   ],
   "source": [
    "df.filter(col('country').contains(\"United States\")).show()"
   ]
  },
  {
   "cell_type": "markdown",
   "metadata": {},
   "source": [
    "### Filtragem em duas condições"
   ]
  },
  {
   "cell_type": "code",
   "execution_count": 21,
   "metadata": {},
   "outputs": [
    {
     "name": "stdout",
     "output_type": "stream",
     "text": [
      "+-------+-------+--------------------+--------------------+---------------------+-------+-----------------+------------+------+---------+--------------------+--------------------+\n",
      "|show_id|   type|               title|            director|                 cast|country|       date_added|release_year|rating| duration|           listed_in|         description|\n",
      "+-------+-------+--------------------+--------------------+---------------------+-------+-----------------+------------+------+---------+--------------------+--------------------+\n",
      "|   s804|TV Show|Ouran High School...|     Takuya Igarashi| Maaya Sakamoto, M...|  Japan|     June 2, 2021|        2006| TV-PG| 1 Season|Anime Series, Rom...|New student Haruh...|\n",
      "|  s2603|TV Show|The Forest of Lov...|           Sion Sono| Kippei Shiina, Sh...|  Japan|   April 30, 2020|        2020| TV-MA| 1 Season|Crime TV Shows, I...|Nothing's as it s...|\n",
      "|  s3138|TV Show|    Girls und Panzer|   Tsutomu Mizushima| Mai Fuchigami, Ai...|  Japan|December 15, 2019|        2012| TV-PG| 1 Season|Anime Series, Int...|Miho Nishizumi tr...|\n",
      "|  s3542|TV Show|              Naruto|         Hayato Date| Junko Takeuchi, C...|  Japan|September 1, 2019|        2006| TV-14|9 Seasons|Anime Series, Int...|Guided by the spi...|\n",
      "|  s4992|TV Show|            A.I.C.O.|       Kazuya Murata| Haruka Shiraishi,...|  Japan|    March 9, 2018|        2018| TV-14| 1 Season|Anime Series, Int...|Everything Aiko k...|\n",
      "|  s5078|TV Show|            Godzilla|Kobun Shizuno, Hi...| Mamoru Miyano, Ta...|  Japan| January 17, 2018|        2017| TV-14| 1 Season|            TV Shows|A desperate group...|\n",
      "|  s5093|TV Show|    Devilman Crybaby|       Masaaki Yuasa| Kouki Uchiyama, A...|  Japan|  January 5, 2018|        2018| TV-MA| 1 Season|Anime Series, Int...|With demons reawa...|\n",
      "|  s5097|TV Show|Fullmetal Alchemi...|       Yasuhiro Irie| Romi Park, Rie Ku...|  Japan|  January 1, 2018|        2010| TV-14|5 Seasons|Anime Series, Int...|After both suffer...|\n",
      "|  s5175|TV Show|Glitter Force Dok...|             Go Koga| Debi Derryberry, ...|  Japan|November 10, 2017|        2017| TV-Y7|2 Seasons|Anime Series, Kid...|Four girls summon...|\n",
      "|  s5835|TV Show|          Kuromukuro|      Tensai Okamura|Yohei Azakami, M・...|  Japan|     July 4, 2016|        2016| TV-14|2 Seasons|Anime Series, Int...|When mecha attack...|\n",
      "+-------+-------+--------------------+--------------------+---------------------+-------+-----------------+------------+------+---------+--------------------+--------------------+\n",
      "\n"
     ]
    }
   ],
   "source": [
    "df.filter((col('country') == 'Japan') & (col('type') == 'TV Show')).show()"
   ]
  },
  {
   "cell_type": "code",
   "execution_count": 22,
   "metadata": {},
   "outputs": [
    {
     "name": "stdout",
     "output_type": "stream",
     "text": [
      "+-------+-----+--------------------+--------------------+--------------------+--------------------+------------------+------------+------+--------+--------------------+--------------------+\n",
      "|show_id| type|               title|            director|                cast|             country|        date_added|release_year|rating|duration|           listed_in|         description|\n",
      "+-------+-----+--------------------+--------------------+--------------------+--------------------+------------------+------------+------+--------+--------------------+--------------------+\n",
      "|    s82|Movie|                Kate|Cedric Nicolas-Tr...|Mary Elizabeth Wi...|       United States|September 10, 2021|        2021|     R| 106 min|  Action & Adventure|Slipped a fatal p...|\n",
      "|  s4292|Movie|  Kill the Messenger|      Michael Cuesta|Jeremy Renner, Ro...|       United States| December 16, 2018|        2014|     R| 112 min|   Dramas, Thrillers|In the 1980s, a c...|\n",
      "|  s6037|Movie|A Glimpse Inside ...|       Roman Coppola|Charlie Sheen, Ja...|       United States|     July 15, 2018|        2012|     R|  86 min|Comedies, Indepen...|When his girlfrie...|\n",
      "|  s6116|Movie|      All About Nina|           Eva Vives|Mary Elizabeth Wi...|       United States|    March 18, 2019|        2018|     R| 101 min|Comedies, Dramas,...|Fearless provocat...|\n",
      "|  s6756|Movie| Final Destination 3|          James Wong|Mary Elizabeth Wi...|United States, Ge...|   January 1, 2020|        2006|     R|  93 min|       Horror Movies|When a girl preve...|\n",
      "|  s7961|Movie|Scott Pilgrim vs....|        Edgar Wright|Michael Cera, Mar...|United States, Un...|September 16, 2018|        2010| PG-13| 112 min|Action & Adventur...|Dreamy delivery g...|\n",
      "|  s8141|Movie|      Swiss Army Man|Dan Kwan, Daniel ...|Paul Dano, Daniel...|United States, Sw...|  January 30, 2019|        2016|     R|  97 min|Comedies, Dramas,...|A washed-up corps...|\n",
      "|  s8514|Movie| The Spectacular Now|      James Ponsoldt|Miles Teller, Sha...|       United States|     July 15, 2018|        2013|     R|  95 min|Dramas, Independe...|Classmates Aimee ...|\n",
      "+-------+-----+--------------------+--------------------+--------------------+--------------------+------------------+------------+------+--------+--------------------+--------------------+\n",
      "\n"
     ]
    }
   ],
   "source": [
    "df.filter('type = \"Movie\"').filter(col('cast').contains('Mary Elizabeth Winstead')).show()"
   ]
  },
  {
   "cell_type": "markdown",
   "metadata": {},
   "source": [
    "### Filtrar com duas condições (OR / |)"
   ]
  },
  {
   "cell_type": "code",
   "execution_count": 23,
   "metadata": {},
   "outputs": [
    {
     "name": "stdout",
     "output_type": "stream",
     "text": [
      "+-------+-----+--------------------+--------------------+--------------------+-------+-----------------+------------+------+--------+--------------------+--------------------+\n",
      "|show_id| type|               title|            director|                cast|country|       date_added|release_year|rating|duration|           listed_in|         description|\n",
      "+-------+-----+--------------------+--------------------+--------------------+-------+-----------------+------------+------+--------+--------------------+--------------------+\n",
      "|   s706|Movie|      Biking Borders|            Max Jabs|Max Jabs, Nono Ko...|Germany|    June 16, 2021|        2019| TV-14|  89 min|Documentaries, In...|Best friends Max ...|\n",
      "|   s769|Movie|      Dancing Queens|    Helena Bergström|Molly Nutley, Fre...| Sweden|     June 3, 2021|        2021| TV-MA| 111 min|Comedies, Dramas,...|A dancer who gets...|\n",
      "|  s1032|Movie|       Into the Beat|  Stefan Westerwelle|Alexandra Pfeifer...|Germany|   April 16, 2021|        2020| TV-14| 102 min|Dramas, Internati...|A teen ballerina ...|\n",
      "|  s1199|Movie|RebellComedy: Str...|    Ladislaus Kiraly|Khalid Bounouar, ...|Germany|   March 16, 2021|        2021| TV-MA|  74 min|     Stand-Up Comedy|The comics of Reb...|\n",
      "|  s1253|Movie|How to Be Really Bad|         Marco Petry|Emma Bading, Jani...|Germany|    March 1, 2021|        2018| TV-14| 100 min|Comedies, Interna...|The devil's sassy...|\n",
      "|  s1268|Movie|            Who Am I|       Baran bo Odar|Tom Schilling, El...|Germany|February 26, 2021|        2014| TV-MA| 102 min|International Mov...|After his compatr...|\n",
      "|  s1326|Movie|             Red Dot|       Alain Darborg|Nanna Blondell, A...| Sweden|February 11, 2021|        2021| TV-MA|  86 min|International Mov...|Trying to rekindl...|\n",
      "|  s1593|Movie| Christmas Crossfire|         Detlev Buck|Kostja Ullmann, A...|Germany| December 4, 2020|        2020| TV-MA| 106 min|Comedies, Interna...|A man foils an at...|\n",
      "|  s1743|Movie|Felix Lobrecht: Hype|     Jan-Peter Horns|      Felix Lobrecht|Germany| November 3, 2020|        2020| TV-MA|  60 min|     Stand-Up Comedy|Felix Lobrecht ai...|\n",
      "|  s2056|Movie|Freaks – You're O...|        Felix Binder|Cornelia Gröschel...|Germany|September 2, 2020|        2020| TV-MA|  93 min|Dramas, Independe...|Tipped by a myste...|\n",
      "|  s2151|Movie|Berlin, Berlin: L...|Franziska Meyer P...|Felicitas Woll, J...|Germany|   August 7, 2020|        2020| TV-MA|  82 min|Comedies, Interna...|In this cinematic...|\n",
      "|  s2186|Movie|Latte and the Mag...|Regina Welker, Ni...|Ashley Bornancin,...|Germany|    July 31, 2020|        2020|  TV-Y|  83 min|Children & Family...|When a greedy bea...|\n",
      "|  s2672|Movie|         Rising High|         Cüneyt Kaya|David Kross, Fred...|Germany|   April 17, 2020|        2020| TV-MA|  95 min|Dramas, Internati...|Ready to do anyth...|\n",
      "|  s2720|Movie|David Batra: Elef...|David Batra, Jon ...|         David Batra| Sweden|    April 1, 2020|        2020| TV-MA|  77 min|     Stand-Up Comedy|Swedish comedian ...|\n",
      "|  s2896|Movie|      System Crasher|    Nora Fingscheidt|Helena Zengel, Al...|Germany|February 21, 2020|        2020| TV-MA| 120 min|Dramas, Independe...|Traumatized, viol...|\n",
      "|  s2915|Movie|          Isi & Ossi|       Oliver Kienle|Lisa Vicari, Denn...|Germany|February 14, 2020|        2020| TV-MA| 113 min|Comedies, Interna...|A billionaire's d...|\n",
      "|  s3673|Movie|   Kidnapping Stella|       Thomas Sieben|Max von der Groeb...|Germany|    July 12, 2019|        2019| TV-MA|  90 min|Dramas, Internati...|Snatched off the ...|\n",
      "|  s3736|Movie|Right Here Right Now|          Jakob Lass|Niklas Bruhn, Dav...|Germany|    June 16, 2019|        2018| TV-MA|  91 min|Comedies, Dramas,...|The owner of a fa...|\n",
      "|  s3768|Movie|       Rock My Heart|   Hanno Olderdissen|Lena Klenke, Diet...|Germany|     June 7, 2019|        2019| TV-PG| 110 min|Children & Family...|After an adventur...|\n",
      "|  s3773|Movie|       Alles ist gut|        Eva Trobisch|Aenne Schwarz, An...|Germany|     June 6, 2019|        2019| TV-MA|  90 min|Dramas, Internati...|A woman sexually ...|\n",
      "+-------+-----+--------------------+--------------------+--------------------+-------+-----------------+------------+------+--------+--------------------+--------------------+\n",
      "only showing top 20 rows\n",
      "\n"
     ]
    }
   ],
   "source": [
    "df.filter((col('country') == 'Germany') | (col('country') == 'Sweden')).show()"
   ]
  },
  {
   "cell_type": "markdown",
   "metadata": {},
   "source": [
    "### Combinando & e | (And e OR)"
   ]
  },
  {
   "cell_type": "code",
   "execution_count": 25,
   "metadata": {},
   "outputs": [
    {
     "name": "stdout",
     "output_type": "stream",
     "text": [
      "+-------+-----+--------------------+--------------------+--------------------+--------------------+------------------+------------+------+--------+--------------------+--------------------+\n",
      "|show_id| type|               title|            director|                cast|             country|        date_added|release_year|rating|duration|           listed_in|         description|\n",
      "+-------+-----+--------------------+--------------------+--------------------+--------------------+------------------+------------+------+--------+--------------------+--------------------+\n",
      "|   s351|Movie|       Space Cowboys|      Clint Eastwood|Clint Eastwood, T...|       United States|    August 1, 2021|        2000| PG-13| 130 min|Action & Adventur...|A retired enginee...|\n",
      "|   s360|Movie|The Original King...|           Spike Lee|Steve Harvey, D.L...|       United States|    August 1, 2021|        2000|     R| 111 min|     Stand-Up Comedy|Comedians Steve H...|\n",
      "|   s567|Movie|    Charlie's Angels|                 McG|Cameron Diaz, Dre...|United States, Ge...|      July 1, 2021|        2000| PG-13|  98 min|Action & Adventur...|A tight-knit trio...|\n",
      "|   s594|Movie|            Snow Day|          Chris Koch|Chris Elliott, Ma...|       United States|      July 1, 2021|        2000|    PG|  89 min|Children & Family...|When a snow day s...|\n",
      "|   s780|Movie|   Battlefield Earth|     Roger Christian|John Travolta, Ba...|       United States|      June 2, 2021|        2000| PG-13| 118 min|Action & Adventur...|In the year 3000,...|\n",
      "|   s953|Movie|The Whole Nine Yards|       Jonathan Lynn|Bruce Willis, Mat...|       United States|       May 1, 2021|        2000|     R|  99 min|Action & Adventur...|An unhappily marr...|\n",
      "|  s3473|Movie|Rugrats in Paris:...|Stig Bergqvist, P...|Elizabeth Daily, ...|Germany, United S...|   October 1, 2019|        2000|     G|  79 min|Children & Family...|The Rugrats take ...|\n",
      "|  s3721|Movie|EVANGELION: DEATH...|        Hideaki Anno|Megumi Ogata, Kot...|               Japan|     June 21, 2019|        1998| TV-MA|  69 min|Action & Adventur...|Fifteen years aft...|\n",
      "|  s4546|Movie|Monty Python: Bef...|           Will Yapp|Graham Chapman, E...|      United Kingdom|   October 2, 2018|        2000| TV-MA|  56 min|Comedies, Documen...|Discover how six ...|\n",
      "|  s4724|Movie|                Fiza|      Khalid Mohamed|Karisma Kapoor, J...|               India|    August 2, 2018|        2000| TV-14| 163 min|Dramas, Internati...|Fiza's brother di...|\n",
      "|  s4957|Movie|Phir Bhi Dil Hai ...|          Aziz Mirza|Shah Rukh Khan, J...|               India|     April 1, 2018|        2000| TV-14| 159 min|Comedies, Dramas,...|In this Bollywood...|\n",
      "|  s5954|Movie|Joseph: King of D...|Rob LaDuca, Rober...|Ben Affleck, Mark...|United States, Fr...|September 27, 2011|        2000| TV-PG|  75 min|Children & Family...|With his gift of ...|\n",
      "|  s6007|Movie|             28 Days|        Betty Thomas|Sandra Bullock, V...|       United States|September 30, 2020|        2000| PG-13| 104 min|    Comedies, Dramas|After her drunken...|\n",
      "|  s6148|Movie|     American Psycho|         Mary Harron|Christian Bale, W...|United States, Ca...| September 1, 2019|        2000|     R| 102 min|Comedies, Cult Mo...|With chiseled goo...|\n",
      "|  s6155|Movie|An American Tail:...|        Larry Latham|Thomas Dekker, Do...|       United States|     April 1, 2018|        2000|     G|  79 min|Children & Family...|When Fievel and f...|\n",
      "|  s6312|Movie|        Billy Elliot|      Stephen Daldry|Jamie Bell, Gary ...|United Kingdom, F...|  February 1, 2019|        2000|     R| 110 min|Dramas, Independe...|When a boy trades...|\n",
      "|  s6438|Movie|        Center Stage|     Nicholas Hytner|Amanda Schull, Zo...|       United States|   January 1, 2020|        2000| PG-13| 116 min|              Dramas|Vying for a spot ...|\n",
      "|  s6441|Movie|      Chal Mere Bhai|        David Dhawan|Sanjay Dutt, Salm...|               India| December 31, 2019|        2000| TV-14| 132 min|Comedies, Interna...|When a secretary ...|\n",
      "|  s6544|Movie|Crouching Tiger, ...|             Ang Lee|Chow Yun Fat, Mic...|Taiwan, Hong Kong...|     March 1, 2019|        2000| PG-13| 120 min|Action & Adventur...|A young woman in ...|\n",
      "|  s6644|Movie|Dragonheart: A Ne...|         Doug Lefler|Christopher Maste...|       United States|   January 1, 2020|        2000|    PG|  84 min|Action & Adventur...|This sequel intro...|\n",
      "+-------+-----+--------------------+--------------------+--------------------+--------------------+------------------+------------+------+--------+--------------------+--------------------+\n",
      "only showing top 20 rows\n",
      "\n"
     ]
    }
   ],
   "source": [
    "df.filter(((col(\"type\") == \"Movie\") & (col('director') == 'Hideaki Anno'))| (col(\"release_year\") == 2000 )).show()"
   ]
  },
  {
   "cell_type": "markdown",
   "metadata": {},
   "source": [
    "### Criar coluna condicional utilizando substring"
   ]
  },
  {
   "cell_type": "code",
   "execution_count": 26,
   "metadata": {},
   "outputs": [
    {
     "name": "stdout",
     "output_type": "stream",
     "text": [
      "+-------+-------+--------------------+-------------------+--------------------+--------------------+------------------+------------+------+---------+--------------------+--------------------+---+\n",
      "|show_id|   type|               title|           director|                cast|             country|        date_added|release_year|rating| duration|           listed_in|         description|Sub|\n",
      "+-------+-------+--------------------+-------------------+--------------------+--------------------+------------------+------------+------+---------+--------------------+--------------------+---+\n",
      "|     s8|  Movie|             Sankofa|       Haile Gerima|Kofi Ghanaba, Oya...|United States, Gh...|September 24, 2021|        1993| TV-MA|  125 min|Dramas, Independe...|On a photo shoot ...|Mov|\n",
      "|     s9|TV Show|The Great British...|    Andy Devonshire|Mel Giedroyc, Sue...|      United Kingdom|September 24, 2021|        2021| TV-14|9 Seasons|British TV Shows,...|A talented batch ...|TV |\n",
      "|    s10|  Movie|        The Starling|     Theodore Melfi|Melissa McCarthy,...|       United States|September 24, 2021|        2021| PG-13|  104 min|    Comedies, Dramas|A woman adjusting...|Mov|\n",
      "|    s13|  Movie|        Je Suis Karl|Christian Schwochow|Luna Wedler, Jann...|Germany, Czech Re...|September 23, 2021|        2021| TV-MA|  127 min|Dramas, Internati...|After most of her...|Mov|\n",
      "|    s25|  Movie|               Jeans|         S. Shankar|Prashanth, Aishwa...|               India|September 21, 2021|        1998| TV-14|  166 min|Comedies, Interna...|When the father o...|Mov|\n",
      "+-------+-------+--------------------+-------------------+--------------------+--------------------+------------------+------------+------+---------+--------------------+--------------------+---+\n",
      "only showing top 5 rows\n",
      "\n"
     ]
    }
   ],
   "source": [
    "df.withColumn('Sub', substring('type', 1, 3)).show(5)"
   ]
  },
  {
   "cell_type": "code",
   "execution_count": 27,
   "metadata": {},
   "outputs": [
    {
     "name": "stdout",
     "output_type": "stream",
     "text": [
      "+-------+-------+--------------------+-------------------+--------------------+--------------------+------------------+------------+------+---------+--------------------+--------------------+\n",
      "|show_id|   type|               title|           director|                cast|             country|        date_added|release_year|rating| duration|           listed_in|         description|\n",
      "+-------+-------+--------------------+-------------------+--------------------+--------------------+------------------+------------+------+---------+--------------------+--------------------+\n",
      "|     s8|  Movie|             Sankofa|       Haile Gerima|Kofi Ghanaba, Oya...|United States, Gh...|September 24, 2021|        1993| TV-MA|  125 min|Dramas, Independe...|On a photo shoot ...|\n",
      "|     s9|TV Show|The Great British...|    Andy Devonshire|Mel Giedroyc, Sue...|      United Kingdom|September 24, 2021|        2021| TV-14|9 Seasons|British TV Shows,...|A talented batch ...|\n",
      "|    s10|  Movie|        The Starling|     Theodore Melfi|Melissa McCarthy,...|       United States|September 24, 2021|        2021| PG-13|  104 min|    Comedies, Dramas|A woman adjusting...|\n",
      "|    s13|  Movie|        Je Suis Karl|Christian Schwochow|Luna Wedler, Jann...|Germany, Czech Re...|September 23, 2021|        2021| TV-MA|  127 min|Dramas, Internati...|After most of her...|\n",
      "|    s25|  Movie|               Jeans|         S. Shankar|Prashanth, Aishwa...|               India|September 21, 2021|        1998| TV-14|  166 min|Comedies, Interna...|When the father o...|\n",
      "|    s28|  Movie|           Grown Ups|       Dennis Dugan|Adam Sandler, Kev...|       United States|September 20, 2021|        2010| PG-13|  103 min|            Comedies|Mourning the loss...|\n",
      "|    s29|  Movie|          Dark Skies|      Scott Stewart|Keri Russell, Jos...|       United States|September 19, 2021|        2013| PG-13|   97 min|Horror Movies, Sc...|A family’s idylli...|\n",
      "|    s30|  Movie|            Paranoia|     Robert Luketic|Liam Hemsworth, G...|United States, In...|September 19, 2021|        2013| PG-13|  106 min|           Thrillers|Blackmailed by hi...|\n",
      "|    s39|  Movie| Birth of the Dragon|       George Nolfi|Billy Magnussen, ...|China, Canada, Un...|September 16, 2021|        2017| PG-13|   96 min|Action & Adventur...|A young Bruce Lee...|\n",
      "|    s42|  Movie|                Jaws|   Steven Spielberg|Roy Scheider, Rob...|       United States|September 16, 2021|        1975|    PG|  124 min|Action & Adventur...|When an insatiabl...|\n",
      "|    s43|  Movie|              Jaws 2|     Jeannot Szwarc|Roy Scheider, Lor...|       United States|September 16, 2021|        1978|    PG|  116 min|Dramas, Horror Mo...|Four years after ...|\n",
      "|    s44|  Movie|              Jaws 3|          Joe Alves|Dennis Quaid, Bes...|       United States|September 16, 2021|        1983|    PG|   98 min|Action & Adventur...|After the staff o...|\n",
      "|    s45|  Movie|   Jaws: The Revenge|     Joseph Sargent|Lorraine Gary, La...|       United States|September 16, 2021|        1987| PG-13|   91 min|Action & Adventur...|After another dea...|\n",
      "|    s47|  Movie|          Safe House|    Daniel Espinosa|Denzel Washington...|South Africa, Uni...|September 16, 2021|        2012|     R|  115 min|  Action & Adventure|Young CIA operati...|\n",
      "|    s49|  Movie|        Training Day|      Antoine Fuqua|Denzel Washington...|       United States|September 16, 2021|        2001|     R|  122 min|   Dramas, Thrillers|A rookie cop with...|\n",
      "|    s52|  Movie|InuYasha the Movi...|  Toshiya Shinohara|Kappei Yamaguchi,...|               Japan|September 15, 2021|        2002| TV-14|   99 min|Action & Adventur...|With their bigges...|\n",
      "|    s53|  Movie|InuYasha the Movi...|  Toshiya Shinohara|Kappei Yamaguchi,...|               Japan|September 15, 2021|        2003| TV-14|   99 min|Action & Adventur...|The Great Dog Dem...|\n",
      "|    s54|  Movie|InuYasha the Movi...|  Toshiya Shinohara|Kappei Yamaguchi,...|               Japan|September 15, 2021|        2004| TV-PG|   88 min|Action & Adventur...|Ai, a young half-...|\n",
      "|    s55|  Movie|InuYasha the Movi...|  Toshiya Shinohara|Kappei Yamaguchi,...|               Japan|September 15, 2021|        2001| TV-PG|  100 min|Action & Adventur...|A powerful demon ...|\n",
      "|    s57|  Movie|Naruto Shippuden ...|    Masahiko Murata|Junko Takeuchi, C...|               Japan|September 15, 2021|        2011| TV-14|  102 min|Action & Adventur...|Mistakenly accuse...|\n",
      "+-------+-------+--------------------+-------------------+--------------------+--------------------+------------------+------------+------+---------+--------------------+--------------------+\n",
      "only showing top 20 rows\n",
      "\n"
     ]
    }
   ],
   "source": [
    "df.show()"
   ]
  },
  {
   "cell_type": "markdown",
   "metadata": {},
   "source": [
    "### alteração de tipo de coluna"
   ]
  },
  {
   "cell_type": "code",
   "execution_count": 28,
   "metadata": {},
   "outputs": [
    {
     "name": "stdout",
     "output_type": "stream",
     "text": [
      "+-------+-------+--------------------+-------------------+--------------------+--------------------+------------------+------------+------+---------+--------------------+--------------------+\n",
      "|show_id|   type|               title|           director|                cast|             country|        date_added|release_year|rating| duration|           listed_in|         description|\n",
      "+-------+-------+--------------------+-------------------+--------------------+--------------------+------------------+------------+------+---------+--------------------+--------------------+\n",
      "|     s8|  Movie|             Sankofa|       Haile Gerima|Kofi Ghanaba, Oya...|United States, Gh...|September 24, 2021|        1993| TV-MA|  125 min|Dramas, Independe...|On a photo shoot ...|\n",
      "|     s9|TV Show|The Great British...|    Andy Devonshire|Mel Giedroyc, Sue...|      United Kingdom|September 24, 2021|        2021| TV-14|9 Seasons|British TV Shows,...|A talented batch ...|\n",
      "|    s10|  Movie|        The Starling|     Theodore Melfi|Melissa McCarthy,...|       United States|September 24, 2021|        2021| PG-13|  104 min|    Comedies, Dramas|A woman adjusting...|\n",
      "|    s13|  Movie|        Je Suis Karl|Christian Schwochow|Luna Wedler, Jann...|Germany, Czech Re...|September 23, 2021|        2021| TV-MA|  127 min|Dramas, Internati...|After most of her...|\n",
      "|    s25|  Movie|               Jeans|         S. Shankar|Prashanth, Aishwa...|               India|September 21, 2021|        1998| TV-14|  166 min|Comedies, Interna...|When the father o...|\n",
      "+-------+-------+--------------------+-------------------+--------------------+--------------------+------------------+------------+------+---------+--------------------+--------------------+\n",
      "only showing top 5 rows\n",
      "\n"
     ]
    }
   ],
   "source": [
    "df.show(5)"
   ]
  },
  {
   "cell_type": "code",
   "execution_count": 29,
   "metadata": {},
   "outputs": [
    {
     "name": "stdout",
     "output_type": "stream",
     "text": [
      "root\n",
      " |-- show_id: string (nullable = true)\n",
      " |-- type: string (nullable = true)\n",
      " |-- title: string (nullable = true)\n",
      " |-- director: string (nullable = true)\n",
      " |-- cast: string (nullable = true)\n",
      " |-- country: string (nullable = true)\n",
      " |-- date_added: string (nullable = true)\n",
      " |-- release_year: string (nullable = true)\n",
      " |-- rating: string (nullable = true)\n",
      " |-- duration: string (nullable = true)\n",
      " |-- listed_in: string (nullable = true)\n",
      " |-- description: string (nullable = true)\n",
      "\n"
     ]
    }
   ],
   "source": [
    "df.printSchema()"
   ]
  },
  {
   "cell_type": "code",
   "execution_count": 33,
   "metadata": {},
   "outputs": [],
   "source": [
    "df = df.withColumn('release_year', col('release_year').cast(IntegerType()))"
   ]
  },
  {
   "cell_type": "code",
   "execution_count": 34,
   "metadata": {},
   "outputs": [
    {
     "name": "stdout",
     "output_type": "stream",
     "text": [
      "root\n",
      " |-- show_id: string (nullable = true)\n",
      " |-- type: string (nullable = true)\n",
      " |-- title: string (nullable = true)\n",
      " |-- director: string (nullable = true)\n",
      " |-- cast: string (nullable = true)\n",
      " |-- country: string (nullable = true)\n",
      " |-- date_added: string (nullable = true)\n",
      " |-- release_year: integer (nullable = true)\n",
      " |-- rating: string (nullable = true)\n",
      " |-- duration: string (nullable = true)\n",
      " |-- listed_in: string (nullable = true)\n",
      " |-- description: string (nullable = true)\n",
      "\n"
     ]
    }
   ],
   "source": [
    "df.printSchema()"
   ]
  }
 ],
 "metadata": {
  "kernelspec": {
   "display_name": "base",
   "language": "python",
   "name": "python3"
  },
  "language_info": {
   "codemirror_mode": {
    "name": "ipython",
    "version": 3
   },
   "file_extension": ".py",
   "mimetype": "text/x-python",
   "name": "python",
   "nbconvert_exporter": "python",
   "pygments_lexer": "ipython3",
   "version": "3.11.5"
  }
 },
 "nbformat": 4,
 "nbformat_minor": 2
}
